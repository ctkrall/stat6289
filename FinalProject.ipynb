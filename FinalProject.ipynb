{
  "nbformat": 4,
  "nbformat_minor": 0,
  "metadata": {
    "colab": {
      "name": "FinalProject.ipynb",
      "provenance": [],
      "collapsed_sections": []
    },
    "kernelspec": {
      "name": "python3",
      "display_name": "Python 3"
    },
    "language_info": {
      "name": "python"
    }
  },
  "cells": [
    {
      "cell_type": "markdown",
      "source": [
        "Import and split the data into training and testing sets"
      ],
      "metadata": {
        "id": "sq1QPrlxPKG7"
      }
    },
    {
      "cell_type": "code",
      "execution_count": 2,
      "metadata": {
        "id": "JzkR_kt8PEC3"
      },
      "outputs": [],
      "source": [
        "import pandas as pd\n",
        "import numpy as np\n",
        "import keras\n",
        "from keras.preprocessing.sequence import TimeseriesGenerator\n",
        "from keras.layers import LSTM, Dense\n",
        "import plotly.express as px\n",
        "import plotly.graph_objs as go\n",
        "import matplotlib.pyplot as plt"
      ]
    },
    {
      "cell_type": "code",
      "source": [
        "url='https://raw.githubusercontent.com/ctkrall/stat6289/main/finaldata.csv'\n",
        "df = pd.read_csv(url)\n",
        "\n",
        "print(df.columns)\n",
        "#time series the date by the first column of date\n",
        "df['Mea_Date'] = pd.to_datetime(df['Mea_Date'])\n",
        "df.set_axis(df['Mea_Date'], inplace=True)\n",
        "\n",
        "print(len(df))\n",
        "print(df.head())"
      ],
      "metadata": {
        "colab": {
          "base_uri": "https://localhost:8080/"
        },
        "id": "T_TdxrtpZBfP",
        "outputId": "9f0088e8-f8e5-4b57-eb47-e44227363d8e"
      },
      "execution_count": 3,
      "outputs": [
        {
          "output_type": "stream",
          "name": "stdout",
          "text": [
            "Index(['Mea_Date', 'SBP'], dtype='object')\n",
            "676\n",
            "             Mea_Date  SBP\n",
            "Mea_Date                  \n",
            "2016-11-01 2016-11-01  137\n",
            "2016-11-02 2016-11-02  139\n",
            "2016-11-04 2016-11-04  121\n",
            "2016-11-08 2016-11-08  119\n",
            "2016-11-09 2016-11-09  117\n"
          ]
        }
      ]
    },
    {
      "cell_type": "code",
      "source": [
        "#set the train set and the validation set\n",
        "SBP_data = df['SBP'].values\n",
        "SBP_data = SBP_data.reshape((-1,1))\n",
        "#we use the 2/3 length as the training set\n",
        "#rest of dateset as the validation set\n",
        "split_percent = 0.75\n",
        "split = int(split_percent*len(SBP_data))\n",
        "\n",
        "SBP_trainset = SBP_data[:split]\n",
        "SBP_validset = SBP_data[split:]\n",
        "\n",
        "date_trainset = df['Mea_Date'][:split]\n",
        "date_validset = df['Mea_Date'][split:]\n",
        "\n",
        "\n",
        "print(len(SBP_trainset))\n",
        "print(len(SBP_validset))"
      ],
      "metadata": {
        "colab": {
          "base_uri": "https://localhost:8080/"
        },
        "id": "8mpWti6tdDBP",
        "outputId": "dfa616e2-c621-4433-a06c-f80fbf49b450"
      },
      "execution_count": null,
      "outputs": [
        {
          "output_type": "stream",
          "name": "stdout",
          "text": [
            "507\n",
            "169\n"
          ]
        }
      ]
    },
    {
      "cell_type": "code",
      "source": [
        "look_back = 50\n",
        "\n",
        "train_generator = TimeseriesGenerator(SBP_trainset, SBP_trainset, length=look_back, batch_size=20)"
      ],
      "metadata": {
        "id": "wEtg99XloqB4"
      },
      "execution_count": null,
      "outputs": []
    },
    {
      "cell_type": "code",
      "source": [
        "test_generator = TimeseriesGenerator(SBP_validset, SBP_validset, length=look_back, batch_size=1)"
      ],
      "metadata": {
        "id": "F_wDYPQjrdBy"
      },
      "execution_count": null,
      "outputs": []
    },
    {
      "cell_type": "markdown",
      "source": [
        "Define a multilayer RNN"
      ],
      "metadata": {
        "id": "JmUTX449PR6l"
      }
    },
    {
      "cell_type": "code",
      "source": [
        "model = keras.Sequential()\n",
        "model.add(keras.Input(shape = (507, 1)))\n",
        "model.add(keras.layers.SimpleRNN(100, activation = 'relu'))\n",
        "model.add(keras.layers.Dense(1))\n",
        "\n",
        "model.compile(optimizer='adam', loss='mse', metrics=[keras.metrics.MeanSquaredError()])\n",
        "\n",
        "print(model.summary())"
      ],
      "metadata": {
        "colab": {
          "base_uri": "https://localhost:8080/"
        },
        "id": "ckZinXPrPRR0",
        "outputId": "a9651b00-b5e4-4987-c939-3b2cb1534a10"
      },
      "execution_count": null,
      "outputs": [
        {
          "output_type": "stream",
          "name": "stdout",
          "text": [
            "Model: \"sequential_3\"\n",
            "_________________________________________________________________\n",
            " Layer (type)                Output Shape              Param #   \n",
            "=================================================================\n",
            " simple_rnn_3 (SimpleRNN)    (None, 100)               10200     \n",
            "                                                                 \n",
            " dense_3 (Dense)             (None, 1)                 101       \n",
            "                                                                 \n",
            "=================================================================\n",
            "Total params: 10,301\n",
            "Trainable params: 10,301\n",
            "Non-trainable params: 0\n",
            "_________________________________________________________________\n",
            "None\n"
          ]
        }
      ]
    },
    {
      "cell_type": "markdown",
      "source": [
        "train the model"
      ],
      "metadata": {
        "id": "h9Zf0NmFq4CW"
      }
    },
    {
      "cell_type": "code",
      "source": [
        "num_epochs = 30\n",
        "history = model.fit(train_generator, epochs=num_epochs, validation_data = test_generator, verbose=1)\n"
      ],
      "metadata": {
        "colab": {
          "base_uri": "https://localhost:8080/"
        },
        "id": "MF-IqCGgq4sX",
        "outputId": "7e55fd3d-353f-47c4-fe63-f16d1c023ee3"
      },
      "execution_count": null,
      "outputs": [
        {
          "output_type": "stream",
          "name": "stdout",
          "text": [
            "Epoch 1/30\n",
            "23/23 [==============================] - 1s 31ms/step - loss: 3165.0703 - val_loss: 387.3386\n",
            "Epoch 2/30\n",
            "23/23 [==============================] - 0s 21ms/step - loss: 240.1901 - val_loss: 192.0197\n",
            "Epoch 3/30\n",
            "23/23 [==============================] - 0s 22ms/step - loss: 179.8754 - val_loss: 168.4360\n",
            "Epoch 4/30\n",
            "23/23 [==============================] - 0s 21ms/step - loss: 174.4143 - val_loss: 160.8901\n",
            "Epoch 5/30\n",
            "23/23 [==============================] - 0s 21ms/step - loss: 169.9183 - val_loss: 159.7212\n",
            "Epoch 6/30\n",
            "23/23 [==============================] - 0s 20ms/step - loss: 168.6768 - val_loss: 158.6275\n",
            "Epoch 7/30\n",
            "23/23 [==============================] - 1s 23ms/step - loss: 167.8102 - val_loss: 157.6854\n",
            "Epoch 8/30\n",
            "23/23 [==============================] - 1s 22ms/step - loss: 166.7655 - val_loss: 157.5122\n",
            "Epoch 9/30\n",
            "23/23 [==============================] - 0s 21ms/step - loss: 166.2708 - val_loss: 156.4926\n",
            "Epoch 10/30\n",
            "23/23 [==============================] - 1s 22ms/step - loss: 170.8645 - val_loss: 161.3492\n",
            "Epoch 11/30\n",
            "23/23 [==============================] - 0s 22ms/step - loss: 167.8683 - val_loss: 166.0647\n",
            "Epoch 12/30\n",
            "23/23 [==============================] - 0s 20ms/step - loss: 167.5912 - val_loss: 156.2915\n",
            "Epoch 13/30\n",
            "23/23 [==============================] - 1s 24ms/step - loss: 163.9874 - val_loss: 154.0414\n",
            "Epoch 14/30\n",
            "23/23 [==============================] - 0s 21ms/step - loss: 162.8257 - val_loss: 154.2748\n",
            "Epoch 15/30\n",
            "23/23 [==============================] - 1s 23ms/step - loss: 169.0607 - val_loss: 157.7086\n",
            "Epoch 16/30\n",
            "23/23 [==============================] - 0s 20ms/step - loss: 163.2379 - val_loss: 152.0058\n",
            "Epoch 17/30\n",
            "23/23 [==============================] - 1s 24ms/step - loss: 161.1396 - val_loss: 158.1114\n",
            "Epoch 18/30\n",
            "23/23 [==============================] - 1s 22ms/step - loss: 165.3594 - val_loss: 159.4164\n",
            "Epoch 19/30\n",
            "23/23 [==============================] - 1s 22ms/step - loss: 170.2305 - val_loss: 167.2671\n",
            "Epoch 20/30\n",
            "23/23 [==============================] - 0s 21ms/step - loss: 165.1952 - val_loss: 151.7998\n",
            "Epoch 21/30\n",
            "23/23 [==============================] - 0s 21ms/step - loss: 162.1057 - val_loss: 150.3656\n",
            "Epoch 22/30\n",
            "23/23 [==============================] - 1s 22ms/step - loss: 161.9326 - val_loss: 149.9590\n",
            "Epoch 23/30\n",
            "23/23 [==============================] - 0s 20ms/step - loss: 162.7603 - val_loss: 158.0707\n",
            "Epoch 24/30\n",
            "23/23 [==============================] - 1s 22ms/step - loss: 164.3957 - val_loss: 150.7866\n",
            "Epoch 25/30\n",
            "23/23 [==============================] - 0s 20ms/step - loss: 169.8382 - val_loss: 155.9593\n",
            "Epoch 26/30\n",
            "23/23 [==============================] - 0s 22ms/step - loss: 183.9676 - val_loss: 168.1252\n",
            "Epoch 27/30\n",
            "23/23 [==============================] - 0s 21ms/step - loss: 162.4389 - val_loss: 151.6065\n",
            "Epoch 28/30\n",
            "23/23 [==============================] - 0s 21ms/step - loss: 159.3854 - val_loss: 157.7915\n",
            "Epoch 29/30\n",
            "23/23 [==============================] - 1s 22ms/step - loss: 161.6002 - val_loss: 150.0856\n",
            "Epoch 30/30\n",
            "23/23 [==============================] - 1s 22ms/step - loss: 157.6340 - val_loss: 169.6573\n"
          ]
        }
      ]
    },
    {
      "cell_type": "code",
      "source": [
        "#model2 with added layer\n",
        "model2 = keras.Sequential()\n",
        "model2.add(keras.layers.SimpleRNN(\n",
        "        input_shape = (look_back, 1), return_sequences = True, activation = 'relu',\n",
        "        units = 100))\n",
        "model2.add(keras.layers.SimpleRNN(\n",
        "        input_shape = (look_back, 1), activation = 'relu',\n",
        "        units = 100))\n",
        "model2.add(Dense(\n",
        "        units = 1,\n",
        "        activation = 'relu'))\n",
        "\n",
        "model2.compile(loss = 'mse', optimizer = 'adam', metrics=[keras.metrics.MeanSquaredError()])\n",
        "\n",
        "history2 = model2.fit(train_generator, epochs=num_epochs, validation_data=test_generator,verbose=1)"
      ],
      "metadata": {
        "colab": {
          "base_uri": "https://localhost:8080/"
        },
        "id": "Jap-YE371PYF",
        "outputId": "7338b8d9-45c3-4e3f-fb82-49ab17c7e152"
      },
      "execution_count": null,
      "outputs": [
        {
          "output_type": "stream",
          "name": "stdout",
          "text": [
            "Epoch 1/30\n",
            "23/23 [==============================] - 3s 50ms/step - loss: 867.5688 - val_loss: 155.0079\n",
            "Epoch 2/30\n",
            "23/23 [==============================] - 1s 39ms/step - loss: 175.0830 - val_loss: 154.6775\n",
            "Epoch 3/30\n",
            "23/23 [==============================] - 1s 37ms/step - loss: 163.0023 - val_loss: 158.6660\n",
            "Epoch 4/30\n",
            "23/23 [==============================] - 1s 38ms/step - loss: 162.5920 - val_loss: 154.1673\n",
            "Epoch 5/30\n",
            "23/23 [==============================] - 1s 40ms/step - loss: 165.9654 - val_loss: 202.4788\n",
            "Epoch 6/30\n",
            "23/23 [==============================] - 1s 40ms/step - loss: 194.9017 - val_loss: 158.2660\n",
            "Epoch 7/30\n",
            "23/23 [==============================] - 1s 38ms/step - loss: 167.4931 - val_loss: 156.1584\n",
            "Epoch 8/30\n",
            "23/23 [==============================] - 1s 37ms/step - loss: 164.4059 - val_loss: 151.2498\n",
            "Epoch 9/30\n",
            "23/23 [==============================] - 1s 39ms/step - loss: 165.3101 - val_loss: 159.4403\n",
            "Epoch 10/30\n",
            "23/23 [==============================] - 1s 39ms/step - loss: 180.3361 - val_loss: 155.4049\n",
            "Epoch 11/30\n",
            "23/23 [==============================] - 1s 37ms/step - loss: 170.5470 - val_loss: 185.4286\n",
            "Epoch 12/30\n",
            "23/23 [==============================] - 1s 38ms/step - loss: 173.2621 - val_loss: 162.0287\n",
            "Epoch 13/30\n",
            "23/23 [==============================] - 1s 38ms/step - loss: 163.4355 - val_loss: 186.2956\n",
            "Epoch 14/30\n",
            "23/23 [==============================] - 1s 37ms/step - loss: 172.0382 - val_loss: 151.5058\n",
            "Epoch 15/30\n",
            "23/23 [==============================] - 1s 37ms/step - loss: 161.2300 - val_loss: 157.1446\n",
            "Epoch 16/30\n",
            "23/23 [==============================] - 1s 39ms/step - loss: 162.1256 - val_loss: 156.8416\n",
            "Epoch 17/30\n",
            "23/23 [==============================] - 1s 38ms/step - loss: 170.5444 - val_loss: 150.0743\n",
            "Epoch 18/30\n",
            "23/23 [==============================] - 1s 39ms/step - loss: 173.0712 - val_loss: 152.4125\n",
            "Epoch 19/30\n",
            "23/23 [==============================] - 1s 39ms/step - loss: 164.0679 - val_loss: 152.0742\n",
            "Epoch 20/30\n",
            "23/23 [==============================] - 1s 39ms/step - loss: 165.7103 - val_loss: 149.4230\n",
            "Epoch 21/30\n",
            "23/23 [==============================] - 1s 38ms/step - loss: 163.5537 - val_loss: 167.6848\n",
            "Epoch 22/30\n",
            "23/23 [==============================] - 1s 36ms/step - loss: 178.9173 - val_loss: 149.7868\n",
            "Epoch 23/30\n",
            "23/23 [==============================] - 1s 39ms/step - loss: 160.8828 - val_loss: 161.0207\n",
            "Epoch 24/30\n",
            "23/23 [==============================] - 1s 38ms/step - loss: 166.5840 - val_loss: 149.0372\n",
            "Epoch 25/30\n",
            "23/23 [==============================] - 1s 41ms/step - loss: 161.8115 - val_loss: 152.1731\n",
            "Epoch 26/30\n",
            "23/23 [==============================] - 1s 37ms/step - loss: 159.8384 - val_loss: 148.1701\n",
            "Epoch 27/30\n",
            "23/23 [==============================] - 1s 37ms/step - loss: 157.6386 - val_loss: 151.3951\n",
            "Epoch 28/30\n",
            "23/23 [==============================] - 1s 37ms/step - loss: 159.1826 - val_loss: 158.8609\n",
            "Epoch 29/30\n",
            "23/23 [==============================] - 1s 39ms/step - loss: 161.1303 - val_loss: 147.5061\n",
            "Epoch 30/30\n",
            "23/23 [==============================] - 1s 37ms/step - loss: 160.0999 - val_loss: 164.8833\n"
          ]
        }
      ]
    },
    {
      "cell_type": "code",
      "source": [
        "#model3 with two added layers\n",
        "model3 = keras.Sequential()\n",
        "model3.add(keras.layers.SimpleRNN(\n",
        "        input_shape = (look_back, 1), return_sequences = True, activation = 'relu',\n",
        "        units = 100))\n",
        "model3.add(keras.layers.SimpleRNN(\n",
        "        input_shape = (look_back, 1), return_sequences = True, activation = 'relu',\n",
        "        units = 100))\n",
        "model3.add(keras.layers.SimpleRNN(\n",
        "        input_shape = (look_back, 1), activation = 'relu',\n",
        "        units = 100))\n",
        "model3.add(Dense(\n",
        "        units = 1,\n",
        "        activation = 'relu'))\n",
        "\n",
        "model3.compile(loss = 'mse', optimizer = 'adam', metrics=[keras.metrics.MeanSquaredError(), keras.metrics.RootMeanSquaredError()])\n",
        "history3 = model3.fit(train_generator, epochs=num_epochs, validation_data=test_generator,verbose=1)"
      ],
      "metadata": {
        "colab": {
          "base_uri": "https://localhost:8080/"
        },
        "id": "oSX0yYoF1QO_",
        "outputId": "42ac5854-1207-41ca-81e0-6a1cc4250a09"
      },
      "execution_count": null,
      "outputs": [
        {
          "output_type": "stream",
          "name": "stdout",
          "text": [
            "Epoch 1/30\n",
            "23/23 [==============================] - 3s 68ms/step - loss: 1572.3114 - val_loss: 224.3973\n",
            "Epoch 2/30\n",
            "23/23 [==============================] - 1s 55ms/step - loss: 177.2910 - val_loss: 151.8821\n",
            "Epoch 3/30\n",
            "23/23 [==============================] - 1s 53ms/step - loss: 162.9300 - val_loss: 165.2227\n",
            "Epoch 4/30\n",
            "23/23 [==============================] - 1s 54ms/step - loss: 179.6818 - val_loss: 148.8820\n",
            "Epoch 5/30\n",
            "23/23 [==============================] - 1s 54ms/step - loss: 165.5552 - val_loss: 161.4560\n",
            "Epoch 6/30\n",
            "23/23 [==============================] - 1s 54ms/step - loss: 170.7484 - val_loss: 151.7294\n",
            "Epoch 7/30\n",
            "23/23 [==============================] - 1s 54ms/step - loss: 174.2212 - val_loss: 149.9335\n",
            "Epoch 8/30\n",
            "23/23 [==============================] - 1s 54ms/step - loss: 158.6931 - val_loss: 147.9112\n",
            "Epoch 9/30\n",
            "23/23 [==============================] - 1s 54ms/step - loss: 157.7069 - val_loss: 144.5227\n",
            "Epoch 10/30\n",
            "23/23 [==============================] - 1s 53ms/step - loss: 169.4223 - val_loss: 145.4985\n",
            "Epoch 11/30\n",
            "23/23 [==============================] - 1s 53ms/step - loss: 163.8506 - val_loss: 167.6555\n",
            "Epoch 12/30\n",
            "23/23 [==============================] - 1s 54ms/step - loss: 161.4469 - val_loss: 174.1519\n",
            "Epoch 13/30\n",
            "23/23 [==============================] - 1s 56ms/step - loss: 165.5470 - val_loss: 147.5970\n",
            "Epoch 14/30\n",
            "23/23 [==============================] - 1s 57ms/step - loss: 169.5254 - val_loss: 195.3072\n",
            "Epoch 15/30\n",
            "23/23 [==============================] - 1s 54ms/step - loss: 173.8059 - val_loss: 191.4312\n",
            "Epoch 16/30\n",
            "23/23 [==============================] - 1s 56ms/step - loss: 165.9394 - val_loss: 147.8924\n",
            "Epoch 17/30\n",
            "23/23 [==============================] - 1s 59ms/step - loss: 160.3377 - val_loss: 159.0531\n",
            "Epoch 18/30\n",
            "23/23 [==============================] - 1s 53ms/step - loss: 158.1296 - val_loss: 153.8627\n",
            "Epoch 19/30\n",
            "23/23 [==============================] - 1s 57ms/step - loss: 177.2315 - val_loss: 177.2445\n",
            "Epoch 20/30\n",
            "23/23 [==============================] - 1s 54ms/step - loss: 172.6831 - val_loss: 147.4617\n",
            "Epoch 21/30\n",
            "23/23 [==============================] - 1s 53ms/step - loss: 165.3140 - val_loss: 146.8544\n",
            "Epoch 22/30\n",
            "23/23 [==============================] - 1s 54ms/step - loss: 172.3621 - val_loss: 155.1516\n",
            "Epoch 23/30\n",
            "23/23 [==============================] - 1s 55ms/step - loss: 160.3356 - val_loss: 148.0715\n",
            "Epoch 24/30\n",
            "23/23 [==============================] - 1s 55ms/step - loss: 157.9591 - val_loss: 153.6027\n",
            "Epoch 25/30\n",
            "23/23 [==============================] - 1s 54ms/step - loss: 172.9151 - val_loss: 150.3219\n",
            "Epoch 26/30\n",
            "23/23 [==============================] - 1s 54ms/step - loss: 160.5043 - val_loss: 154.2782\n",
            "Epoch 27/30\n",
            "23/23 [==============================] - 1s 56ms/step - loss: 157.5025 - val_loss: 145.8476\n",
            "Epoch 28/30\n",
            "23/23 [==============================] - 1s 55ms/step - loss: 159.8072 - val_loss: 147.0701\n",
            "Epoch 29/30\n",
            "23/23 [==============================] - 1s 54ms/step - loss: 165.5810 - val_loss: 147.5418\n",
            "Epoch 30/30\n",
            "23/23 [==============================] - 1s 51ms/step - loss: 170.7114 - val_loss: 164.2006\n"
          ]
        }
      ]
    },
    {
      "cell_type": "markdown",
      "source": [
        "Graph loss vs epoch for all models"
      ],
      "metadata": {
        "id": "YGIxlDi1PnOw"
      }
    },
    {
      "cell_type": "code",
      "source": [
        "# plot history\n",
        "plt.plot(history.history['loss'], label='train')\n",
        "plt.plot(history.history['val_loss'], label='test')\n",
        "#pyplot.legend()\n",
        "\n",
        "plt.title('model loss',size=15)\n",
        "plt.ylabel('loss',size=15)\n",
        "plt.xlabel('epochs',size=15)\n",
        "plt.legend(loc='upper right',fontsize=15)\n",
        "\n",
        "plt.show()"
      ],
      "metadata": {
        "colab": {
          "base_uri": "https://localhost:8080/",
          "height": 302
        },
        "id": "5Y2-SHN1PmBv",
        "outputId": "7d88449a-8edf-4644-fcae-33c0f8f18a2d"
      },
      "execution_count": null,
      "outputs": [
        {
          "output_type": "display_data",
          "data": {
            "text/plain": [
              "<Figure size 432x288 with 1 Axes>"
            ],
            "image/png": "[encoded data removed]"
          },
          "metadata": {
            "needs_background": "light"
          }
        }
      ]
    },
    {
      "cell_type": "code",
      "source": [
        "# plot history\n",
        "plt.plot(history2.history['loss'], label='train')\n",
        "plt.plot(history2.history['val_loss'], label='test')\n",
        "#pyplot.legend()\n",
        "\n",
        "plt.title('model loss',size=15)\n",
        "plt.ylabel('loss',size=15)\n",
        "plt.xlabel('epochs',size=15)\n",
        "plt.legend(loc='upper right',fontsize=15)\n",
        "\n",
        "plt.show()"
      ],
      "metadata": {
        "colab": {
          "base_uri": "https://localhost:8080/",
          "height": 302
        },
        "id": "KKh934Qoa60Z",
        "outputId": "cf9a66f7-c520-4480-ac6c-8a5edec63f26"
      },
      "execution_count": null,
      "outputs": [
        {
          "output_type": "display_data",
          "data": {
            "text/plain": [
              "<Figure size 432x288 with 1 Axes>"
            ],
            "image/png": "[encoded data removed]"
          },
          "metadata": {
            "needs_background": "light"
          }
        }
      ]
    },
    {
      "cell_type": "code",
      "source": [
        "# plot history\n",
        "plt.plot(history3.history['loss'], label='train')\n",
        "plt.plot(history3.history['val_loss'], label='test')\n",
        "#pyplot.legend()\n",
        "\n",
        "plt.title('model loss',size=15)\n",
        "plt.ylabel('loss',size=15)\n",
        "plt.xlabel('epochs',size=15)\n",
        "plt.legend(loc='upper right',fontsize=15)\n",
        "\n",
        "plt.show()"
      ],
      "metadata": {
        "colab": {
          "base_uri": "https://localhost:8080/",
          "height": 302
        },
        "id": "EmVk7tjYYTrn",
        "outputId": "eaadfc3b-322c-4fc2-b4c7-e58dfea486ee"
      },
      "execution_count": null,
      "outputs": [
        {
          "output_type": "display_data",
          "data": {
            "text/plain": [
              "<Figure size 432x288 with 1 Axes>"
            ],
            "image/png": "[encoded data removed]"
          },
          "metadata": {
            "needs_background": "light"
          }
        }
      ]
    },
    {
      "cell_type": "markdown",
      "source": [
        "predicting future values"
      ],
      "metadata": {
        "id": "iiunU42adlWZ"
      }
    },
    {
      "cell_type": "code",
      "source": [
        "SBP_prediction = model.predict(test_generator)\n",
        "SBP_prediction2 = model2.predict(test_generator)\n",
        "SBP_prediction3 = model3.predict(test_generator)\n",
        "\n",
        "\n",
        "SBP_trainset = SBP_trainset.reshape((-1))\n",
        "SBP_validset = SBP_validset.reshape((-1))\n",
        "SBP_prediction = SBP_prediction.reshape((-1))\n",
        "SBP_prediction2 = SBP_prediction2.reshape((-1))\n",
        "SBP_prediction3 = SBP_prediction3.reshape((-1))"
      ],
      "metadata": {
        "id": "nCbD2z5ZrJfF"
      },
      "execution_count": null,
      "outputs": []
    },
    {
      "cell_type": "markdown",
      "source": [
        "get mse, rmse, mae"
      ],
      "metadata": {
        "id": "8L3N9p1He-4n"
      }
    },
    {
      "cell_type": "markdown",
      "source": [
        "Visualize the result"
      ],
      "metadata": {
        "id": "o3lUF9kt2pKH"
      }
    },
    {
      "cell_type": "code",
      "source": [
        "\n",
        "trace1 = go.Scatter(\n",
        "    x = date_trainset,\n",
        "    y = SBP_trainset,\n",
        "    mode = 'lines',\n",
        "    name = 'Data'\n",
        ")\n",
        "\n",
        "trace2 = go.Scatter(\n",
        "    x = date_validset,\n",
        "    y = SBP_prediction,\n",
        "    mode = 'lines',\n",
        "    name = 'Prediction'\n",
        ")\n",
        "trace3 = go.Scatter(\n",
        "    x = date_validset,\n",
        "    y = SBP_validset,\n",
        "    mode='lines',\n",
        "    name = 'Ground Truth'\n",
        ")\n",
        "trace4 = go.Scatter(\n",
        "    x = date_validset,\n",
        "    y = SBP_prediction2,\n",
        "    mode = 'lines',\n",
        "    name = 'Prediction_2'\n",
        ")\n",
        "trace5 = go.Scatter(\n",
        "    x = date_validset,\n",
        "    y = SBP_prediction3,\n",
        "    mode = 'lines',\n",
        "    name = 'Prediction_3'\n",
        ")\n",
        "layout = go.Layout(\n",
        "    title = \"SBP forecating\",\n",
        "    xaxis = {'title' : \"Date\"},\n",
        "    yaxis = {'title' : \"SBP(mmHg)\"}\n",
        ")\n",
        "fig = go.Figure(data=[trace1, trace2, trace3,trace4,trace5], layout=layout, layout_xaxis_range=['2018-07-01','2019-10-23'])\n",
        "fig.show()"
      ],
      "metadata": {
        "colab": {
          "base_uri": "https://localhost:8080/",
          "height": 542
        },
        "id": "kM136q0G2p-e",
        "outputId": "1e70fc40-1535-4ddb-80cc-1724e6b7202a"
      },
      "execution_count": null,
      "outputs": [
        {
          "output_type": "display_data",
          "data": {
            "text/html": [
              "<html>\n",
              "<head><meta charset=\"utf-8\" /></head>\n",
              "<body>\n",
              "    <div>            <script src=\"https://cdnjs.cloudflare.com/ajax/libs/mathjax/2.7.5/MathJax.js?config=TeX-AMS-MML_SVG\"></script><script type=\"text/javascript\">if (window.MathJax) {MathJax.Hub.Config({SVG: {font: \"STIX-Web\"}});}</script>                <script type=\"text/javascript\">window.PlotlyConfig = {MathJaxConfig: 'local'};</script>\n",
              "        <script src=\"https://cdn.plot.ly/plotly-2.8.3.min.js\"></script>                <div id=\"470f60e1-3a1a-4b9a-b2ea-be11d2095224\" class=\"plotly-graph-div\" style=\"height:525px; width:100%;\"></div>            <script type=\"text/javascript\">                                    window.PLOTLYENV=window.PLOTLYENV || {};                                    if (document.getElementById(\"470f60e1-3a1a-4b9a-b2ea-be11d2095224\")) {                    Plotly.newPlot(                        \"470f60e1-3a1a-4b9a-b2ea-be11d2095224\",                        [{\"mode\":\"lines\",\"name\":\"Data\",\"x\":[\"2016-11-01T00:00:00\",\"2016-11-02T00:00:00\",\"2016-11-04T00:00:00\",\"2016-11-08T00:00:00\",\"2016-11-09T00:00:00\",\"2016-11-10T00:00:00\",\"2016-11-11T00:00:00\",\"2016-11-15T00:00:00\",\"2016-11-16T00:00:00\",\"2016-11-17T00:00:00\",\"2016-11-21T00:00:00\",\"2016-11-21T00:00:00\",\"2016-11-22T00:00:00\",\"2016-11-23T00:00:00\",\"2016-11-24T00:00:00\",\"2016-11-25T00:00:00\",\"2016-11-28T00:00:00\",\"2016-11-30T00:00:00\",\"2016-12-01T00:00:00\",\"2016-12-02T00:00:00\",\"2016-12-05T00:00:00\",\"2016-12-05T00:00:00\",\"2016-12-06T00:00:00\",\"2016-12-07T00:00:00\",\"2016-12-08T00:00:00\",\"2016-12-09T00:00:00\",\"2016-12-12T00:00:00\",\"2016-12-14T00:00:00\",\"2016-12-15T00:00:00\",\"2016-12-19T00:00:00\",\"2016-12-19T00:00:00\",\"2016-12-20T00:00:00\",\"2016-12-21T00:00:00\",\"2016-12-22T00:00:00\",\"2016-12-23T00:00:00\",\"2016-12-23T00:00:00\",\"2016-12-28T00:00:00\",\"2016-12-30T00:00:00\",\"2017-01-03T00:00:00\",\"2017-01-04T00:00:00\",\"2017-01-05T00:00:00\",\"2017-01-06T00:00:00\",\"2017-01-09T00:00:00\",\"2017-01-10T00:00:00\",\"2017-01-11T00:00:00\",\"2017-01-13T00:00:00\",\"2017-01-16T00:00:00\",\"2017-01-17T00:00:00\",\"2017-01-18T00:00:00\",\"2017-01-19T00:00:00\",\"2017-01-20T00:00:00\",\"2017-01-23T00:00:00\",\"2017-01-24T00:00:00\",\"2017-01-25T00:00:00\",\"2017-01-26T00:00:00\",\"2017-01-27T00:00:00\",\"2017-02-02T00:00:00\",\"2017-02-06T00:00:00\",\"2017-02-06T00:00:00\",\"2017-02-07T00:00:00\",\"2017-02-08T00:00:00\",\"2017-02-09T00:00:00\",\"2017-02-10T00:00:00\",\"2017-02-13T00:00:00\",\"2017-02-14T00:00:00\",\"2017-02-15T00:00:00\",\"2017-02-16T00:00:00\",\"2017-02-17T00:00:00\",\"2017-02-20T00:00:00\",\"2017-02-21T00:00:00\",\"2017-02-22T00:00:00\",\"2017-02-23T00:00:00\",\"2017-02-24T00:00:00\",\"2017-02-27T00:00:00\",\"2017-02-28T00:00:00\",\"2017-03-01T00:00:00\",\"2017-03-02T00:00:00\",\"2017-03-20T00:00:00\",\"2017-03-21T00:00:00\",\"2017-03-22T00:00:00\",\"2017-03-23T00:00:00\",\"2017-03-24T00:00:00\",\"2017-03-27T00:00:00\",\"2017-03-29T00:00:00\",\"2017-03-30T00:00:00\",\"2017-03-31T00:00:00\",\"2017-04-03T00:00:00\",\"2017-04-06T00:00:00\",\"2017-04-07T00:00:00\",\"2017-04-10T00:00:00\",\"2017-04-12T00:00:00\",\"2017-04-13T00:00:00\",\"2017-04-18T00:00:00\",\"2017-04-19T00:00:00\",\"2017-04-20T00:00:00\",\"2017-04-21T00:00:00\",\"2017-04-24T00:00:00\",\"2017-04-25T00:00:00\",\"2017-04-27T00:00:00\",\"2017-04-28T00:00:00\",\"2017-05-02T00:00:00\",\"2017-05-04T00:00:00\",\"2017-05-05T00:00:00\",\"2017-05-08T00:00:00\",\"2017-05-09T00:00:00\",\"2017-05-10T00:00:00\",\"2017-05-11T00:00:00\",\"2017-05-12T00:00:00\",\"2017-05-15T00:00:00\",\"2017-05-16T00:00:00\",\"2017-05-17T00:00:00\",\"2017-05-18T00:00:00\",\"2017-05-19T00:00:00\",\"2017-05-22T00:00:00\",\"2017-05-23T00:00:00\",\"2017-05-24T00:00:00\",\"2017-05-25T00:00:00\",\"2017-05-29T00:00:00\",\"2017-05-31T00:00:00\",\"2017-06-01T00:00:00\",\"2017-06-01T00:00:00\",\"2017-06-02T00:00:00\",\"2017-06-05T00:00:00\",\"2017-06-05T00:00:00\",\"2017-06-06T00:00:00\",\"2017-06-07T00:00:00\",\"2017-06-08T00:00:00\",\"2017-06-12T00:00:00\",\"2017-06-13T00:00:00\",\"2017-06-14T00:00:00\",\"2017-06-15T00:00:00\",\"2017-06-16T00:00:00\",\"2017-06-19T00:00:00\",\"2017-06-19T00:00:00\",\"2017-06-20T00:00:00\",\"2017-06-21T00:00:00\",\"2017-06-22T00:00:00\",\"2017-06-23T00:00:00\",\"2017-06-26T00:00:00\",\"2017-06-27T00:00:00\",\"2017-06-28T00:00:00\",\"2017-06-29T00:00:00\",\"2017-06-30T00:00:00\",\"2017-07-03T00:00:00\",\"2017-07-04T00:00:00\",\"2017-07-05T00:00:00\",\"2017-07-06T00:00:00\",\"2017-07-07T00:00:00\",\"2017-07-10T00:00:00\",\"2017-07-11T00:00:00\",\"2017-07-12T00:00:00\",\"2017-07-13T00:00:00\",\"2017-07-14T00:00:00\",\"2017-07-14T00:00:00\",\"2017-07-17T00:00:00\",\"2017-07-18T00:00:00\",\"2017-07-19T00:00:00\",\"2017-07-20T00:00:00\",\"2017-07-21T00:00:00\",\"2017-07-24T00:00:00\",\"2017-07-25T00:00:00\",\"2017-07-26T00:00:00\",\"2017-07-27T00:00:00\",\"2017-07-31T00:00:00\",\"2017-08-01T00:00:00\",\"2017-08-02T00:00:00\",\"2017-08-03T00:00:00\",\"2017-08-04T00:00:00\",\"2017-08-07T00:00:00\",\"2017-08-08T00:00:00\",\"2017-08-09T00:00:00\",\"2017-08-10T00:00:00\",\"2017-08-11T00:00:00\",\"2017-08-14T00:00:00\",\"2017-08-15T00:00:00\",\"2017-08-16T00:00:00\",\"2017-08-17T00:00:00\",\"2017-08-18T00:00:00\",\"2017-08-21T00:00:00\",\"2017-08-24T00:00:00\",\"2017-08-25T00:00:00\",\"2017-08-28T00:00:00\",\"2017-08-30T00:00:00\",\"2017-08-31T00:00:00\",\"2017-09-05T00:00:00\",\"2017-09-06T00:00:00\",\"2017-09-07T00:00:00\",\"2017-09-11T00:00:00\",\"2017-09-12T00:00:00\",\"2017-09-13T00:00:00\",\"2017-09-14T00:00:00\",\"2017-09-15T00:00:00\",\"2017-09-19T00:00:00\",\"2017-09-22T00:00:00\",\"2017-09-25T00:00:00\",\"2017-09-26T00:00:00\",\"2017-09-27T00:00:00\",\"2017-09-28T00:00:00\",\"2017-09-29T00:00:00\",\"2017-10-03T00:00:00\",\"2017-10-04T00:00:00\",\"2017-10-06T00:00:00\",\"2017-10-10T00:00:00\",\"2017-10-12T00:00:00\",\"2017-10-13T00:00:00\",\"2017-10-16T00:00:00\",\"2017-10-17T00:00:00\",\"2017-10-18T00:00:00\",\"2017-10-19T00:00:00\",\"2017-10-23T00:00:00\",\"2017-10-24T00:00:00\",\"2017-10-25T00:00:00\",\"2017-10-26T00:00:00\",\"2017-10-31T00:00:00\",\"2017-11-01T00:00:00\",\"2017-11-02T00:00:00\",\"2017-11-07T00:00:00\",\"2017-11-08T00:00:00\",\"2017-11-09T00:00:00\",\"2017-11-10T00:00:00\",\"2017-11-13T00:00:00\",\"2017-11-14T00:00:00\",\"2017-11-15T00:00:00\",\"2017-11-16T00:00:00\",\"2017-11-17T00:00:00\",\"2017-11-20T00:00:00\",\"2017-11-21T00:00:00\",\"2017-11-22T00:00:00\",\"2017-11-23T00:00:00\",\"2017-11-24T00:00:00\",\"2017-11-27T00:00:00\",\"2017-11-28T00:00:00\",\"2017-11-29T00:00:00\",\"2017-11-30T00:00:00\",\"2017-12-01T00:00:00\",\"2017-12-04T00:00:00\",\"2017-12-05T00:00:00\",\"2017-12-06T00:00:00\",\"2017-12-07T00:00:00\",\"2017-12-08T00:00:00\",\"2017-12-11T00:00:00\",\"2017-12-12T00:00:00\",\"2017-12-14T00:00:00\",\"2017-12-15T00:00:00\",\"2017-12-19T00:00:00\",\"2017-12-20T00:00:00\",\"2017-12-21T00:00:00\",\"2017-12-22T00:00:00\",\"2017-12-27T00:00:00\",\"2017-12-28T00:00:00\",\"2017-12-29T00:00:00\",\"2018-01-02T00:00:00\",\"2018-01-03T00:00:00\",\"2018-01-04T00:00:00\",\"2018-01-05T00:00:00\",\"2018-01-08T00:00:00\",\"2018-01-09T00:00:00\",\"2018-01-10T00:00:00\",\"2018-01-11T00:00:00\",\"2018-01-12T00:00:00\",\"2018-01-15T00:00:00\",\"2018-01-17T00:00:00\",\"2018-01-18T00:00:00\",\"2018-01-18T00:00:00\",\"2018-01-19T00:00:00\",\"2018-01-22T00:00:00\",\"2018-01-23T00:00:00\",\"2018-01-24T00:00:00\",\"2018-01-25T00:00:00\",\"2018-01-26T00:00:00\",\"2018-01-29T00:00:00\",\"2018-01-30T00:00:00\",\"2018-02-01T00:00:00\",\"2018-02-02T00:00:00\",\"2018-02-05T00:00:00\",\"2018-02-06T00:00:00\",\"2018-02-07T00:00:00\",\"2018-02-08T00:00:00\",\"2018-02-09T00:00:00\",\"2018-02-12T00:00:00\",\"2018-02-13T00:00:00\",\"2018-02-14T00:00:00\",\"2018-02-15T00:00:00\",\"2018-03-05T00:00:00\",\"2018-03-06T00:00:00\",\"2018-03-07T00:00:00\",\"2018-03-07T00:00:00\",\"2018-03-09T00:00:00\",\"2018-03-13T00:00:00\",\"2018-03-14T00:00:00\",\"2018-03-15T00:00:00\",\"2018-03-16T00:00:00\",\"2018-03-19T00:00:00\",\"2018-03-20T00:00:00\",\"2018-03-21T00:00:00\",\"2018-03-22T00:00:00\",\"2018-03-26T00:00:00\",\"2018-03-27T00:00:00\",\"2018-03-28T00:00:00\",\"2018-03-29T00:00:00\",\"2018-04-06T00:00:00\",\"2018-04-09T00:00:00\",\"2018-04-11T00:00:00\",\"2018-04-12T00:00:00\",\"2018-04-13T00:00:00\",\"2018-04-26T00:00:00\",\"2018-04-27T00:00:00\",\"2018-05-04T00:00:00\",\"2018-05-07T00:00:00\",\"2018-05-08T00:00:00\",\"2018-05-14T00:00:00\",\"2018-05-15T00:00:00\",\"2018-05-18T00:00:00\",\"2018-05-21T00:00:00\",\"2018-05-23T00:00:00\",\"2018-05-24T00:00:00\",\"2018-05-25T00:00:00\",\"2018-05-29T00:00:00\",\"2018-05-30T00:00:00\",\"2018-05-31T00:00:00\",\"2018-06-01T00:00:00\",\"2018-06-05T00:00:00\",\"2018-06-06T00:00:00\",\"2018-06-07T00:00:00\",\"2018-06-11T00:00:00\",\"2018-06-12T00:00:00\",\"2018-06-13T00:00:00\",\"2018-06-14T00:00:00\",\"2018-06-15T00:00:00\",\"2018-06-19T00:00:00\",\"2018-06-21T00:00:00\",\"2018-06-22T00:00:00\",\"2018-06-25T00:00:00\",\"2018-06-26T00:00:00\",\"2018-06-27T00:00:00\",\"2018-06-28T00:00:00\",\"2018-06-29T00:00:00\",\"2018-07-03T00:00:00\",\"2018-07-03T00:00:00\",\"2018-07-04T00:00:00\",\"2018-07-05T00:00:00\",\"2018-07-06T00:00:00\",\"2018-07-09T00:00:00\",\"2018-07-10T00:00:00\",\"2018-07-12T00:00:00\",\"2018-07-13T00:00:00\",\"2018-07-16T00:00:00\",\"2018-07-17T00:00:00\",\"2018-07-19T00:00:00\",\"2018-07-20T00:00:00\",\"2018-07-23T00:00:00\",\"2018-07-24T00:00:00\",\"2018-07-25T00:00:00\",\"2018-07-26T00:00:00\",\"2018-07-27T00:00:00\",\"2018-07-31T00:00:00\",\"2018-08-02T00:00:00\",\"2018-08-03T00:00:00\",\"2018-08-06T00:00:00\",\"2018-08-07T00:00:00\",\"2018-08-08T00:00:00\",\"2018-08-09T00:00:00\",\"2018-08-10T00:00:00\",\"2018-08-13T00:00:00\",\"2018-08-15T00:00:00\",\"2018-08-16T00:00:00\",\"2018-08-20T00:00:00\",\"2018-08-21T00:00:00\",\"2018-08-23T00:00:00\",\"2018-08-24T00:00:00\",\"2018-08-27T00:00:00\",\"2018-08-28T00:00:00\",\"2018-08-29T00:00:00\",\"2018-08-30T00:00:00\",\"2018-08-31T00:00:00\",\"2018-09-03T00:00:00\",\"2018-09-04T00:00:00\",\"2018-09-05T00:00:00\",\"2018-09-06T00:00:00\",\"2018-09-10T00:00:00\",\"2018-09-11T00:00:00\",\"2018-09-12T00:00:00\",\"2018-09-13T00:00:00\",\"2018-09-14T00:00:00\",\"2018-09-18T00:00:00\",\"2018-09-19T00:00:00\",\"2018-09-20T00:00:00\",\"2018-09-20T00:00:00\",\"2018-09-21T00:00:00\",\"2018-09-24T00:00:00\",\"2018-09-26T00:00:00\",\"2018-09-27T00:00:00\",\"2018-09-28T00:00:00\",\"2018-10-02T00:00:00\",\"2018-10-03T00:00:00\",\"2018-10-04T00:00:00\",\"2018-10-09T00:00:00\",\"2018-10-10T00:00:00\",\"2018-10-12T00:00:00\",\"2018-10-15T00:00:00\",\"2018-10-16T00:00:00\",\"2018-10-18T00:00:00\",\"2018-10-19T00:00:00\",\"2018-10-22T00:00:00\",\"2018-10-23T00:00:00\",\"2018-10-24T00:00:00\",\"2018-10-26T00:00:00\",\"2018-10-30T00:00:00\",\"2018-10-31T00:00:00\",\"2018-11-01T00:00:00\",\"2018-11-02T00:00:00\",\"2018-11-05T00:00:00\",\"2018-11-06T00:00:00\",\"2018-11-07T00:00:00\",\"2018-11-09T00:00:00\",\"2018-11-12T00:00:00\",\"2018-11-13T00:00:00\",\"2018-11-14T00:00:00\",\"2018-11-15T00:00:00\",\"2018-11-16T00:00:00\",\"2018-11-19T00:00:00\",\"2018-11-20T00:00:00\",\"2018-11-21T00:00:00\",\"2018-11-23T00:00:00\",\"2018-11-26T00:00:00\",\"2018-11-27T00:00:00\",\"2018-11-28T00:00:00\",\"2018-11-29T00:00:00\",\"2018-11-30T00:00:00\",\"2018-12-03T00:00:00\",\"2018-12-04T00:00:00\",\"2018-12-05T00:00:00\",\"2018-12-06T00:00:00\",\"2018-12-07T00:00:00\",\"2018-12-10T00:00:00\",\"2018-12-11T00:00:00\",\"2018-12-12T00:00:00\",\"2018-12-13T00:00:00\",\"2018-12-14T00:00:00\",\"2018-12-17T00:00:00\",\"2018-12-18T00:00:00\",\"2018-12-19T00:00:00\",\"2018-12-20T00:00:00\",\"2018-12-24T00:00:00\",\"2018-12-27T00:00:00\",\"2018-12-28T00:00:00\",\"2018-12-31T00:00:00\",\"2019-01-02T00:00:00\",\"2019-01-03T00:00:00\",\"2019-01-04T00:00:00\",\"2019-01-07T00:00:00\",\"2019-01-08T00:00:00\",\"2019-01-09T00:00:00\",\"2019-01-10T00:00:00\",\"2019-01-11T00:00:00\",\"2019-01-14T00:00:00\",\"2019-01-15T00:00:00\",\"2019-01-16T00:00:00\",\"2019-01-18T00:00:00\",\"2019-01-21T00:00:00\",\"2019-01-22T00:00:00\",\"2019-01-23T00:00:00\",\"2019-01-24T00:00:00\",\"2019-01-25T00:00:00\",\"2019-01-28T00:00:00\",\"2019-01-29T00:00:00\",\"2019-01-30T00:00:00\",\"2019-01-31T00:00:00\",\"2019-02-01T00:00:00\",\"2019-02-12T00:00:00\",\"2019-02-13T00:00:00\",\"2019-02-14T00:00:00\",\"2019-02-15T00:00:00\",\"2019-02-18T00:00:00\",\"2019-02-19T00:00:00\",\"2019-02-20T00:00:00\",\"2019-02-21T00:00:00\",\"2019-02-22T00:00:00\",\"2019-02-25T00:00:00\",\"2019-02-26T00:00:00\",\"2019-02-27T00:00:00\",\"2019-02-28T00:00:00\",\"2019-03-01T00:00:00\",\"2019-03-04T00:00:00\",\"2019-03-05T00:00:00\",\"2019-03-06T00:00:00\",\"2019-03-07T00:00:00\",\"2019-03-08T00:00:00\",\"2019-03-11T00:00:00\",\"2019-03-12T00:00:00\",\"2019-03-13T00:00:00\",\"2019-03-14T00:00:00\",\"2019-03-15T00:00:00\",\"2019-03-18T00:00:00\",\"2019-03-19T00:00:00\",\"2019-03-20T00:00:00\",\"2019-03-22T00:00:00\",\"2019-03-26T00:00:00\",\"2019-03-27T00:00:00\",\"2019-03-28T00:00:00\",\"2019-03-29T00:00:00\",\"2019-04-01T00:00:00\",\"2019-04-02T00:00:00\",\"2019-04-03T00:00:00\",\"2019-04-04T00:00:00\",\"2019-04-08T00:00:00\",\"2019-04-09T00:00:00\"],\"y\":[137,139,121,119,117,130,121,119,133,152,134,134,139,144,146,131,150,139,143,158,148,129,139,128,132,136,148,120,134,153,145,145,145,150,137,130,158,131,121,157,138,143,142,186,138,136,156,154,131,149,142,135,137,146,149,141,150,174,170,147,135,144,135,142,135,131,121,134,150,142,128,110,132,149,149,135,140,141,125,135,118,121,149,121,135,107,141,119,118,126,141,142,133,124,142,115,137,127,111,137,124,150,133,144,139,119,122,129,135,125,133,147,142,135,128,134,115,114,113,131,138,138,148,143,123,141,104,121,122,116,119,122,143,135,127,112,131,122,113,101,129,107,106,112,116,118,126,120,136,152,131,111,150,146,144,137,128,123,139,117,120,131,129,123,130,106,114,125,123,104,100,126,103,121,118,115,133,122,140,124,118,122,116,103,130,125,151,106,114,146,129,113,114,136,116,122,135,132,105,118,119,116,95,121,138,117,131,118,114,123,109,116,135,113,124,120,107,125,131,136,116,137,129,108,112,134,122,127,124,113,133,125,122,111,117,130,115,106,136,124,121,130,117,110,125,118,108,139,144,118,119,123,139,131,113,147,119,132,122,125,142,129,153,157,118,140,118,125,124,118,134,128,121,152,128,134,109,117,124,133,107,137,133,122,105,93,101,107,122,129,121,139,139,124,118,134,114,124,113,125,140,119,127,134,125,139,124,141,138,111,121,121,117,131,125,110,150,97,114,140,132,115,133,130,106,121,143,137,121,100,108,129,142,117,140,143,111,91,106,126,135,122,120,107,117,130,143,127,136,154,134,113,117,106,113,123,130,125,111,110,132,123,127,103,138,116,110,122,111,135,137,149,131,135,127,118,123,120,134,119,128,122,122,122,146,127,135,135,128,124,112,144,115,123,126,118,113,132,117,123,104,150,126,127,107,124,122,137,120,104,109,127,126,120,132,120,115,108,124,117,126,128,113,111,128,118,136,152,107,116,103,103,114,120,122,105,142,132,131,130,117,116,143,127,134,129,124,140,123,128,120,127,124,123,116,139,120,122,116,151,121,143,135,111,111,110,136,140,129,111,124,142,128,130,122,125,134,138,122,110,137,119,106,143,109,113,109,140,132,126,116,128,152,131,122,113,109,128,114,113,115,136,104,114,111,111,112],\"type\":\"scatter\"},{\"mode\":\"lines\",\"name\":\"Prediction\",\"x\":[\"2019-04-10T00:00:00\",\"2019-04-11T00:00:00\",\"2019-04-12T00:00:00\",\"2019-04-15T00:00:00\",\"2019-04-16T00:00:00\",\"2019-04-17T00:00:00\",\"2019-04-18T00:00:00\",\"2019-04-23T00:00:00\",\"2019-04-24T00:00:00\",\"2019-04-25T00:00:00\",\"2019-04-26T00:00:00\",\"2019-04-29T00:00:00\",\"2019-04-30T00:00:00\",\"2019-05-02T00:00:00\",\"2019-05-03T00:00:00\",\"2019-05-06T00:00:00\",\"2019-05-07T00:00:00\",\"2019-05-08T00:00:00\",\"2019-05-09T00:00:00\",\"2019-05-10T00:00:00\",\"2019-05-14T00:00:00\",\"2019-05-15T00:00:00\",\"2019-05-16T00:00:00\",\"2019-05-20T00:00:00\",\"2019-05-21T00:00:00\",\"2019-05-22T00:00:00\",\"2019-05-23T00:00:00\",\"2019-05-24T00:00:00\",\"2019-05-27T00:00:00\",\"2019-05-28T00:00:00\",\"2019-05-29T00:00:00\",\"2019-05-30T00:00:00\",\"2019-05-31T00:00:00\",\"2019-06-04T00:00:00\",\"2019-06-05T00:00:00\",\"2019-06-06T00:00:00\",\"2019-06-06T00:00:00\",\"2019-06-11T00:00:00\",\"2019-06-12T00:00:00\",\"2019-06-13T00:00:00\",\"2019-06-14T00:00:00\",\"2019-06-17T00:00:00\",\"2019-06-18T00:00:00\",\"2019-06-19T00:00:00\",\"2019-06-20T00:00:00\",\"2019-06-21T00:00:00\",\"2019-06-24T00:00:00\",\"2019-06-25T00:00:00\",\"2019-06-26T00:00:00\",\"2019-06-27T00:00:00\",\"2019-06-28T00:00:00\",\"2019-07-02T00:00:00\",\"2019-07-03T00:00:00\",\"2019-07-04T00:00:00\",\"2019-07-05T00:00:00\",\"2019-07-08T00:00:00\",\"2019-07-09T00:00:00\",\"2019-07-10T00:00:00\",\"2019-07-11T00:00:00\",\"2019-07-12T00:00:00\",\"2019-07-15T00:00:00\",\"2019-07-16T00:00:00\",\"2019-07-18T00:00:00\",\"2019-07-19T00:00:00\",\"2019-07-22T00:00:00\",\"2019-07-23T00:00:00\",\"2019-07-25T00:00:00\",\"2019-07-29T00:00:00\",\"2019-07-30T00:00:00\",\"2019-07-31T00:00:00\",\"2019-08-02T00:00:00\",\"2019-08-05T00:00:00\",\"2019-08-06T00:00:00\",\"2019-08-07T00:00:00\",\"2019-08-08T00:00:00\",\"2019-08-09T00:00:00\",\"2019-08-12T00:00:00\",\"2019-08-13T00:00:00\",\"2019-08-14T00:00:00\",\"2019-08-15T00:00:00\",\"2019-08-19T00:00:00\",\"2019-08-20T00:00:00\",\"2019-08-21T00:00:00\",\"2019-08-22T00:00:00\",\"2019-08-23T00:00:00\",\"2019-08-26T00:00:00\",\"2019-08-27T00:00:00\",\"2019-08-28T00:00:00\",\"2019-08-29T00:00:00\",\"2019-08-30T00:00:00\",\"2019-09-03T00:00:00\",\"2019-09-04T00:00:00\",\"2019-09-16T00:00:00\",\"2019-09-17T00:00:00\",\"2019-09-18T00:00:00\",\"2019-09-19T00:00:00\",\"2019-09-20T00:00:00\",\"2019-09-23T00:00:00\",\"2019-09-24T00:00:00\",\"2019-09-25T00:00:00\",\"2019-09-26T00:00:00\",\"2019-09-27T00:00:00\",\"2019-09-30T00:00:00\",\"2019-10-02T00:00:00\",\"2019-10-02T00:00:00\",\"2019-10-03T00:00:00\",\"2019-10-04T00:00:00\",\"2019-10-08T00:00:00\",\"2019-10-09T00:00:00\",\"2019-10-10T00:00:00\",\"2019-10-11T00:00:00\",\"2019-10-14T00:00:00\",\"2019-10-15T00:00:00\",\"2019-10-16T00:00:00\",\"2019-10-17T00:00:00\",\"2019-10-18T00:00:00\",\"2019-10-21T00:00:00\",\"2019-10-22T00:00:00\",\"2019-10-23T00:00:00\",\"2019-10-24T00:00:00\",\"2019-10-24T00:00:00\",\"2019-10-25T00:00:00\",\"2019-10-28T00:00:00\",\"2019-10-29T00:00:00\",\"2019-10-30T00:00:00\",\"2019-10-31T00:00:00\",\"2019-11-01T00:00:00\",\"2019-11-04T00:00:00\",\"2019-11-05T00:00:00\",\"2019-11-06T00:00:00\",\"2019-11-07T00:00:00\",\"2019-11-20T00:00:00\",\"2019-11-21T00:00:00\",\"2019-11-22T00:00:00\",\"2019-11-25T00:00:00\",\"2019-11-26T00:00:00\",\"2019-11-27T00:00:00\",\"2019-11-28T00:00:00\",\"2019-11-29T00:00:00\",\"2019-12-02T00:00:00\",\"2019-12-03T00:00:00\",\"2019-12-04T00:00:00\",\"2019-12-05T00:00:00\",\"2019-12-06T00:00:00\",\"2019-12-10T00:00:00\",\"2019-12-11T00:00:00\",\"2019-12-12T00:00:00\",\"2019-12-13T00:00:00\",\"2019-12-16T00:00:00\",\"2019-12-17T00:00:00\",\"2019-12-18T00:00:00\",\"2019-12-19T00:00:00\",\"2019-12-20T00:00:00\",\"2019-12-23T00:00:00\",\"2019-12-24T00:00:00\",\"2019-12-27T00:00:00\",\"2019-12-30T00:00:00\",\"2019-12-31T00:00:00\",\"2020-01-02T00:00:00\",\"2020-01-03T00:00:00\",\"2020-01-06T00:00:00\",\"2020-01-07T00:00:00\",\"2020-01-09T00:00:00\",\"2020-01-10T00:00:00\",\"2020-01-13T00:00:00\",\"2020-01-13T00:00:00\",\"2020-01-14T00:00:00\",\"2020-01-17T00:00:00\",\"2020-01-21T00:00:00\"],\"y\":[118.18859100341797,116.5440902709961,115.0040512084961,113.37857055664062,112.96027374267578,112.77611541748047,118.87494659423828,116.72012329101562,116.59963989257812,118.43215942382812,115.17601013183594,114.70927429199219,112.27240753173828,116.8680419921875,114.93905639648438,115.18463134765625,114.90367889404297,114.92051696777344,113.17151641845703,110.40101623535156,108.76481628417969,110.60613250732422,113.79368591308594,107.78729248046875,113.27349853515625,110.61302947998047,112.10668182373047,114.96231079101562,109.75480651855469,116.15162658691406,113.35138702392578,115.18775939941406,111.43587493896484,116.66913604736328,118.01361083984375,111.48532104492188,112.89881134033203,109.02034759521484,108.34500122070312,111.94239807128906,114.87889862060547,114.83515167236328,112.3020248413086,111.86812591552734,111.89940643310547,110.81106567382812,113.90239715576172,113.62298583984375,115.76580047607422,121.26081085205078,117.12193298339844,115.6169662475586,113.72425842285156,111.9840087890625,107.30500030517578,108.78956604003906,109.68730926513672,107.6774673461914,105.02589416503906,106.85270690917969,114.00065612792969,111.34552001953125,119.2538070678711,111.64881896972656,113.37726593017578,112.65514373779297,114.67426300048828,115.28824615478516,117.92708587646484,113.95565795898438,122.35773468017578,124.12787628173828,123.59712982177734,123.46392059326172,124.2986831665039,120.07878112792969,124.24650573730469,121.97083282470703,118.71298217773438,127.16309356689453,126.92900848388672,126.21126556396484,124.14881896972656,132.6153106689453,129.968994140625,125.3264389038086,120.73197174072266,121.24054718017578,117.34540557861328,118.69938659667969,121.80480194091797,117.38399505615234,121.99658966064453,121.28956604003906,121.75241088867188,126.13890838623047,126.31853485107422,123.4643783569336,124.9511489868164,119.31661224365234,122.69566345214844,119.67729949951172,116.50518035888672,116.03683471679688,116.47228240966797,117.10685729980469,119.77783203125,116.87002563476562,127.01509094238281,120.2215805053711,119.51110076904297,118.44988250732422,126.87451934814453,121.2909927368164,124.00047302246094,130.1236114501953,131.30459594726562,125.69759368896484,125.26850128173828],\"type\":\"scatter\"},{\"mode\":\"lines\",\"name\":\"Ground Truth\",\"x\":[\"2019-04-10T00:00:00\",\"2019-04-11T00:00:00\",\"2019-04-12T00:00:00\",\"2019-04-15T00:00:00\",\"2019-04-16T00:00:00\",\"2019-04-17T00:00:00\",\"2019-04-18T00:00:00\",\"2019-04-23T00:00:00\",\"2019-04-24T00:00:00\",\"2019-04-25T00:00:00\",\"2019-04-26T00:00:00\",\"2019-04-29T00:00:00\",\"2019-04-30T00:00:00\",\"2019-05-02T00:00:00\",\"2019-05-03T00:00:00\",\"2019-05-06T00:00:00\",\"2019-05-07T00:00:00\",\"2019-05-08T00:00:00\",\"2019-05-09T00:00:00\",\"2019-05-10T00:00:00\",\"2019-05-14T00:00:00\",\"2019-05-15T00:00:00\",\"2019-05-16T00:00:00\",\"2019-05-20T00:00:00\",\"2019-05-21T00:00:00\",\"2019-05-22T00:00:00\",\"2019-05-23T00:00:00\",\"2019-05-24T00:00:00\",\"2019-05-27T00:00:00\",\"2019-05-28T00:00:00\",\"2019-05-29T00:00:00\",\"2019-05-30T00:00:00\",\"2019-05-31T00:00:00\",\"2019-06-04T00:00:00\",\"2019-06-05T00:00:00\",\"2019-06-06T00:00:00\",\"2019-06-06T00:00:00\",\"2019-06-11T00:00:00\",\"2019-06-12T00:00:00\",\"2019-06-13T00:00:00\",\"2019-06-14T00:00:00\",\"2019-06-17T00:00:00\",\"2019-06-18T00:00:00\",\"2019-06-19T00:00:00\",\"2019-06-20T00:00:00\",\"2019-06-21T00:00:00\",\"2019-06-24T00:00:00\",\"2019-06-25T00:00:00\",\"2019-06-26T00:00:00\",\"2019-06-27T00:00:00\",\"2019-06-28T00:00:00\",\"2019-07-02T00:00:00\",\"2019-07-03T00:00:00\",\"2019-07-04T00:00:00\",\"2019-07-05T00:00:00\",\"2019-07-08T00:00:00\",\"2019-07-09T00:00:00\",\"2019-07-10T00:00:00\",\"2019-07-11T00:00:00\",\"2019-07-12T00:00:00\",\"2019-07-15T00:00:00\",\"2019-07-16T00:00:00\",\"2019-07-18T00:00:00\",\"2019-07-19T00:00:00\",\"2019-07-22T00:00:00\",\"2019-07-23T00:00:00\",\"2019-07-25T00:00:00\",\"2019-07-29T00:00:00\",\"2019-07-30T00:00:00\",\"2019-07-31T00:00:00\",\"2019-08-02T00:00:00\",\"2019-08-05T00:00:00\",\"2019-08-06T00:00:00\",\"2019-08-07T00:00:00\",\"2019-08-08T00:00:00\",\"2019-08-09T00:00:00\",\"2019-08-12T00:00:00\",\"2019-08-13T00:00:00\",\"2019-08-14T00:00:00\",\"2019-08-15T00:00:00\",\"2019-08-19T00:00:00\",\"2019-08-20T00:00:00\",\"2019-08-21T00:00:00\",\"2019-08-22T00:00:00\",\"2019-08-23T00:00:00\",\"2019-08-26T00:00:00\",\"2019-08-27T00:00:00\",\"2019-08-28T00:00:00\",\"2019-08-29T00:00:00\",\"2019-08-30T00:00:00\",\"2019-09-03T00:00:00\",\"2019-09-04T00:00:00\",\"2019-09-16T00:00:00\",\"2019-09-17T00:00:00\",\"2019-09-18T00:00:00\",\"2019-09-19T00:00:00\",\"2019-09-20T00:00:00\",\"2019-09-23T00:00:00\",\"2019-09-24T00:00:00\",\"2019-09-25T00:00:00\",\"2019-09-26T00:00:00\",\"2019-09-27T00:00:00\",\"2019-09-30T00:00:00\",\"2019-10-02T00:00:00\",\"2019-10-02T00:00:00\",\"2019-10-03T00:00:00\",\"2019-10-04T00:00:00\",\"2019-10-08T00:00:00\",\"2019-10-09T00:00:00\",\"2019-10-10T00:00:00\",\"2019-10-11T00:00:00\",\"2019-10-14T00:00:00\",\"2019-10-15T00:00:00\",\"2019-10-16T00:00:00\",\"2019-10-17T00:00:00\",\"2019-10-18T00:00:00\",\"2019-10-21T00:00:00\",\"2019-10-22T00:00:00\",\"2019-10-23T00:00:00\",\"2019-10-24T00:00:00\",\"2019-10-24T00:00:00\",\"2019-10-25T00:00:00\",\"2019-10-28T00:00:00\",\"2019-10-29T00:00:00\",\"2019-10-30T00:00:00\",\"2019-10-31T00:00:00\",\"2019-11-01T00:00:00\",\"2019-11-04T00:00:00\",\"2019-11-05T00:00:00\",\"2019-11-06T00:00:00\",\"2019-11-07T00:00:00\",\"2019-11-20T00:00:00\",\"2019-11-21T00:00:00\",\"2019-11-22T00:00:00\",\"2019-11-25T00:00:00\",\"2019-11-26T00:00:00\",\"2019-11-27T00:00:00\",\"2019-11-28T00:00:00\",\"2019-11-29T00:00:00\",\"2019-12-02T00:00:00\",\"2019-12-03T00:00:00\",\"2019-12-04T00:00:00\",\"2019-12-05T00:00:00\",\"2019-12-06T00:00:00\",\"2019-12-10T00:00:00\",\"2019-12-11T00:00:00\",\"2019-12-12T00:00:00\",\"2019-12-13T00:00:00\",\"2019-12-16T00:00:00\",\"2019-12-17T00:00:00\",\"2019-12-18T00:00:00\",\"2019-12-19T00:00:00\",\"2019-12-20T00:00:00\",\"2019-12-23T00:00:00\",\"2019-12-24T00:00:00\",\"2019-12-27T00:00:00\",\"2019-12-30T00:00:00\",\"2019-12-31T00:00:00\",\"2020-01-02T00:00:00\",\"2020-01-03T00:00:00\",\"2020-01-06T00:00:00\",\"2020-01-07T00:00:00\",\"2020-01-09T00:00:00\",\"2020-01-10T00:00:00\",\"2020-01-13T00:00:00\",\"2020-01-13T00:00:00\",\"2020-01-14T00:00:00\",\"2020-01-17T00:00:00\",\"2020-01-21T00:00:00\"],\"y\":[137,134,106,119,141,113,124,127,138,103,113,142,137,139,137,105,109,123,123,115,109,107,129,114,112,129,115,105,129,125,117,122,118,110,123,142,128,109,108,121,117,109,130,122,139,113,135,112,132,120,115,111,112,114,116,138,123,120,128,115,115,108,129,119,119,117,120,114,106,104,117,129,101,124,114,121,128,104,130,117,123,106,130,131,103,111,103,108,124,130,122,111,114,117,113,123,119,126,143,118,111,110,110,97,109,115,109,101,113,140,120,142,103,114,117,125,121,128,110,146,142,130,125,131,116,135,122,111,148,142,131,121,157,138,117,104,120,114,123,132,114,136,132,130,142,137,122,130,110,129,118,109,113,122,125,133,117,156,119,116,117,153,122,129,150,148,120,121,129],\"type\":\"scatter\"},{\"mode\":\"lines\",\"name\":\"Prediction_2\",\"x\":[\"2019-04-10T00:00:00\",\"2019-04-11T00:00:00\",\"2019-04-12T00:00:00\",\"2019-04-15T00:00:00\",\"2019-04-16T00:00:00\",\"2019-04-17T00:00:00\",\"2019-04-18T00:00:00\",\"2019-04-23T00:00:00\",\"2019-04-24T00:00:00\",\"2019-04-25T00:00:00\",\"2019-04-26T00:00:00\",\"2019-04-29T00:00:00\",\"2019-04-30T00:00:00\",\"2019-05-02T00:00:00\",\"2019-05-03T00:00:00\",\"2019-05-06T00:00:00\",\"2019-05-07T00:00:00\",\"2019-05-08T00:00:00\",\"2019-05-09T00:00:00\",\"2019-05-10T00:00:00\",\"2019-05-14T00:00:00\",\"2019-05-15T00:00:00\",\"2019-05-16T00:00:00\",\"2019-05-20T00:00:00\",\"2019-05-21T00:00:00\",\"2019-05-22T00:00:00\",\"2019-05-23T00:00:00\",\"2019-05-24T00:00:00\",\"2019-05-27T00:00:00\",\"2019-05-28T00:00:00\",\"2019-05-29T00:00:00\",\"2019-05-30T00:00:00\",\"2019-05-31T00:00:00\",\"2019-06-04T00:00:00\",\"2019-06-05T00:00:00\",\"2019-06-06T00:00:00\",\"2019-06-06T00:00:00\",\"2019-06-11T00:00:00\",\"2019-06-12T00:00:00\",\"2019-06-13T00:00:00\",\"2019-06-14T00:00:00\",\"2019-06-17T00:00:00\",\"2019-06-18T00:00:00\",\"2019-06-19T00:00:00\",\"2019-06-20T00:00:00\",\"2019-06-21T00:00:00\",\"2019-06-24T00:00:00\",\"2019-06-25T00:00:00\",\"2019-06-26T00:00:00\",\"2019-06-27T00:00:00\",\"2019-06-28T00:00:00\",\"2019-07-02T00:00:00\",\"2019-07-03T00:00:00\",\"2019-07-04T00:00:00\",\"2019-07-05T00:00:00\",\"2019-07-08T00:00:00\",\"2019-07-09T00:00:00\",\"2019-07-10T00:00:00\",\"2019-07-11T00:00:00\",\"2019-07-12T00:00:00\",\"2019-07-15T00:00:00\",\"2019-07-16T00:00:00\",\"2019-07-18T00:00:00\",\"2019-07-19T00:00:00\",\"2019-07-22T00:00:00\",\"2019-07-23T00:00:00\",\"2019-07-25T00:00:00\",\"2019-07-29T00:00:00\",\"2019-07-30T00:00:00\",\"2019-07-31T00:00:00\",\"2019-08-02T00:00:00\",\"2019-08-05T00:00:00\",\"2019-08-06T00:00:00\",\"2019-08-07T00:00:00\",\"2019-08-08T00:00:00\",\"2019-08-09T00:00:00\",\"2019-08-12T00:00:00\",\"2019-08-13T00:00:00\",\"2019-08-14T00:00:00\",\"2019-08-15T00:00:00\",\"2019-08-19T00:00:00\",\"2019-08-20T00:00:00\",\"2019-08-21T00:00:00\",\"2019-08-22T00:00:00\",\"2019-08-23T00:00:00\",\"2019-08-26T00:00:00\",\"2019-08-27T00:00:00\",\"2019-08-28T00:00:00\",\"2019-08-29T00:00:00\",\"2019-08-30T00:00:00\",\"2019-09-03T00:00:00\",\"2019-09-04T00:00:00\",\"2019-09-16T00:00:00\",\"2019-09-17T00:00:00\",\"2019-09-18T00:00:00\",\"2019-09-19T00:00:00\",\"2019-09-20T00:00:00\",\"2019-09-23T00:00:00\",\"2019-09-24T00:00:00\",\"2019-09-25T00:00:00\",\"2019-09-26T00:00:00\",\"2019-09-27T00:00:00\",\"2019-09-30T00:00:00\",\"2019-10-02T00:00:00\",\"2019-10-02T00:00:00\",\"2019-10-03T00:00:00\",\"2019-10-04T00:00:00\",\"2019-10-08T00:00:00\",\"2019-10-09T00:00:00\",\"2019-10-10T00:00:00\",\"2019-10-11T00:00:00\",\"2019-10-14T00:00:00\",\"2019-10-15T00:00:00\",\"2019-10-16T00:00:00\",\"2019-10-17T00:00:00\",\"2019-10-18T00:00:00\",\"2019-10-21T00:00:00\",\"2019-10-22T00:00:00\",\"2019-10-23T00:00:00\",\"2019-10-24T00:00:00\",\"2019-10-24T00:00:00\",\"2019-10-25T00:00:00\",\"2019-10-28T00:00:00\",\"2019-10-29T00:00:00\",\"2019-10-30T00:00:00\",\"2019-10-31T00:00:00\",\"2019-11-01T00:00:00\",\"2019-11-04T00:00:00\",\"2019-11-05T00:00:00\",\"2019-11-06T00:00:00\",\"2019-11-07T00:00:00\",\"2019-11-20T00:00:00\",\"2019-11-21T00:00:00\",\"2019-11-22T00:00:00\",\"2019-11-25T00:00:00\",\"2019-11-26T00:00:00\",\"2019-11-27T00:00:00\",\"2019-11-28T00:00:00\",\"2019-11-29T00:00:00\",\"2019-12-02T00:00:00\",\"2019-12-03T00:00:00\",\"2019-12-04T00:00:00\",\"2019-12-05T00:00:00\",\"2019-12-06T00:00:00\",\"2019-12-10T00:00:00\",\"2019-12-11T00:00:00\",\"2019-12-12T00:00:00\",\"2019-12-13T00:00:00\",\"2019-12-16T00:00:00\",\"2019-12-17T00:00:00\",\"2019-12-18T00:00:00\",\"2019-12-19T00:00:00\",\"2019-12-20T00:00:00\",\"2019-12-23T00:00:00\",\"2019-12-24T00:00:00\",\"2019-12-27T00:00:00\",\"2019-12-30T00:00:00\",\"2019-12-31T00:00:00\",\"2020-01-02T00:00:00\",\"2020-01-03T00:00:00\",\"2020-01-06T00:00:00\",\"2020-01-07T00:00:00\",\"2020-01-09T00:00:00\",\"2020-01-10T00:00:00\",\"2020-01-13T00:00:00\",\"2020-01-13T00:00:00\",\"2020-01-14T00:00:00\",\"2020-01-17T00:00:00\",\"2020-01-21T00:00:00\"],\"y\":[126.73535919189453,125.3841781616211,123.85038757324219,122.79631042480469,122.353759765625,121.85202026367188,128.04605102539062,124.89742279052734,125.09845733642578,126.96033477783203,123.68617248535156,123.15616607666016,121.28248596191406,125.83963012695312,123.68756103515625,124.39522552490234,123.56265258789062,123.75421142578125,121.77167510986328,119.24825286865234,117.56934356689453,119.37862396240234,122.86515045166016,116.2887191772461,121.78217315673828,119.21241760253906,120.32889556884766,123.30353546142578,118.15422058105469,123.99447631835938,121.8887710571289,123.50186920166016,119.50745391845703,125.62960052490234,126.0307846069336,120.11384582519531,121.46685028076172,117.69548034667969,117.58541870117188,120.99019622802734,123.85196685791016,122.46588134765625,120.82701873779297,120.41913604736328,120.18560791015625,119.48371887207031,122.26776123046875,122.06466674804688,124.22550964355469,129.7565155029297,125.1200180053711,123.43429565429688,122.13782501220703,120.96148681640625,116.37873840332031,118.37791442871094,118.78192901611328,116.65152740478516,114.1997299194336,115.52709197998047,122.35002136230469,119.12847137451172,126.96723937988281,118.74314880371094,120.57324981689453,120.70710754394531,123.55259704589844,123.49771881103516,126.84976196289062,122.54546356201172,130.9996795654297,132.58543395996094,130.8344268798828,131.59202575683594,132.80821228027344,128.64141845703125,133.52926635742188,131.31939697265625,127.4053726196289,136.59764099121094,136.5210418701172,134.58187866210938,133.27362060546875,141.58245849609375,137.9788360595703,134.40182495117188,129.91705322265625,130.78237915039062,128.25160217285156,129.45262145996094,131.88648986816406,126.65907287597656,131.8006591796875,130.84194946289062,130.6154327392578,134.73092651367188,135.2465362548828,131.8243865966797,134.212646484375,129.00559997558594,131.85467529296875,129.7808380126953,126.12655639648438,125.48680877685547,126.70973205566406,126.39276885986328,128.9505615234375,125.78325653076172,135.3634796142578,128.42771911621094,127.41942596435547,126.94482421875,136.30409240722656,129.9500732421875,133.42242431640625,139.2880859375,139.789794921875,134.69180297851562,134.5304412841797],\"type\":\"scatter\"},{\"mode\":\"lines\",\"name\":\"Prediction_3\",\"x\":[\"2019-04-10T00:00:00\",\"2019-04-11T00:00:00\",\"2019-04-12T00:00:00\",\"2019-04-15T00:00:00\",\"2019-04-16T00:00:00\",\"2019-04-17T00:00:00\",\"2019-04-18T00:00:00\",\"2019-04-23T00:00:00\",\"2019-04-24T00:00:00\",\"2019-04-25T00:00:00\",\"2019-04-26T00:00:00\",\"2019-04-29T00:00:00\",\"2019-04-30T00:00:00\",\"2019-05-02T00:00:00\",\"2019-05-03T00:00:00\",\"2019-05-06T00:00:00\",\"2019-05-07T00:00:00\",\"2019-05-08T00:00:00\",\"2019-05-09T00:00:00\",\"2019-05-10T00:00:00\",\"2019-05-14T00:00:00\",\"2019-05-15T00:00:00\",\"2019-05-16T00:00:00\",\"2019-05-20T00:00:00\",\"2019-05-21T00:00:00\",\"2019-05-22T00:00:00\",\"2019-05-23T00:00:00\",\"2019-05-24T00:00:00\",\"2019-05-27T00:00:00\",\"2019-05-28T00:00:00\",\"2019-05-29T00:00:00\",\"2019-05-30T00:00:00\",\"2019-05-31T00:00:00\",\"2019-06-04T00:00:00\",\"2019-06-05T00:00:00\",\"2019-06-06T00:00:00\",\"2019-06-06T00:00:00\",\"2019-06-11T00:00:00\",\"2019-06-12T00:00:00\",\"2019-06-13T00:00:00\",\"2019-06-14T00:00:00\",\"2019-06-17T00:00:00\",\"2019-06-18T00:00:00\",\"2019-06-19T00:00:00\",\"2019-06-20T00:00:00\",\"2019-06-21T00:00:00\",\"2019-06-24T00:00:00\",\"2019-06-25T00:00:00\",\"2019-06-26T00:00:00\",\"2019-06-27T00:00:00\",\"2019-06-28T00:00:00\",\"2019-07-02T00:00:00\",\"2019-07-03T00:00:00\",\"2019-07-04T00:00:00\",\"2019-07-05T00:00:00\",\"2019-07-08T00:00:00\",\"2019-07-09T00:00:00\",\"2019-07-10T00:00:00\",\"2019-07-11T00:00:00\",\"2019-07-12T00:00:00\",\"2019-07-15T00:00:00\",\"2019-07-16T00:00:00\",\"2019-07-18T00:00:00\",\"2019-07-19T00:00:00\",\"2019-07-22T00:00:00\",\"2019-07-23T00:00:00\",\"2019-07-25T00:00:00\",\"2019-07-29T00:00:00\",\"2019-07-30T00:00:00\",\"2019-07-31T00:00:00\",\"2019-08-02T00:00:00\",\"2019-08-05T00:00:00\",\"2019-08-06T00:00:00\",\"2019-08-07T00:00:00\",\"2019-08-08T00:00:00\",\"2019-08-09T00:00:00\",\"2019-08-12T00:00:00\",\"2019-08-13T00:00:00\",\"2019-08-14T00:00:00\",\"2019-08-15T00:00:00\",\"2019-08-19T00:00:00\",\"2019-08-20T00:00:00\",\"2019-08-21T00:00:00\",\"2019-08-22T00:00:00\",\"2019-08-23T00:00:00\",\"2019-08-26T00:00:00\",\"2019-08-27T00:00:00\",\"2019-08-28T00:00:00\",\"2019-08-29T00:00:00\",\"2019-08-30T00:00:00\",\"2019-09-03T00:00:00\",\"2019-09-04T00:00:00\",\"2019-09-16T00:00:00\",\"2019-09-17T00:00:00\",\"2019-09-18T00:00:00\",\"2019-09-19T00:00:00\",\"2019-09-20T00:00:00\",\"2019-09-23T00:00:00\",\"2019-09-24T00:00:00\",\"2019-09-25T00:00:00\",\"2019-09-26T00:00:00\",\"2019-09-27T00:00:00\",\"2019-09-30T00:00:00\",\"2019-10-02T00:00:00\",\"2019-10-02T00:00:00\",\"2019-10-03T00:00:00\",\"2019-10-04T00:00:00\",\"2019-10-08T00:00:00\",\"2019-10-09T00:00:00\",\"2019-10-10T00:00:00\",\"2019-10-11T00:00:00\",\"2019-10-14T00:00:00\",\"2019-10-15T00:00:00\",\"2019-10-16T00:00:00\",\"2019-10-17T00:00:00\",\"2019-10-18T00:00:00\",\"2019-10-21T00:00:00\",\"2019-10-22T00:00:00\",\"2019-10-23T00:00:00\",\"2019-10-24T00:00:00\",\"2019-10-24T00:00:00\",\"2019-10-25T00:00:00\",\"2019-10-28T00:00:00\",\"2019-10-29T00:00:00\",\"2019-10-30T00:00:00\",\"2019-10-31T00:00:00\",\"2019-11-01T00:00:00\",\"2019-11-04T00:00:00\",\"2019-11-05T00:00:00\",\"2019-11-06T00:00:00\",\"2019-11-07T00:00:00\",\"2019-11-20T00:00:00\",\"2019-11-21T00:00:00\",\"2019-11-22T00:00:00\",\"2019-11-25T00:00:00\",\"2019-11-26T00:00:00\",\"2019-11-27T00:00:00\",\"2019-11-28T00:00:00\",\"2019-11-29T00:00:00\",\"2019-12-02T00:00:00\",\"2019-12-03T00:00:00\",\"2019-12-04T00:00:00\",\"2019-12-05T00:00:00\",\"2019-12-06T00:00:00\",\"2019-12-10T00:00:00\",\"2019-12-11T00:00:00\",\"2019-12-12T00:00:00\",\"2019-12-13T00:00:00\",\"2019-12-16T00:00:00\",\"2019-12-17T00:00:00\",\"2019-12-18T00:00:00\",\"2019-12-19T00:00:00\",\"2019-12-20T00:00:00\",\"2019-12-23T00:00:00\",\"2019-12-24T00:00:00\",\"2019-12-27T00:00:00\",\"2019-12-30T00:00:00\",\"2019-12-31T00:00:00\",\"2020-01-02T00:00:00\",\"2020-01-03T00:00:00\",\"2020-01-06T00:00:00\",\"2020-01-07T00:00:00\",\"2020-01-09T00:00:00\",\"2020-01-10T00:00:00\",\"2020-01-13T00:00:00\",\"2020-01-13T00:00:00\",\"2020-01-14T00:00:00\",\"2020-01-17T00:00:00\",\"2020-01-21T00:00:00\"],\"y\":[126.39248657226562,125.950927734375,124.57709503173828,123.46946716308594,123.39484405517578,122.41804504394531,128.56605529785156,125.84416198730469,125.37080383300781,125.76245880126953,122.36799621582031,122.67383575439453,121.22813415527344,125.43111419677734,123.86872863769531,124.96013641357422,123.65653228759766,123.42362976074219,121.64271545410156,119.24590301513672,118.04353332519531,119.02059936523438,122.23625183105469,117.07575225830078,122.39196014404297,118.10600280761719,119.21893310546875,122.26240539550781,118.3682632446289,123.87335205078125,121.03814697265625,123.52973937988281,119.29537963867188,125.90840911865234,126.03692626953125,120.31494140625,122.7071762084961,118.12724304199219,117.43049621582031,120.37638854980469,125.03376007080078,123.59674072265625,121.14724731445312,119.63604736328125,118.92279052734375,118.73294067382812,122.50627136230469,122.39971160888672,124.3057861328125,128.9357452392578,124.9448013305664,123.77718353271484,121.82475280761719,120.03582763671875,116.31635284423828,119.39387512207031,119.79833984375,117.3271484375,115.16445922851562,115.87864685058594,120.4086685180664,118.79061889648438,126.82689666748047,117.41954803466797,120.16188049316406,118.89517974853516,121.83657836914062,124.3902359008789,128.57086181640625,124.06058502197266,130.65170288085938,133.0950469970703,131.23963928222656,131.26080322265625,132.90049743652344,128.57826232910156,132.93116760253906,132.57847595214844,128.66934204101562,136.26693725585938,136.88619995117188,135.36766052246094,133.74874877929688,141.16651916503906,137.4315185546875,134.04075622558594,130.92396545410156,130.85824584960938,127.90021514892578,129.93780517578125,133.84262084960938,128.422119140625,131.86387634277344,129.99769592285156,129.75198364257812,133.59225463867188,134.28634643554688,131.10816955566406,133.55618286132812,128.59881591796875,131.73255920410156,130.1217041015625,127.41637420654297,126.35736083984375,127.01423645019531,127.08413696289062,129.33859252929688,126.50626373291016,134.34202575683594,127.562255859375,127.22444152832031,125.41710662841797,133.42153930664062,131.07565307617188,134.9017791748047,139.00704956054688,138.49200439453125,135.75535583496094,136.2248077392578],\"type\":\"scatter\"}],                        {\"title\":{\"text\":\"SBP forecating\"},\"xaxis\":{\"title\":{\"text\":\"Date\"},\"range\":[\"2018-07-01\",\"2019-10-23\"]},\"yaxis\":{\"title\":{\"text\":\"SBP(mmHg)\"}},\"template\":{\"data\":{\"bar\":[{\"error_x\":{\"color\":\"#2a3f5f\"},\"error_y\":{\"color\":\"#2a3f5f\"},\"marker\":{\"line\":{\"color\":\"#E5ECF6\",\"width\":0.5},\"pattern\":{\"fillmode\":\"overlay\",\"size\":10,\"solidity\":0.2}},\"type\":\"bar\"}],\"barpolar\":[{\"marker\":{\"line\":{\"color\":\"#E5ECF6\",\"width\":0.5},\"pattern\":{\"fillmode\":\"overlay\",\"size\":10,\"solidity\":0.2}},\"type\":\"barpolar\"}],\"carpet\":[{\"aaxis\":{\"endlinecolor\":\"#2a3f5f\",\"gridcolor\":\"white\",\"linecolor\":\"white\",\"minorgridcolor\":\"white\",\"startlinecolor\":\"#2a3f5f\"},\"baxis\":{\"endlinecolor\":\"#2a3f5f\",\"gridcolor\":\"white\",\"linecolor\":\"white\",\"minorgridcolor\":\"white\",\"startlinecolor\":\"#2a3f5f\"},\"type\":\"carpet\"}],\"choropleth\":[{\"colorbar\":{\"outlinewidth\":0,\"ticks\":\"\"},\"type\":\"choropleth\"}],\"contour\":[{\"colorbar\":{\"outlinewidth\":0,\"ticks\":\"\"},\"colorscale\":[[0.0,\"#0d0887\"],[0.1111111111111111,\"#46039f\"],[0.2222222222222222,\"#7201a8\"],[0.3333333333333333,\"#9c179e\"],[0.4444444444444444,\"#bd3786\"],[0.5555555555555556,\"#d8576b\"],[0.6666666666666666,\"#ed7953\"],[0.7777777777777778,\"#fb9f3a\"],[0.8888888888888888,\"#fdca26\"],[1.0,\"#f0f921\"]],\"type\":\"contour\"}],\"contourcarpet\":[{\"colorbar\":{\"outlinewidth\":0,\"ticks\":\"\"},\"type\":\"contourcarpet\"}],\"heatmap\":[{\"colorbar\":{\"outlinewidth\":0,\"ticks\":\"\"},\"colorscale\":[[0.0,\"#0d0887\"],[0.1111111111111111,\"#46039f\"],[0.2222222222222222,\"#7201a8\"],[0.3333333333333333,\"#9c179e\"],[0.4444444444444444,\"#bd3786\"],[0.5555555555555556,\"#d8576b\"],[0.6666666666666666,\"#ed7953\"],[0.7777777777777778,\"#fb9f3a\"],[0.8888888888888888,\"#fdca26\"],[1.0,\"#f0f921\"]],\"type\":\"heatmap\"}],\"heatmapgl\":[{\"colorbar\":{\"outlinewidth\":0,\"ticks\":\"\"},\"colorscale\":[[0.0,\"#0d0887\"],[0.1111111111111111,\"#46039f\"],[0.2222222222222222,\"#7201a8\"],[0.3333333333333333,\"#9c179e\"],[0.4444444444444444,\"#bd3786\"],[0.5555555555555556,\"#d8576b\"],[0.6666666666666666,\"#ed7953\"],[0.7777777777777778,\"#fb9f3a\"],[0.8888888888888888,\"#fdca26\"],[1.0,\"#f0f921\"]],\"type\":\"heatmapgl\"}],\"histogram\":[{\"marker\":{\"pattern\":{\"fillmode\":\"overlay\",\"size\":10,\"solidity\":0.2}},\"type\":\"histogram\"}],\"histogram2d\":[{\"colorbar\":{\"outlinewidth\":0,\"ticks\":\"\"},\"colorscale\":[[0.0,\"#0d0887\"],[0.1111111111111111,\"#46039f\"],[0.2222222222222222,\"#7201a8\"],[0.3333333333333333,\"#9c179e\"],[0.4444444444444444,\"#bd3786\"],[0.5555555555555556,\"#d8576b\"],[0.6666666666666666,\"#ed7953\"],[0.7777777777777778,\"#fb9f3a\"],[0.8888888888888888,\"#fdca26\"],[1.0,\"#f0f921\"]],\"type\":\"histogram2d\"}],\"histogram2dcontour\":[{\"colorbar\":{\"outlinewidth\":0,\"ticks\":\"\"},\"colorscale\":[[0.0,\"#0d0887\"],[0.1111111111111111,\"#46039f\"],[0.2222222222222222,\"#7201a8\"],[0.3333333333333333,\"#9c179e\"],[0.4444444444444444,\"#bd3786\"],[0.5555555555555556,\"#d8576b\"],[0.6666666666666666,\"#ed7953\"],[0.7777777777777778,\"#fb9f3a\"],[0.8888888888888888,\"#fdca26\"],[1.0,\"#f0f921\"]],\"type\":\"histogram2dcontour\"}],\"mesh3d\":[{\"colorbar\":{\"outlinewidth\":0,\"ticks\":\"\"},\"type\":\"mesh3d\"}],\"parcoords\":[{\"line\":{\"colorbar\":{\"outlinewidth\":0,\"ticks\":\"\"}},\"type\":\"parcoords\"}],\"pie\":[{\"automargin\":true,\"type\":\"pie\"}],\"scatter\":[{\"marker\":{\"colorbar\":{\"outlinewidth\":0,\"ticks\":\"\"}},\"type\":\"scatter\"}],\"scatter3d\":[{\"line\":{\"colorbar\":{\"outlinewidth\":0,\"ticks\":\"\"}},\"marker\":{\"colorbar\":{\"outlinewidth\":0,\"ticks\":\"\"}},\"type\":\"scatter3d\"}],\"scattercarpet\":[{\"marker\":{\"colorbar\":{\"outlinewidth\":0,\"ticks\":\"\"}},\"type\":\"scattercarpet\"}],\"scattergeo\":[{\"marker\":{\"colorbar\":{\"outlinewidth\":0,\"ticks\":\"\"}},\"type\":\"scattergeo\"}],\"scattergl\":[{\"marker\":{\"colorbar\":{\"outlinewidth\":0,\"ticks\":\"\"}},\"type\":\"scattergl\"}],\"scattermapbox\":[{\"marker\":{\"colorbar\":{\"outlinewidth\":0,\"ticks\":\"\"}},\"type\":\"scattermapbox\"}],\"scatterpolar\":[{\"marker\":{\"colorbar\":{\"outlinewidth\":0,\"ticks\":\"\"}},\"type\":\"scatterpolar\"}],\"scatterpolargl\":[{\"marker\":{\"colorbar\":{\"outlinewidth\":0,\"ticks\":\"\"}},\"type\":\"scatterpolargl\"}],\"scatterternary\":[{\"marker\":{\"colorbar\":{\"outlinewidth\":0,\"ticks\":\"\"}},\"type\":\"scatterternary\"}],\"surface\":[{\"colorbar\":{\"outlinewidth\":0,\"ticks\":\"\"},\"colorscale\":[[0.0,\"#0d0887\"],[0.1111111111111111,\"#46039f\"],[0.2222222222222222,\"#7201a8\"],[0.3333333333333333,\"#9c179e\"],[0.4444444444444444,\"#bd3786\"],[0.5555555555555556,\"#d8576b\"],[0.6666666666666666,\"#ed7953\"],[0.7777777777777778,\"#fb9f3a\"],[0.8888888888888888,\"#fdca26\"],[1.0,\"#f0f921\"]],\"type\":\"surface\"}],\"table\":[{\"cells\":{\"fill\":{\"color\":\"#EBF0F8\"},\"line\":{\"color\":\"white\"}},\"header\":{\"fill\":{\"color\":\"#C8D4E3\"},\"line\":{\"color\":\"white\"}},\"type\":\"table\"}]},\"layout\":{\"annotationdefaults\":{\"arrowcolor\":\"#2a3f5f\",\"arrowhead\":0,\"arrowwidth\":1},\"autotypenumbers\":\"strict\",\"coloraxis\":{\"colorbar\":{\"outlinewidth\":0,\"ticks\":\"\"}},\"colorscale\":{\"diverging\":[[0,\"#8e0152\"],[0.1,\"#c51b7d\"],[0.2,\"#de77ae\"],[0.3,\"#f1b6da\"],[0.4,\"#fde0ef\"],[0.5,\"#f7f7f7\"],[0.6,\"#e6f5d0\"],[0.7,\"#b8e186\"],[0.8,\"#7fbc41\"],[0.9,\"#4d9221\"],[1,\"#276419\"]],\"sequential\":[[0.0,\"#0d0887\"],[0.1111111111111111,\"#46039f\"],[0.2222222222222222,\"#7201a8\"],[0.3333333333333333,\"#9c179e\"],[0.4444444444444444,\"#bd3786\"],[0.5555555555555556,\"#d8576b\"],[0.6666666666666666,\"#ed7953\"],[0.7777777777777778,\"#fb9f3a\"],[0.8888888888888888,\"#fdca26\"],[1.0,\"#f0f921\"]],\"sequentialminus\":[[0.0,\"#0d0887\"],[0.1111111111111111,\"#46039f\"],[0.2222222222222222,\"#7201a8\"],[0.3333333333333333,\"#9c179e\"],[0.4444444444444444,\"#bd3786\"],[0.5555555555555556,\"#d8576b\"],[0.6666666666666666,\"#ed7953\"],[0.7777777777777778,\"#fb9f3a\"],[0.8888888888888888,\"#fdca26\"],[1.0,\"#f0f921\"]]},\"colorway\":[\"#636efa\",\"#EF553B\",\"#00cc96\",\"#ab63fa\",\"#FFA15A\",\"#19d3f3\",\"#FF6692\",\"#B6E880\",\"#FF97FF\",\"#FECB52\"],\"font\":{\"color\":\"#2a3f5f\"},\"geo\":{\"bgcolor\":\"white\",\"lakecolor\":\"white\",\"landcolor\":\"#E5ECF6\",\"showlakes\":true,\"showland\":true,\"subunitcolor\":\"white\"},\"hoverlabel\":{\"align\":\"left\"},\"hovermode\":\"closest\",\"mapbox\":{\"style\":\"light\"},\"paper_bgcolor\":\"white\",\"plot_bgcolor\":\"#E5ECF6\",\"polar\":{\"angularaxis\":{\"gridcolor\":\"white\",\"linecolor\":\"white\",\"ticks\":\"\"},\"bgcolor\":\"#E5ECF6\",\"radialaxis\":{\"gridcolor\":\"white\",\"linecolor\":\"white\",\"ticks\":\"\"}},\"scene\":{\"xaxis\":{\"backgroundcolor\":\"#E5ECF6\",\"gridcolor\":\"white\",\"gridwidth\":2,\"linecolor\":\"white\",\"showbackground\":true,\"ticks\":\"\",\"zerolinecolor\":\"white\"},\"yaxis\":{\"backgroundcolor\":\"#E5ECF6\",\"gridcolor\":\"white\",\"gridwidth\":2,\"linecolor\":\"white\",\"showbackground\":true,\"ticks\":\"\",\"zerolinecolor\":\"white\"},\"zaxis\":{\"backgroundcolor\":\"#E5ECF6\",\"gridcolor\":\"white\",\"gridwidth\":2,\"linecolor\":\"white\",\"showbackground\":true,\"ticks\":\"\",\"zerolinecolor\":\"white\"}},\"shapedefaults\":{\"line\":{\"color\":\"#2a3f5f\"}},\"ternary\":{\"aaxis\":{\"gridcolor\":\"white\",\"linecolor\":\"white\",\"ticks\":\"\"},\"baxis\":{\"gridcolor\":\"white\",\"linecolor\":\"white\",\"ticks\":\"\"},\"bgcolor\":\"#E5ECF6\",\"caxis\":{\"gridcolor\":\"white\",\"linecolor\":\"white\",\"ticks\":\"\"}},\"title\":{\"x\":0.05},\"xaxis\":{\"automargin\":true,\"gridcolor\":\"white\",\"linecolor\":\"white\",\"ticks\":\"\",\"title\":{\"standoff\":15},\"zerolinecolor\":\"white\",\"zerolinewidth\":2},\"yaxis\":{\"automargin\":true,\"gridcolor\":\"white\",\"linecolor\":\"white\",\"ticks\":\"\",\"title\":{\"standoff\":15},\"zerolinecolor\":\"white\",\"zerolinewidth\":2}}}},                        {\"responsive\": true}                    ).then(function(){\n",
              "                            \n",
              "var gd = document.getElementById('470f60e1-3a1a-4b9a-b2ea-be11d2095224');\n",
              "var x = new MutationObserver(function (mutations, observer) {{\n",
              "        var display = window.getComputedStyle(gd).display;\n",
              "        if (!display || display === 'none') {{\n",
              "            console.log([gd, 'removed!']);\n",
              "            Plotly.purge(gd);\n",
              "            observer.disconnect();\n",
              "        }}\n",
              "}});\n",
              "\n",
              "// Listen for the removal of the full notebook cells\n",
              "var notebookContainer = gd.closest('#notebook-container');\n",
              "if (notebookContainer) {{\n",
              "    x.observe(notebookContainer, {childList: true});\n",
              "}}\n",
              "\n",
              "// Listen for the clearing of the current output cell\n",
              "var outputEl = gd.closest('.output');\n",
              "if (outputEl) {{\n",
              "    x.observe(outputEl, {childList: true});\n",
              "}}\n",
              "\n",
              "                        })                };                            </script>        </div>\n",
              "</body>\n",
              "</html>"
            ]
          },
          "metadata": {}
        }
      ]
    }
  ]
}