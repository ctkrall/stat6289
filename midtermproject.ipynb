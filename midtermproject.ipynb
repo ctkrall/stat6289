{
  "nbformat": 4,
  "nbformat_minor": 0,
  "metadata": {
    "colab": {
      "name": "midtermproject.ipynb",
      "provenance": [],
      "collapsed_sections": []
    },
    "kernelspec": {
      "name": "python3",
      "display_name": "Python 3"
    },
    "language_info": {
      "name": "python"
    }
  },
  "cells": [
    {
      "cell_type": "markdown",
      "source": [
        "Import the necessary packages"
      ],
      "metadata": {
        "id": "Ra6xTnEfeGKY"
      }
    },
    {
      "cell_type": "code",
      "source": [
        "import torch\n",
        "import matplotlib.pyplot as plt\n",
        "import pandas as pd\n",
        "import torch.nn as nn\n",
        "import torch.nn.functional as F"
      ],
      "metadata": {
        "id": "q2OVgw4qVu3M"
      },
      "execution_count": 1,
      "outputs": []
    },
    {
      "cell_type": "markdown",
      "source": [
        "Import the training dataset and get the number of observations"
      ],
      "metadata": {
        "id": "7qInI-aTeL1U"
      }
    },
    {
      "cell_type": "code",
      "execution_count": 2,
      "metadata": {
        "colab": {
          "base_uri": "https://localhost:8080/"
        },
        "id": "_gMDHpsTVJ9y",
        "outputId": "31febbb8-b565-4216-c6f5-ec4fd78b6c80"
      },
      "outputs": [
        {
          "output_type": "stream",
          "name": "stdout",
          "text": [
            "3986\n"
          ]
        },
        {
          "output_type": "stream",
          "name": "stderr",
          "text": [
            "/usr/local/lib/python3.7/dist-packages/ipykernel_launcher.py:8: UserWarning: Creating a tensor from a list of numpy.ndarrays is extremely slow. Please consider converting the list to a single numpy.ndarray with numpy.array() before converting to a tensor. (Triggered internally at  ../torch/csrc/utils/tensor_new.cpp:201.)\n",
            "  \n"
          ]
        }
      ],
      "source": [
        "train_election20 = pd.read_csv('https://raw.githubusercontent.com/ctkrall/stat6289/main/election2020.csv', skiprows=1) #pandas dataset skipping the column name row in csv file\n",
        "train_election20.columns = ['state', 'countyID', 'precnum', 'party','pper','ssper'] #redefine the column names\n",
        "\n",
        "print(len(train_election20)) #get input dimension\n",
        "\n",
        "# build a tensor with the 2 numeric columns 'pper' and 'ssper'-- note the square brackets inside the parens\n",
        "# this creates a 2-dimensional tensor\n",
        "trainset = torch.tensor([train_election20['pper'].values, train_election20['ssper'].values])\n",
        "\n",
        "trainset1 = torch.transpose(trainset, 0, 1) #creates a 3986 dimensional tensor\n",
        "\n",
        "#print(trainset)\n",
        "#print(trainset1)"
      ]
    },
    {
      "cell_type": "code",
      "source": [
        "trainloader = torch.utils.data.DataLoader(trainset1, batch_size = 32, num_workers=2)"
      ],
      "metadata": {
        "id": "bjqr7KBm5dq8"
      },
      "execution_count": 3,
      "outputs": []
    },
    {
      "cell_type": "markdown",
      "source": [
        "import the test dataset"
      ],
      "metadata": {
        "id": "EM4SQ6dBTvr1"
      }
    },
    {
      "cell_type": "code",
      "source": [
        "election16 = pd.read_csv('https://raw.githubusercontent.com/ctkrall/stat6289/main/election2016.csv', skiprows=103) #pandas dataset skipping the column name row in csv file\n",
        "election16.columns = ['state', 'countyID', 'precnum', 'party','pper','ssper'] #redefine the column names\n",
        "\n",
        "print(len(election16)) #get input dimension\n",
        "\n",
        "# build a tensor with the 2 numeric columns 'pper' and 'ssper'-- note the square brackets inside the parens\n",
        "# this creates a 2-dimensional tensor\n",
        "testset = torch.tensor([election16['pper'].values, election16['ssper'].values])\n",
        "\n",
        "testset1 = torch.transpose(testset, 0, 1) #creates a 3986 dimensional tensor\n"
      ],
      "metadata": {
        "colab": {
          "base_uri": "https://localhost:8080/"
        },
        "id": "aU8l1OERTyG3",
        "outputId": "5725db8e-63cb-4db9-95ac-32e214d9081b"
      },
      "execution_count": 15,
      "outputs": [
        {
          "output_type": "stream",
          "name": "stdout",
          "text": [
            "3986\n"
          ]
        }
      ]
    },
    {
      "cell_type": "code",
      "source": [
        "testloader = torch.utils.data.DataLoader(testset1, num_workers=2)"
      ],
      "metadata": {
        "id": "gyV595eMU8oR"
      },
      "execution_count": 16,
      "outputs": []
    },
    {
      "cell_type": "markdown",
      "source": [
        "Define the neural network: a fully connected model with one hidden layer and a dropout rate of 50%"
      ],
      "metadata": {
        "id": "oFDF02CzecDb"
      }
    },
    {
      "cell_type": "code",
      "source": [
        "class Net(nn.Module):\n",
        "    def __init__(self):\n",
        "        super(Net, self).__init__()\n",
        "        self.fc1 = nn.Linear(1, 100)\n",
        "        self.fc2 = nn.Linear(100, 1)\n",
        "\n",
        "    def forward(self, x):\n",
        "        x = torch.sigmoid(self.fc1(x)) #hidden layer 1\n",
        "        out = torch.sigmoid(self.fc2(x)) #hidden layer 2\n",
        "\n",
        "        return out\n",
        "\n",
        "\n",
        "net = Net()\n",
        "net = net.float()"
      ],
      "metadata": {
        "id": "vbU982JLZZSi"
      },
      "execution_count": 4,
      "outputs": []
    },
    {
      "cell_type": "markdown",
      "source": [
        "Train the model over 2 epochs using backpropogation"
      ],
      "metadata": {
        "id": "3GIN1ueunGjb"
      }
    },
    {
      "cell_type": "markdown",
      "source": [
        ""
      ],
      "metadata": {
        "id": "pmuIgBJdxaaC"
      }
    },
    {
      "cell_type": "code",
      "source": [
        "import torch.optim as optim"
      ],
      "metadata": {
        "id": "KwxYv70vph5X"
      },
      "execution_count": 5,
      "outputs": []
    },
    {
      "cell_type": "code",
      "source": [
        "criterion = nn.MSELoss()\n",
        "criterion2 = nn.BCELoss()\n",
        "optimizer = torch.optim.Adam(net.parameters(), lr=0.001)"
      ],
      "metadata": {
        "id": "2nLPWiFAeE_s"
      },
      "execution_count": 6,
      "outputs": []
    },
    {
      "cell_type": "code",
      "source": [
        "losses = []\n",
        "runningloss = 0.0\n",
        "epochnum = 10\n",
        "\n",
        "for epochs in range(epochnum):\n",
        "  for i, data in enumerate(trainloader, 0):\n",
        "    pres, ssen = data[0]\n",
        "    pres2 = (pres.unsqueeze(dim=0))/100\n",
        "    ssen2 = (ssen.unsqueeze(dim = 0))/100\n",
        "    #print(ssen2)\n",
        "    \n",
        "    outputs = net.forward(pres2.float())\n",
        "    loss = criterion(outputs, ssen2.float())\n",
        "\n",
        "    optimizer.zero_grad()\n",
        "    loss.backward()\n",
        "    optimizer.step()\n",
        "    runningloss += abs(loss.item())\n",
        "  losses.append(runningloss/3986)\n",
        "  runningloss = 0.0\n",
        "\n",
        "print('Finished Training')"
      ],
      "metadata": {
        "id": "z6OqCgu6uZ0Q",
        "colab": {
          "base_uri": "https://localhost:8080/"
        },
        "outputId": "20acca36-7962-44e3-eda3-0c2e5ec0c85c"
      },
      "execution_count": 7,
      "outputs": [
        {
          "output_type": "stream",
          "name": "stdout",
          "text": [
            "Finished Training\n"
          ]
        }
      ]
    },
    {
      "cell_type": "code",
      "source": [
        "PATH = './MSEnet.pth'\n",
        "torch.save(net.state_dict(), PATH)"
      ],
      "metadata": {
        "id": "v93Qsmz6-Fza"
      },
      "execution_count": 12,
      "outputs": []
    },
    {
      "cell_type": "code",
      "source": [
        "losses2 = []\n",
        "runningloss2 = 0.0\n",
        "\n",
        "for epochs in range(epochnum):\n",
        "  for i, data in enumerate(trainloader, 0):\n",
        "    pres, ssen = data[0]\n",
        "    pres2 = (pres.unsqueeze(dim=0))/100\n",
        "    ssen2 = (ssen.unsqueeze(dim = 0))/100\n",
        "    #print(ssen2)\n",
        "    \n",
        "    outputs = net.forward(pres2.float())\n",
        "    loss = criterion2(outputs, ssen2.float())\n",
        "\n",
        "    optimizer.zero_grad()\n",
        "    loss.backward()\n",
        "    optimizer.step()\n",
        "    runningloss2 += abs(loss.item())\n",
        "  losses2.append(runningloss2/3986)\n",
        "  runningloss2 = 0.0\n",
        "\n",
        "print('Finished Training')"
      ],
      "metadata": {
        "colab": {
          "base_uri": "https://localhost:8080/"
        },
        "id": "fBWGe2um8dQn",
        "outputId": "4ed00df9-ad1a-4436-c9c2-0fc6f49ecbbe"
      },
      "execution_count": 8,
      "outputs": [
        {
          "output_type": "stream",
          "name": "stdout",
          "text": [
            "Finished Training\n"
          ]
        }
      ]
    },
    {
      "cell_type": "markdown",
      "source": [
        "Graph the loss vs the epoch to see if the model converges"
      ],
      "metadata": {
        "id": "Rt90V5B8vNHL"
      }
    },
    {
      "cell_type": "code",
      "source": [
        "\n",
        "plt.plot(range(epochnum), losses)\n",
        "plt.plot(range(epochnum), losses2)\n",
        "plt.ylabel(\"Loss\")\n",
        "plt.xlabel(\"Epoch\")"
      ],
      "metadata": {
        "colab": {
          "base_uri": "https://localhost:8080/",
          "height": 296
        },
        "id": "L9ESFryyvMLI",
        "outputId": "f10ecb0b-c8a8-4151-bdd6-ac6f6978d1f8"
      },
      "execution_count": 11,
      "outputs": [
        {
          "output_type": "execute_result",
          "data": {
            "text/plain": [
              "Text(0.5, 0, 'Epoch')"
            ]
          },
          "metadata": {},
          "execution_count": 11
        },
        {
          "output_type": "display_data",
          "data": {
            "text/plain": [
              "<Figure size 432x288 with 1 Axes>"
            ],
            "image/png": "[encoded data removed]"
          },
          "metadata": {
            "needs_background": "light"
          }
        }
      ]
    },
    {
      "cell_type": "markdown",
      "source": [
        "compare the model to the test data set"
      ],
      "metadata": {
        "id": "ovj-V9zz_cnU"
      }
    },
    {
      "cell_type": "code",
      "source": [
        "dataiter = iter(testloader)\n",
        "for data in testloader:\n",
        "    pres, ssen = data[0]\n",
        "    pres2 = (pres.unsqueeze(dim=0))/100\n",
        "    ssen2 = (ssen.unsqueeze(dim = 0))/100\n",
        "\n"
      ],
      "metadata": {
        "id": "cQAaA3wr-h_Q"
      },
      "execution_count": 18,
      "outputs": []
    },
    {
      "cell_type": "code",
      "source": [
        "net = Net()\n",
        "net.load_state_dict(torch.load(PATH))"
      ],
      "metadata": {
        "colab": {
          "base_uri": "https://localhost:8080/"
        },
        "id": "fLJwfJjE-MER",
        "outputId": "948b37b4-5838-4b6f-e2e5-dded45a0c2fb"
      },
      "execution_count": 13,
      "outputs": [
        {
          "output_type": "execute_result",
          "data": {
            "text/plain": [
              "<All keys matched successfully>"
            ]
          },
          "metadata": {},
          "execution_count": 13
        }
      ]
    },
    {
      "cell_type": "code",
      "source": [
        "outputs = net(pres2.float())"
      ],
      "metadata": {
        "id": "bir3JkP2-T1X"
      },
      "execution_count": 20,
      "outputs": []
    },
    {
      "cell_type": "code",
      "source": [
        "testloss = []\n",
        "testrunloss = 0.0\n",
        "\n",
        "with torch.no_grad():\n",
        "  for epoch in range(epochnum):\n",
        "    for data in testloader:\n",
        "      pres, ssen = data[0]\n",
        "      pres2 = (pres.unsqueeze(dim=0))/100\n",
        "      ssen2 = (ssen.unsqueeze(dim = 0))/100\n",
        "    \n",
        "      outputs = net.forward(pres2.float())\n",
        "      loss = criterion(outputs, ssen2.float())\n",
        "      testrunloss += abs(loss.item())\n",
        "    testloss.append(testrunloss/3986)\n",
        "    testrunloss = 0.0\n",
        "    "
      ],
      "metadata": {
        "id": "Dde6ttVi_cCl"
      },
      "execution_count": 23,
      "outputs": []
    },
    {
      "cell_type": "code",
      "source": [
        "plt.plot(range(epochnum), losses)\n",
        "plt.plot(range(epochnum), testloss)\n",
        "\n",
        "plt.ylabel(\"Loss\")\n",
        "plt.xlabel(\"Epoch\")\n",
        "\n",
        "print(testloss)"
      ],
      "metadata": {
        "colab": {
          "base_uri": "https://localhost:8080/",
          "height": 316
        },
        "id": "c_1x47W7_q_6",
        "outputId": "4f6483aa-95c9-4489-b2ae-5a0cf6d60248"
      },
      "execution_count": 27,
      "outputs": [
        {
          "output_type": "stream",
          "name": "stdout",
          "text": [
            "[0.010175438508618542, 0.010175438508618542, 0.010175438508618542, 0.010175438508618542, 0.010175438508618542, 0.010175438508618542, 0.010175438508618542, 0.010175438508618542, 0.010175438508618542, 0.010175438508618542]\n"
          ]
        },
        {
          "output_type": "display_data",
          "data": {
            "text/plain": [
              "<Figure size 432x288 with 1 Axes>"
            ],
            "image/png": "[encoded data removed]"
          },
          "metadata": {
            "needs_background": "light"
          }
        }
      ]
    }
  ]
}