{
  "nbformat": 4,
  "nbformat_minor": 0,
  "metadata": {
    "colab": {
      "name": "Homework4_Krall_Caroline.ipynb",
      "provenance": [],
      "collapsed_sections": []
    },
    "kernelspec": {
      "name": "python3",
      "display_name": "Python 3"
    },
    "language_info": {
      "name": "python"
    }
  },
  "cells": [
    {
      "cell_type": "code",
      "execution_count": 4,
      "metadata": {
        "colab": {
          "base_uri": "https://localhost:8080/"
        },
        "id": "mN0-zBR1iV3M",
        "outputId": "aab14f98-6d9f-409f-ec63-12e69067ff0e"
      },
      "outputs": [
        {
          "output_type": "stream",
          "name": "stdout",
          "text": [
            "Installing Magnitude.... (please wait, can take a while)\n",
            "  % Total    % Received % Xferd  Average Speed   Time    Time     Time  Current\n",
            "                                 Dload  Upload   Total   Spent    Left  Speed\n",
            "100   137  100   137    0     0   1014      0 --:--:-- --:--:-- --:--:--  1014\n",
            "Done installing Magnitude.\n"
          ]
        }
      ],
      "source": [
        "# Install Magnitude on Google Colab\n",
        "! echo \"Installing Magnitude.... (please wait, can take a while)\"\n",
        "! (curl https://raw.githubusercontent.com/plasticityai/magnitude/master/install-colab.sh | /bin/bash 1>/dev/null 2>/dev/null)\n",
        "! echo \"Done installing Magnitude.\""
      ]
    },
    {
      "cell_type": "markdown",
      "source": [
        "Install the Magnitude library and the pretrained model"
      ],
      "metadata": {
        "id": "YEAHl2OKjGkd"
      }
    },
    {
      "cell_type": "code",
      "source": [
        "from pymagnitude import Magnitude \n",
        "vectors = Magnitude('http://magnitude.plasticity.ai/word2vec/GoogleNews-vectors-negative300.magnitude')\n"
      ],
      "metadata": {
        "id": "fTEQrWr5oPzx"
      },
      "execution_count": 5,
      "outputs": []
    },
    {
      "cell_type": "markdown",
      "source": [
        "Description of key functions and procedures"
      ],
      "metadata": {
        "id": "Sx65aogNjOO9"
      }
    },
    {
      "cell_type": "markdown",
      "source": [
        "Getting some basic dimensions"
      ],
      "metadata": {
        "id": "Po4m2qfuHkCj"
      }
    },
    {
      "cell_type": "code",
      "source": [
        "len(vectors)\n"
      ],
      "metadata": {
        "colab": {
          "base_uri": "https://localhost:8080/"
        },
        "id": "eQDExQcjqbtx",
        "outputId": "293c5f33-f2d2-42a6-af88-057a478ba77a"
      },
      "execution_count": 42,
      "outputs": [
        {
          "output_type": "execute_result",
          "data": {
            "text/plain": [
              "3000000"
            ]
          },
          "metadata": {},
          "execution_count": 42
        }
      ]
    },
    {
      "cell_type": "markdown",
      "source": [
        "How to view the actual vector for a specific word (can be done for multiple words at once"
      ],
      "metadata": {
        "id": "9HR8cqG-HpDK"
      }
    },
    {
      "cell_type": "code",
      "source": [
        "vectors.query(['turtle'])"
      ],
      "metadata": {
        "colab": {
          "base_uri": "https://localhost:8080/"
        },
        "id": "fGuJcQf3Hpa4",
        "outputId": "10b81d46-8b8e-424d-d80e-83c6b070788c"
      },
      "execution_count": 18,
      "outputs": [
        {
          "output_type": "execute_result",
          "data": {
            "text/plain": [
              "array([[ 0.01637  ,  0.072989 , -0.066381 ,  0.0633773, -0.0256813,\n",
              "        -0.0699854, -0.0210256, -0.0164451,  0.031989 ,  0.0140421,\n",
              "         0.0367949, -0.0961172, -0.0162949, -0.1387693, -0.0955165,\n",
              "        -0.0447546, -0.0459561, -0.0408498, -0.1381685, -0.0007181,\n",
              "         0.0405495, -0.019674 ,  0.0361941,  0.0949158, -0.0447546,\n",
              "        -0.0651795, -0.0294359,  0.0762931,  0.1399707, -0.0100623,\n",
              "        -0.0252308,  0.054066 , -0.045055 , -0.0086731,  0.0262821,\n",
              "        -0.0567692,  0.0684835, -0.0162949,  0.0070211,  0.0444542,\n",
              "        -0.0238791,  0.0456557,  0.0726887,  0.0804982, -0.0211758,\n",
              "        -0.1081319, -0.0025343,  0.0859048,  0.1886301,  0.0582711,\n",
              "        -0.0195238,  0.0657802,  0.0768938, -0.0318388,  0.0138169,\n",
              "         0.0367949,  0.0333407,  0.0204249,  0.1519854,  0.0043553,\n",
              "        -0.009837 , -0.0294359, -0.0049185, -0.0396484,  0.0309377,\n",
              "        -0.0657802,  0.0008307, -0.0414506, -0.0130659, -0.0040362,\n",
              "         0.0387473,  0.0252308, -0.0049185, -0.0420513, -0.039348 ,\n",
              "        -0.0099872, -0.0156191, -0.0810989, -0.0597729, -0.0241795,\n",
              "        -0.0327399, -0.0190733,  0.0642784, -0.0925128,  0.0073214,\n",
              "         0.096718 , -0.0534652, -0.1621978,  0.033641 , -0.0798975,\n",
              "         0.0889084,  0.0531649, -0.0462564,  0.011489 , -0.0134414,\n",
              "         0.0259817,  0.0459561,  0.0492601,  0.0117894, -0.0342418,\n",
              "        -0.0176465, -0.0129908,  0.0432528, -0.0177216,  0.0138169,\n",
              "        -0.0130659,  0.0603736, -0.0741905,  0.0095366,  0.0057821,\n",
              "        -0.0961172, -0.048359 ,  0.0597729,  0.0955165, -0.0183224,\n",
              "        -0.0255311, -0.0182473, -0.1357656, -0.0693846, -0.0153938,\n",
              "        -0.0579707,  0.0279341, -0.0189231,  0.0226777, -0.1207473,\n",
              "         0.0414506,  0.0901099, -0.0072088, -0.0173462,  0.0208755,\n",
              "        -0.0714872, -0.0142674, -0.0423517,  0.0462564, -0.0115641,\n",
              "         0.0189231,  0.0047871, -0.0382967,  0.0256813,  0.0865055,\n",
              "         0.0522638,  0.0104377, -0.0144176,  0.0931136,  0.0168205,\n",
              "         0.0297363, -0.0358938,  0.0699854, -0.0636777, -0.0222271,\n",
              "         0.0955165, -0.0576703, -0.1471795,  0.1369671,  0.0768938,\n",
              "        -0.0612747,  0.0202747,  0.0135165,  0.0079973,  0.0036044,\n",
              "         0.030337 , -0.0300366,  0.0660806, -0.0249304, -0.0474579,\n",
              "        -0.0699854,  0.0552674,  0.0091987, -0.0205751, -0.0355934,\n",
              "         0.0498608,  0.0744909,  0.0477583,  0.0561685, -0.0949158,\n",
              "        -0.014793 ,  0.0355934,  0.0835019,  0.015544 , -0.004712 ,\n",
              "        -0.0702857, -0.1249524, -0.0283846,  0.0456557, -0.0582711,\n",
              "         0.0210256,  0.0048059, -0.0082976,  0.0306374,  0.0853041,\n",
              "        -0.0654799, -0.0537656, -0.1009231, -0.0261319,  0.0088608,\n",
              "         0.0570696, -0.0141923, -0.02463  , -0.051663 ,  0.028685 ,\n",
              "        -0.0010935, -0.1051282, -0.0202747, -0.0363443, -0.0417509,\n",
              "        -0.0441539,  0.0234286, -0.019674 , -0.003473 , -0.0042051,\n",
              "        -0.0726887,  0.0222271, -0.0313883, -0.1195458, -0.0101374,\n",
              "         0.078696 ,  0.1027253, -0.0889084,  0.0003637,  0.0060449,\n",
              "         0.0330403,  0.0052564, -0.0190733, -0.0044116, -0.0576703,\n",
              "        -0.1111356,  0.0211758,  0.0435531,  0.0453553,  0.0025343,\n",
              "         0.1387693, -0.0997216, -0.0193736, -0.1309597, -0.0109634,\n",
              "        -0.1646008,  0.0471575, -0.05737  ,  0.1021246,  0.0489597,\n",
              "         0.0847033, -0.0678828,  0.0015675, -0.0726887,  0.0156941,\n",
              "         0.0046557, -0.0056694,  0.048359 ,  0.0690843, -0.0871063,\n",
              "        -0.1201466, -0.0279341,  0.0099121, -0.0408498, -0.0105879,\n",
              "        -0.0280843, -0.0184725, -0.0678828, -0.0262821,  0.0071712,\n",
              "        -0.0291355,  0.0086731,  0.0088233,  0.0358938,  0.0513627,\n",
              "         0.0618755, -0.0829011, -0.0099872,  0.0007415, -0.0068709,\n",
              "        -0.0501612,  0.0456557, -0.0465568,  0.0387473, -0.0110385,\n",
              "        -0.0367949, -0.0597729, -0.0168956, -0.0255311,  0.0235788,\n",
              "         0.0621758,  0.0495605,  0.0901099,  0.0348425,  0.0702857,\n",
              "        -0.0853041, -0.0191484,  0.036044 ,  0.039348 ,  0.1297583,\n",
              "        -0.0216264, -0.0060073, -0.0498608, -0.0438535,  0.0525641,\n",
              "         0.0277839,  0.0321392,  0.0762931, -0.0071712,  0.0114139]],\n",
              "      dtype=float32)"
            ]
          },
          "metadata": {},
          "execution_count": 18
        }
      ]
    },
    {
      "cell_type": "markdown",
      "source": [
        "How to find the distance between two vectors"
      ],
      "metadata": {
        "id": "taK-TwyLak8h"
      }
    },
    {
      "cell_type": "code",
      "source": [
        "vectors.distance('cake', 'cookie')\n"
      ],
      "metadata": {
        "colab": {
          "base_uri": "https://localhost:8080/"
        },
        "id": "Yxn9fRd_IIFv",
        "outputId": "3a3e7b53-9261-4b82-fe80-f6c059aacef3"
      },
      "execution_count": 23,
      "outputs": [
        {
          "output_type": "execute_result",
          "data": {
            "text/plain": [
              "0.991197"
            ]
          },
          "metadata": {},
          "execution_count": 23
        }
      ]
    },
    {
      "cell_type": "markdown",
      "source": [
        "How to find the similarity between two vectors"
      ],
      "metadata": {
        "id": "kwEEYRRiasBB"
      }
    },
    {
      "cell_type": "code",
      "source": [
        "vectors.similarity('cake','cookie')"
      ],
      "metadata": {
        "colab": {
          "base_uri": "https://localhost:8080/"
        },
        "id": "3X3gbq_aId2t",
        "outputId": "62da2525-e6bc-461e-fc5d-94d38f22bdc7"
      },
      "execution_count": 22,
      "outputs": [
        {
          "output_type": "execute_result",
          "data": {
            "text/plain": [
              "0.5087643"
            ]
          },
          "metadata": {},
          "execution_count": 22
        }
      ]
    },
    {
      "cell_type": "markdown",
      "source": [
        "In order to solve analogies, the most similar function can be used by specifying a word in the negative argument. Otherwise it will just generate the most similar words."
      ],
      "metadata": {
        "id": "24pfME_qcAru"
      }
    },
    {
      "cell_type": "code",
      "source": [
        "vectors.most_similar(positive = [\"berlin\", \"spain\"], negative = [\"germany\"])"
      ],
      "metadata": {
        "colab": {
          "base_uri": "https://localhost:8080/"
        },
        "id": "Zk9v_JDMapuJ",
        "outputId": "3b97d4c4-3bf5-4eba-8968-740327f6c21f"
      },
      "execution_count": 35,
      "outputs": [
        {
          "output_type": "execute_result",
          "data": {
            "text/plain": [
              "[('luis', 0.5204659),\n",
              " ('fernando', 0.50381136),\n",
              " ('carlos', 0.49627244),\n",
              " ('diego', 0.49627244),\n",
              " ('ojos', 0.4823826),\n",
              " ('madrid', 0.48142323),\n",
              " ('cuesta', 0.48133546),\n",
              " ('puerta', 0.47725302),\n",
              " ('cosas', 0.4767569),\n",
              " ('dubai', 0.4740866)]"
            ]
          },
          "metadata": {},
          "execution_count": 35
        }
      ]
    },
    {
      "cell_type": "markdown",
      "source": [
        "Visualizations"
      ],
      "metadata": {
        "id": "ENan-NoyjitS"
      }
    },
    {
      "cell_type": "code",
      "source": [
        "import matplotlib.pyplot as plt\n",
        "from sklearn.manifold import TSNE\n",
        "import numpy as np\n",
        "from sklearn.decomposition import PCA"
      ],
      "metadata": {
        "id": "sBt1klfaWSYw"
      },
      "execution_count": 21,
      "outputs": []
    },
    {
      "cell_type": "code",
      "source": [
        "turtle = vectors.most_similar(\"turtle\", topn = 20)\n",
        "\n",
        "print(turtle)\n"
      ],
      "metadata": {
        "colab": {
          "base_uri": "https://localhost:8080/"
        },
        "id": "FgENDtA4WgBi",
        "outputId": "18e6e53d-4287-4ace-fdcc-cb8f78dee75a"
      },
      "execution_count": 49,
      "outputs": [
        {
          "output_type": "stream",
          "name": "stdout",
          "text": [
            "[('turtles', 0.7952653), ('sea_turtle', 0.7411057), ('otter', 0.6718745), ('manatee', 0.6710109), ('terrapin', 0.6650084), ('dolphin', 0.6598114), ('loggerhead_turtle', 0.6589354), ('sea_turtles', 0.6346027), ('tortoise', 0.6291955), ('leatherback_sea_turtle', 0.62492204), ('Loggerhead_turtle', 0.62467325), ('hawksbill_turtle', 0.6242943), ('pelican', 0.6236788), ('diamondback_terrapin', 0.6224748), ('reptile', 0.62060773), ('lizard', 0.6196492), ('bird', 0.6174387), ('frog', 0.61566645), ('Hawksbill_turtle', 0.61428), ('hawksbill_turtles', 0.6124004)]\n"
          ]
        }
      ]
    },
    {
      "cell_type": "code",
      "source": [
        "samplevecs = vectors.query([\"I\", \"read\", \"a\", \"book\"])"
      ],
      "metadata": {
        "id": "I7VmfqGGEUid"
      },
      "execution_count": 61,
      "outputs": []
    },
    {
      "cell_type": "code",
      "source": [
        "\n",
        "\n",
        "def tsne_plot(model):\n",
        "\n",
        "    labels = []\n",
        "    tokens = []\n",
        "\n",
        "    for key in samplevecs:\n",
        "        tokens.append(vector)\n",
        "        labels.append(key)\n",
        "    \n",
        "    tsne_model = TSNE(perplexity=40, n_components=2, init='pca', n_iter=2500, random_state=23)\n",
        "    new_values = tsne_model.fit_transform(tokens)\n",
        "\n",
        "    x = []\n",
        "    y = []\n",
        "    for value in new_values:\n",
        "        x.append(value[0])\n",
        "        y.append(value[1])\n",
        "\n",
        "    plt.figure(figsize=(16, 16)) \n",
        "    for i in range(len(x)):\n",
        "        plt.scatter(x[i],y[i])\n",
        "\n",
        "    plt.show()\n"
      ],
      "metadata": {
        "id": "wVlVhnsA9Evd"
      },
      "execution_count": 67,
      "outputs": []
    },
    {
      "cell_type": "code",
      "source": [
        "tsne_plot(samplevecs)"
      ],
      "metadata": {
        "colab": {
          "base_uri": "https://localhost:8080/",
          "height": 1000
        },
        "id": "wJtZL3me9Gwc",
        "outputId": "33246a97-da2e-4954-abb7-ff494bc3c680"
      },
      "execution_count": 68,
      "outputs": [
        {
          "output_type": "stream",
          "name": "stderr",
          "text": [
            "/usr/local/lib/python3.7/dist-packages/sklearn/manifold/_t_sne.py:793: FutureWarning: The default learning rate in TSNE will change from 200.0 to 'auto' in 1.2.\n",
            "  FutureWarning,\n",
            "/usr/local/lib/python3.7/dist-packages/sklearn/decomposition/_pca.py:595: RuntimeWarning: invalid value encountered in true_divide\n",
            "  self.explained_variance_ratio_ = self.explained_variance_ / total_var.sum()\n",
            "/usr/local/lib/python3.7/dist-packages/sklearn/manifold/_t_sne.py:986: FutureWarning: The PCA initialization in TSNE will change to have the standard deviation of PC1 equal to 1e-4 in 1.2. This will ensure better convergence.\n",
            "  FutureWarning,\n"
          ]
        },
        {
          "output_type": "display_data",
          "data": {
            "text/plain": [
              "<Figure size 1152x1152 with 1 Axes>"
            ],
            "image/png": "[encoded data removed]"
          },
          "metadata": {
            "needs_background": "light"
          }
        }
      ]
    },
    {
      "cell_type": "markdown",
      "source": [
        "Assignment Questions:\n",
        "1. What is the dimensionality of these word embeddings? Provide an integer answer.\n",
        "  300\n",
        "2. What are the top-5 most similar words to picnic (not including picnic itself)?\n",
        "  picnics, picnic lunch, potluck, picnic supper, picnicking, cookout\n",
        "3. According to the word embeddings, which of these words is not like the others? ['tissue', 'papyrus',\n",
        "'manila', 'newsprint', 'parchment', 'gazette']\n",
        "  tissue\n",
        "4. Solve the following analogy: leg is to jump as X is to throw.\n",
        "  forearm"
      ],
      "metadata": {
        "id": "m-i3LNK9jkjw"
      }
    },
    {
      "cell_type": "code",
      "source": [
        "vectors.dim"
      ],
      "metadata": {
        "colab": {
          "base_uri": "https://localhost:8080/"
        },
        "id": "xml4vIVBqh61",
        "outputId": "357ac805-b5bb-4920-bcc6-d45f855bfb64"
      },
      "execution_count": 15,
      "outputs": [
        {
          "output_type": "execute_result",
          "data": {
            "text/plain": [
              "300"
            ]
          },
          "metadata": {},
          "execution_count": 15
        }
      ]
    },
    {
      "cell_type": "code",
      "source": [
        "vectors.most_similar(\"picnic\", topn = 7)"
      ],
      "metadata": {
        "colab": {
          "base_uri": "https://localhost:8080/"
        },
        "id": "8xb82wgjqp8T",
        "outputId": "a82e5db0-57f5-42db-b34f-06c1eec6afcf"
      },
      "execution_count": 8,
      "outputs": [
        {
          "output_type": "execute_result",
          "data": {
            "text/plain": [
              "[('picnics', 0.7400875),\n",
              " ('picnic_lunch', 0.721374),\n",
              " ('Picnic', 0.700534),\n",
              " ('potluck_picnic', 0.6683274),\n",
              " ('picnic_supper', 0.65189123),\n",
              " ('picnicking', 0.63550216),\n",
              " ('cookout', 0.63243484)]"
            ]
          },
          "metadata": {},
          "execution_count": 8
        }
      ]
    },
    {
      "cell_type": "code",
      "source": [
        " vectors.doesnt_match(['tissue', 'papyrus', 'manila', 'newsprint', 'parchment', 'gazette'])"
      ],
      "metadata": {
        "colab": {
          "base_uri": "https://localhost:8080/",
          "height": 35
        },
        "id": "wnIEaSClqZfT",
        "outputId": "13cb55e4-6227-47f2-b7a9-a60ad3a07730"
      },
      "execution_count": 17,
      "outputs": [
        {
          "output_type": "execute_result",
          "data": {
            "text/plain": [
              "'tissue'"
            ],
            "application/vnd.google.colaboratory.intrinsic+json": {
              "type": "string"
            }
          },
          "metadata": {},
          "execution_count": 17
        }
      ]
    },
    {
      "cell_type": "code",
      "source": [
        "vectors.most_similar(positive = [\"throw\", \"leg\"], negative = [\"jump\"])"
      ],
      "metadata": {
        "colab": {
          "base_uri": "https://localhost:8080/"
        },
        "id": "j7zFD4z6rOHq",
        "outputId": "25ff3403-063b-42ad-dced-aa33772274e3"
      },
      "execution_count": 13,
      "outputs": [
        {
          "output_type": "execute_result",
          "data": {
            "text/plain": [
              "[('forearm', 0.48294652),\n",
              " ('shin', 0.47376165),\n",
              " ('elbow', 0.4679689),\n",
              " ('metacarpal_bone', 0.46781474),\n",
              " ('metacarpal_bones', 0.46605822),\n",
              " ('ankle', 0.46434426),\n",
              " ('shoulder', 0.46183354),\n",
              " ('thigh', 0.45393682),\n",
              " ('knee', 0.4455707),\n",
              " ('ulna_bone', 0.4423491)]"
            ]
          },
          "metadata": {},
          "execution_count": 13
        }
      ]
    }
  ]
}