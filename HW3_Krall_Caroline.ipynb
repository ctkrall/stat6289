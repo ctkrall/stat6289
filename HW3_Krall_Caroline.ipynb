{
  "nbformat": 4,
  "nbformat_minor": 0,
  "metadata": {
    "colab": {
      "name": "HW3_Krall_Caroline.ipynb",
      "provenance": []
    },
    "kernelspec": {
      "name": "python3",
      "display_name": "Python 3"
    },
    "language_info": {
      "name": "python"
    }
  },
  "cells": [
    {
      "cell_type": "markdown",
      "source": [
        "Load Packages and data"
      ],
      "metadata": {
        "id": "EsSZN5TGbd6h"
      }
    },
    {
      "cell_type": "code",
      "execution_count": 3,
      "metadata": {
        "colab": {
          "base_uri": "https://localhost:8080/",
          "height": 224
        },
        "id": "BcqmjkbFbXri",
        "outputId": "9152d9ed-385c-4c26-b91b-7162f917f11f"
      },
      "outputs": [
        {
          "output_type": "stream",
          "name": "stdout",
          "text": [
            "Number of rows and columns: (1259, 7)\n"
          ]
        },
        {
          "output_type": "execute_result",
          "data": {
            "text/plain": [
              "         Date       Open       High        Low      Close  Adj Close    Volume\n",
              "0  2015-07-10  52.444000  52.599998  51.563999  51.830002  51.830002  13054500\n",
              "1  2015-07-13  52.450001  52.509998  51.209999  52.431999  52.431999  14801500\n",
              "2  2015-07-14  52.419998  53.198002  52.102001  53.130001  53.130001   9538000\n",
              "3  2015-07-15  53.348000  53.498001  52.416000  52.627998  52.627998  10108000\n",
              "4  2015-07-16  52.844002  53.439999  52.632000  53.335999  53.335999   8080000"
            ],
            "text/html": [
              "\n",
              "  <div id=\"df-1c14bf82-25d8-4fd2-b273-b8bd0658d063\">\n",
              "    <div class=\"colab-df-container\">\n",
              "      <div>\n",
              "<style scoped>\n",
              "    .dataframe tbody tr th:only-of-type {\n",
              "        vertical-align: middle;\n",
              "    }\n",
              "\n",
              "    .dataframe tbody tr th {\n",
              "        vertical-align: top;\n",
              "    }\n",
              "\n",
              "    .dataframe thead th {\n",
              "        text-align: right;\n",
              "    }\n",
              "</style>\n",
              "<table border=\"1\" class=\"dataframe\">\n",
              "  <thead>\n",
              "    <tr style=\"text-align: right;\">\n",
              "      <th></th>\n",
              "      <th>Date</th>\n",
              "      <th>Open</th>\n",
              "      <th>High</th>\n",
              "      <th>Low</th>\n",
              "      <th>Close</th>\n",
              "      <th>Adj Close</th>\n",
              "      <th>Volume</th>\n",
              "    </tr>\n",
              "  </thead>\n",
              "  <tbody>\n",
              "    <tr>\n",
              "      <th>0</th>\n",
              "      <td>2015-07-10</td>\n",
              "      <td>52.444000</td>\n",
              "      <td>52.599998</td>\n",
              "      <td>51.563999</td>\n",
              "      <td>51.830002</td>\n",
              "      <td>51.830002</td>\n",
              "      <td>13054500</td>\n",
              "    </tr>\n",
              "    <tr>\n",
              "      <th>1</th>\n",
              "      <td>2015-07-13</td>\n",
              "      <td>52.450001</td>\n",
              "      <td>52.509998</td>\n",
              "      <td>51.209999</td>\n",
              "      <td>52.431999</td>\n",
              "      <td>52.431999</td>\n",
              "      <td>14801500</td>\n",
              "    </tr>\n",
              "    <tr>\n",
              "      <th>2</th>\n",
              "      <td>2015-07-14</td>\n",
              "      <td>52.419998</td>\n",
              "      <td>53.198002</td>\n",
              "      <td>52.102001</td>\n",
              "      <td>53.130001</td>\n",
              "      <td>53.130001</td>\n",
              "      <td>9538000</td>\n",
              "    </tr>\n",
              "    <tr>\n",
              "      <th>3</th>\n",
              "      <td>2015-07-15</td>\n",
              "      <td>53.348000</td>\n",
              "      <td>53.498001</td>\n",
              "      <td>52.416000</td>\n",
              "      <td>52.627998</td>\n",
              "      <td>52.627998</td>\n",
              "      <td>10108000</td>\n",
              "    </tr>\n",
              "    <tr>\n",
              "      <th>4</th>\n",
              "      <td>2015-07-16</td>\n",
              "      <td>52.844002</td>\n",
              "      <td>53.439999</td>\n",
              "      <td>52.632000</td>\n",
              "      <td>53.335999</td>\n",
              "      <td>53.335999</td>\n",
              "      <td>8080000</td>\n",
              "    </tr>\n",
              "  </tbody>\n",
              "</table>\n",
              "</div>\n",
              "      <button class=\"colab-df-convert\" onclick=\"convertToInteractive('df-1c14bf82-25d8-4fd2-b273-b8bd0658d063')\"\n",
              "              title=\"Convert this dataframe to an interactive table.\"\n",
              "              style=\"display:none;\">\n",
              "        \n",
              "  <svg xmlns=\"http://www.w3.org/2000/svg\" height=\"24px\"viewBox=\"0 0 24 24\"\n",
              "       width=\"24px\">\n",
              "    <path d=\"M0 0h24v24H0V0z\" fill=\"none\"/>\n",
              "    <path d=\"M18.56 5.44l.94 2.06.94-2.06 2.06-.94-2.06-.94-.94-2.06-.94 2.06-2.06.94zm-11 1L8.5 8.5l.94-2.06 2.06-.94-2.06-.94L8.5 2.5l-.94 2.06-2.06.94zm10 10l.94 2.06.94-2.06 2.06-.94-2.06-.94-.94-2.06-.94 2.06-2.06.94z\"/><path d=\"M17.41 7.96l-1.37-1.37c-.4-.4-.92-.59-1.43-.59-.52 0-1.04.2-1.43.59L10.3 9.45l-7.72 7.72c-.78.78-.78 2.05 0 2.83L4 21.41c.39.39.9.59 1.41.59.51 0 1.02-.2 1.41-.59l7.78-7.78 2.81-2.81c.8-.78.8-2.07 0-2.86zM5.41 20L4 18.59l7.72-7.72 1.47 1.35L5.41 20z\"/>\n",
              "  </svg>\n",
              "      </button>\n",
              "      \n",
              "  <style>\n",
              "    .colab-df-container {\n",
              "      display:flex;\n",
              "      flex-wrap:wrap;\n",
              "      gap: 12px;\n",
              "    }\n",
              "\n",
              "    .colab-df-convert {\n",
              "      background-color: #E8F0FE;\n",
              "      border: none;\n",
              "      border-radius: 50%;\n",
              "      cursor: pointer;\n",
              "      display: none;\n",
              "      fill: #1967D2;\n",
              "      height: 32px;\n",
              "      padding: 0 0 0 0;\n",
              "      width: 32px;\n",
              "    }\n",
              "\n",
              "    .colab-df-convert:hover {\n",
              "      background-color: #E2EBFA;\n",
              "      box-shadow: 0px 1px 2px rgba(60, 64, 67, 0.3), 0px 1px 3px 1px rgba(60, 64, 67, 0.15);\n",
              "      fill: #174EA6;\n",
              "    }\n",
              "\n",
              "    [theme=dark] .colab-df-convert {\n",
              "      background-color: #3B4455;\n",
              "      fill: #D2E3FC;\n",
              "    }\n",
              "\n",
              "    [theme=dark] .colab-df-convert:hover {\n",
              "      background-color: #434B5C;\n",
              "      box-shadow: 0px 1px 3px 1px rgba(0, 0, 0, 0.15);\n",
              "      filter: drop-shadow(0px 1px 2px rgba(0, 0, 0, 0.3));\n",
              "      fill: #FFFFFF;\n",
              "    }\n",
              "  </style>\n",
              "\n",
              "      <script>\n",
              "        const buttonEl =\n",
              "          document.querySelector('#df-1c14bf82-25d8-4fd2-b273-b8bd0658d063 button.colab-df-convert');\n",
              "        buttonEl.style.display =\n",
              "          google.colab.kernel.accessAllowed ? 'block' : 'none';\n",
              "\n",
              "        async function convertToInteractive(key) {\n",
              "          const element = document.querySelector('#df-1c14bf82-25d8-4fd2-b273-b8bd0658d063');\n",
              "          const dataTable =\n",
              "            await google.colab.kernel.invokeFunction('convertToInteractive',\n",
              "                                                     [key], {});\n",
              "          if (!dataTable) return;\n",
              "\n",
              "          const docLinkHtml = 'Like what you see? Visit the ' +\n",
              "            '<a target=\"_blank\" href=https://colab.research.google.com/notebooks/data_table.ipynb>data table notebook</a>'\n",
              "            + ' to learn more about interactive tables.';\n",
              "          element.innerHTML = '';\n",
              "          dataTable['output_type'] = 'display_data';\n",
              "          await google.colab.output.renderOutput(dataTable, element);\n",
              "          const docLink = document.createElement('div');\n",
              "          docLink.innerHTML = docLinkHtml;\n",
              "          element.appendChild(docLink);\n",
              "        }\n",
              "      </script>\n",
              "    </div>\n",
              "  </div>\n",
              "  "
            ]
          },
          "metadata": {},
          "execution_count": 3
        }
      ],
      "source": [
        "import math\n",
        "import matplotlib.pyplot as plt\n",
        "import keras\n",
        "import pandas as pd\n",
        "import numpy as np\n",
        "from keras.models import Sequential\n",
        "from keras.layers import Dense\n",
        "from keras.layers import LSTM\n",
        "from keras.layers import Dropout\n",
        "from keras.layers import *\n",
        "from sklearn.preprocessing import MinMaxScaler\n",
        "from sklearn.metrics import mean_squared_error\n",
        "from sklearn.metrics import mean_absolute_error\n",
        "from sklearn.model_selection import train_test_split\n",
        "from keras.callbacks import EarlyStopping\n",
        "df=pd.read_csv(\"https://raw.githubusercontent.com/ctkrall/stat6289/main/TSLA.csv\")\n",
        "print(\"Number of rows and columns:\", df.shape)\n",
        "df.head(5)"
      ]
    },
    {
      "cell_type": "markdown",
      "source": [
        "Split Data into training and test sets"
      ],
      "metadata": {
        "id": "YvokuqiXbixe"
      }
    },
    {
      "cell_type": "code",
      "source": [
        "training_set = df.iloc[:800, 1:2].values\n",
        "test_set = df.iloc[800:, 1:2].values"
      ],
      "metadata": {
        "id": "8wYvmdo8iNTY"
      },
      "execution_count": 4,
      "outputs": []
    },
    {
      "cell_type": "markdown",
      "source": [
        "Build input features with lags 1 day, 7 days, and 14 days"
      ],
      "metadata": {
        "id": "ey732yuIboeJ"
      }
    },
    {
      "cell_type": "code",
      "source": [
        "# Feature Scaling\n",
        "sc = MinMaxScaler(feature_range = (0, 1))\n",
        "training_set_scaled = sc.fit_transform(training_set)\n",
        "# Creating a data structure with 60 time-steps and 1 output\n",
        "X_train = []\n",
        "y_train = []\n",
        "for i in range(60, 800):\n",
        "    X_train.append(training_set_scaled[i-60:i, 0])\n",
        "    y_train.append(training_set_scaled[i, 0])\n",
        "X_train, y_train = np.array(X_train), np.array(y_train)\n",
        "X_train = np.reshape(X_train, (X_train.shape[0], X_train.shape[1], 1))\n",
        "#(740, 60, 1)\n"
      ],
      "metadata": {
        "id": "3S7XdQ7piRrv"
      },
      "execution_count": 9,
      "outputs": []
    },
    {
      "cell_type": "code",
      "source": [
        "# Feature Scaling\n",
        "sc = MinMaxScaler(feature_range = (0, 1))\n",
        "training_set_scaled = sc.fit_transform(training_set)\n",
        "# Creating a data structure with 60 time-steps and 1 output\n",
        "X_train1 = []\n",
        "y_train1 = []\n",
        "for i in range(60, 800):\n",
        "    X_train1.append(training_set_scaled[i-60:i-7, 0])\n",
        "    y_train1.append(training_set_scaled[i, 0])\n",
        "X_train1, y_train1 = np.array(X_train1), np.array(y_train1)\n",
        "X_train1 = np.reshape(X_train1, (X_train1.shape[0], X_train1.shape[1], 1))\n",
        "#(740, 60, 1)\n"
      ],
      "metadata": {
        "id": "cbVjoI4fzyXB"
      },
      "execution_count": 10,
      "outputs": []
    },
    {
      "cell_type": "code",
      "source": [
        "# Feature Scaling\n",
        "sc = MinMaxScaler(feature_range = (0, 1))\n",
        "training_set_scaled = sc.fit_transform(training_set)\n",
        "# Creating a data structure with 60 time-steps and 1 output\n",
        "X_train2 = []\n",
        "y_train2 = []\n",
        "for i in range(60, 800):\n",
        "    X_train2.append(training_set_scaled[i-60:i-14, 0])\n",
        "    y_train2.append(training_set_scaled[i, 0])\n",
        "X_train2, y_train2 = np.array(X_train2), np.array(y_train2)\n",
        "X_train2 = np.reshape(X_train2, (X_train2.shape[0], X_train2.shape[1], 1))\n",
        "#(740, 60, 1)\n"
      ],
      "metadata": {
        "id": "2xADv8l30rZ-"
      },
      "execution_count": 11,
      "outputs": []
    },
    {
      "cell_type": "markdown",
      "source": [
        "Build LSTM model"
      ],
      "metadata": {
        "id": "Doj2UPCBbzh4"
      }
    },
    {
      "cell_type": "code",
      "source": [
        "model = Sequential()\n",
        "#Adding the first LSTM layer and some Dropout regularisation\n",
        "model.add(LSTM(units = 50, return_sequences = True, input_shape = (X_train.shape[1], 1)))\n",
        "model.add(Dropout(0.5))\n",
        "# Adding a second LSTM layer and some Dropout regularisation\n",
        "model.add(LSTM(units = 50, return_sequences = True))\n",
        "model.add(Dropout(0.5))\n",
        "# Adding a third LSTM layer and some Dropout regularisation\n",
        "model.add(LSTM(units = 50, return_sequences = False))\n",
        "model.add(Dropout(0.5))\n",
        "# Adding the output layer\n",
        "model.add(Dense(units = 1))\n",
        "\n",
        "# Compiling the RNN\n",
        "model.compile(optimizer = 'adam', loss = 'mean_squared_error')\n",
        "\n",
        "# Fitting the RNN to the Training set\n",
        "model.fit(X_train, y_train, epochs = 25, batch_size = 32)"
      ],
      "metadata": {
        "colab": {
          "base_uri": "https://localhost:8080/"
        },
        "id": "RTECQi6iiWJ1",
        "outputId": "126c47e2-3fed-497b-d506-60e4ed1619a4"
      },
      "execution_count": 12,
      "outputs": [
        {
          "output_type": "stream",
          "name": "stdout",
          "text": [
            "Epoch 1/25\n",
            "24/24 [==============================] - 8s 101ms/step - loss: 0.0619\n",
            "Epoch 2/25\n",
            "24/24 [==============================] - 2s 101ms/step - loss: 0.0247\n",
            "Epoch 3/25\n",
            "24/24 [==============================] - 2s 100ms/step - loss: 0.0230\n",
            "Epoch 4/25\n",
            "24/24 [==============================] - 2s 102ms/step - loss: 0.0186\n",
            "Epoch 5/25\n",
            "24/24 [==============================] - 2s 101ms/step - loss: 0.0165\n",
            "Epoch 6/25\n",
            "24/24 [==============================] - 2s 99ms/step - loss: 0.0188\n",
            "Epoch 7/25\n",
            "24/24 [==============================] - 2s 100ms/step - loss: 0.0168\n",
            "Epoch 8/25\n",
            "24/24 [==============================] - 2s 100ms/step - loss: 0.0162\n",
            "Epoch 9/25\n",
            "24/24 [==============================] - 2s 100ms/step - loss: 0.0148\n",
            "Epoch 10/25\n",
            "24/24 [==============================] - 2s 101ms/step - loss: 0.0155\n",
            "Epoch 11/25\n",
            "24/24 [==============================] - 2s 100ms/step - loss: 0.0126\n",
            "Epoch 12/25\n",
            "24/24 [==============================] - 2s 99ms/step - loss: 0.0145\n",
            "Epoch 13/25\n",
            "24/24 [==============================] - 2s 99ms/step - loss: 0.0140\n",
            "Epoch 14/25\n",
            "24/24 [==============================] - 2s 99ms/step - loss: 0.0126\n",
            "Epoch 15/25\n",
            "24/24 [==============================] - 2s 98ms/step - loss: 0.0131\n",
            "Epoch 16/25\n",
            "24/24 [==============================] - 2s 99ms/step - loss: 0.0128\n",
            "Epoch 17/25\n",
            "24/24 [==============================] - 2s 100ms/step - loss: 0.0128\n",
            "Epoch 18/25\n",
            "24/24 [==============================] - 3s 107ms/step - loss: 0.0114\n",
            "Epoch 19/25\n",
            "24/24 [==============================] - 3s 109ms/step - loss: 0.0115\n",
            "Epoch 20/25\n",
            "24/24 [==============================] - 2s 100ms/step - loss: 0.0121\n",
            "Epoch 21/25\n",
            "24/24 [==============================] - 2s 103ms/step - loss: 0.0111\n",
            "Epoch 22/25\n",
            "24/24 [==============================] - 2s 103ms/step - loss: 0.0105\n",
            "Epoch 23/25\n",
            "24/24 [==============================] - 2s 101ms/step - loss: 0.0107\n",
            "Epoch 24/25\n",
            "24/24 [==============================] - 2s 99ms/step - loss: 0.0109\n",
            "Epoch 25/25\n",
            "24/24 [==============================] - 2s 100ms/step - loss: 0.0126\n"
          ]
        },
        {
          "output_type": "execute_result",
          "data": {
            "text/plain": [
              "<keras.callbacks.History at 0x7f96164ea610>"
            ]
          },
          "metadata": {},
          "execution_count": 12
        }
      ]
    },
    {
      "cell_type": "code",
      "source": [
        "model1 = Sequential()\n",
        "#Adding the first LSTM layer and some Dropout regularisation\n",
        "model1.add(LSTM(units = 50, return_sequences = True, input_shape = (X_train1.shape[1], 1)))\n",
        "model1.add(Dropout(0.5))\n",
        "# Adding a second LSTM layer and some Dropout regularisation\n",
        "model1.add(LSTM(units = 50, return_sequences = True))\n",
        "model1.add(Dropout(0.5))\n",
        "# Adding a third LSTM layer and some Dropout regularisation\n",
        "model1.add(LSTM(units = 50, return_sequences = False))\n",
        "model1.add(Dropout(0.5))\n",
        "# Adding the output layer\n",
        "model1.add(Dense(units = 1))\n",
        "\n",
        "# Compiling the RNN\n",
        "model1.compile(optimizer = 'adam', loss = 'mean_squared_error')\n",
        "\n",
        "# Fitting the RNN to the Training set\n",
        "model1.fit(X_train1, y_train1, epochs = 25, batch_size = 32)"
      ],
      "metadata": {
        "colab": {
          "base_uri": "https://localhost:8080/"
        },
        "id": "X4nNS2_-B4vl",
        "outputId": "b0343a97-73fe-4bf5-a93b-e944ddbc15ae"
      },
      "execution_count": null,
      "outputs": [
        {
          "output_type": "stream",
          "name": "stdout",
          "text": [
            "Epoch 1/25\n",
            "24/24 [==============================] - 7s 80ms/step - loss: 0.0910\n",
            "Epoch 2/25\n",
            "24/24 [==============================] - 2s 80ms/step - loss: 0.0294\n",
            "Epoch 3/25\n",
            "24/24 [==============================] - 2s 83ms/step - loss: 0.0256\n",
            "Epoch 4/25\n",
            "24/24 [==============================] - 2s 81ms/step - loss: 0.0218\n",
            "Epoch 5/25\n",
            "24/24 [==============================] - 2s 80ms/step - loss: 0.0221\n",
            "Epoch 6/25\n",
            "24/24 [==============================] - 2s 81ms/step - loss: 0.0251\n",
            "Epoch 7/25\n",
            "24/24 [==============================] - 2s 79ms/step - loss: 0.0263\n",
            "Epoch 8/25\n",
            "24/24 [==============================] - 2s 87ms/step - loss: 0.0272\n",
            "Epoch 9/25\n",
            "24/24 [==============================] - 2s 79ms/step - loss: 0.0212\n",
            "Epoch 10/25\n",
            "24/24 [==============================] - 2s 84ms/step - loss: 0.0199\n",
            "Epoch 11/25\n",
            "24/24 [==============================] - 2s 80ms/step - loss: 0.0188\n",
            "Epoch 12/25\n",
            "24/24 [==============================] - 2s 80ms/step - loss: 0.0207\n",
            "Epoch 13/25\n",
            "24/24 [==============================] - 2s 80ms/step - loss: 0.0200\n",
            "Epoch 14/25\n",
            "24/24 [==============================] - 2s 82ms/step - loss: 0.0182\n",
            "Epoch 15/25\n",
            "24/24 [==============================] - 2s 81ms/step - loss: 0.0181\n",
            "Epoch 16/25\n",
            "24/24 [==============================] - 2s 81ms/step - loss: 0.0163\n",
            "Epoch 17/25\n",
            "24/24 [==============================] - 2s 80ms/step - loss: 0.0169\n",
            "Epoch 18/25\n",
            "24/24 [==============================] - 2s 80ms/step - loss: 0.0170\n",
            "Epoch 19/25\n",
            "24/24 [==============================] - 2s 80ms/step - loss: 0.0170\n",
            "Epoch 20/25\n",
            "24/24 [==============================] - 2s 80ms/step - loss: 0.0182\n",
            "Epoch 21/25\n",
            "24/24 [==============================] - 2s 80ms/step - loss: 0.0180\n",
            "Epoch 22/25\n",
            "24/24 [==============================] - 2s 79ms/step - loss: 0.0165\n",
            "Epoch 23/25\n",
            "24/24 [==============================] - 2s 103ms/step - loss: 0.0163\n",
            "Epoch 24/25\n",
            "24/24 [==============================] - 4s 151ms/step - loss: 0.0176\n",
            "Epoch 25/25\n",
            "24/24 [==============================] - 2s 80ms/step - loss: 0.0168\n"
          ]
        },
        {
          "output_type": "execute_result",
          "data": {
            "text/plain": [
              "<keras.callbacks.History at 0x7fce0ceae190>"
            ]
          },
          "metadata": {},
          "execution_count": 17
        }
      ]
    },
    {
      "cell_type": "code",
      "source": [
        "model2 = Sequential()\n",
        "#Adding the first LSTM layer and some Dropout regularisation\n",
        "model2.add(LSTM(units = 50, return_sequences = True, input_shape = (X_train2.shape[1], 1)))\n",
        "model2.add(Dropout(0.5))\n",
        "# Adding a second LSTM layer and some Dropout regularisation\n",
        "model2.add(LSTM(units = 50, return_sequences = True))\n",
        "model2.add(Dropout(0.5))\n",
        "# Adding a third LSTM layer and some Dropout regularisation\n",
        "model2.add(LSTM(units = 50, return_sequences = False))\n",
        "model2.add(Dropout(0.5))\n",
        "# Adding the output layer\n",
        "model2.add(Dense(units = 1))\n",
        "\n",
        "# Compiling the RNN\n",
        "model2.compile(optimizer = 'adam', loss = 'mean_squared_error')\n",
        "\n",
        "# Fitting the RNN to the Training set\n",
        "model2.fit(X_train2, y_train2, epochs = 25, batch_size = 32)"
      ],
      "metadata": {
        "colab": {
          "base_uri": "https://localhost:8080/"
        },
        "id": "cTLYoqPFB5JH",
        "outputId": "11bf3800-0bd2-4f9f-855b-bcf94031fdec"
      },
      "execution_count": null,
      "outputs": [
        {
          "output_type": "stream",
          "name": "stdout",
          "text": [
            "Epoch 1/25\n",
            "24/24 [==============================] - 7s 70ms/step - loss: 0.0767\n",
            "Epoch 2/25\n",
            "24/24 [==============================] - 2s 71ms/step - loss: 0.0333\n",
            "Epoch 3/25\n",
            "24/24 [==============================] - 2s 71ms/step - loss: 0.0287\n",
            "Epoch 4/25\n",
            "24/24 [==============================] - 2s 72ms/step - loss: 0.0278\n",
            "Epoch 5/25\n",
            "24/24 [==============================] - 2s 71ms/step - loss: 0.0274\n",
            "Epoch 6/25\n",
            "24/24 [==============================] - 2s 70ms/step - loss: 0.0245\n",
            "Epoch 7/25\n",
            "24/24 [==============================] - 2s 71ms/step - loss: 0.0246\n",
            "Epoch 8/25\n",
            "24/24 [==============================] - 2s 72ms/step - loss: 0.0242\n",
            "Epoch 9/25\n",
            "24/24 [==============================] - 2s 72ms/step - loss: 0.0235\n",
            "Epoch 10/25\n",
            "24/24 [==============================] - 2s 71ms/step - loss: 0.0223\n",
            "Epoch 11/25\n",
            "24/24 [==============================] - 2s 74ms/step - loss: 0.0231\n",
            "Epoch 12/25\n",
            "24/24 [==============================] - 2s 71ms/step - loss: 0.0238\n",
            "Epoch 13/25\n",
            "24/24 [==============================] - 2s 71ms/step - loss: 0.0230\n",
            "Epoch 14/25\n",
            "24/24 [==============================] - 2s 72ms/step - loss: 0.0214\n",
            "Epoch 15/25\n",
            "24/24 [==============================] - 2s 72ms/step - loss: 0.0243\n",
            "Epoch 16/25\n",
            "24/24 [==============================] - 2s 70ms/step - loss: 0.0228\n",
            "Epoch 17/25\n",
            "24/24 [==============================] - 2s 72ms/step - loss: 0.0223\n",
            "Epoch 18/25\n",
            "24/24 [==============================] - 2s 72ms/step - loss: 0.0216\n",
            "Epoch 19/25\n",
            "24/24 [==============================] - 2s 71ms/step - loss: 0.0199\n",
            "Epoch 20/25\n",
            "24/24 [==============================] - 2s 71ms/step - loss: 0.0212\n",
            "Epoch 21/25\n",
            "24/24 [==============================] - 2s 72ms/step - loss: 0.0212\n",
            "Epoch 22/25\n",
            "24/24 [==============================] - 2s 71ms/step - loss: 0.0194\n",
            "Epoch 23/25\n",
            "24/24 [==============================] - 2s 71ms/step - loss: 0.0194\n",
            "Epoch 24/25\n",
            "24/24 [==============================] - 2s 73ms/step - loss: 0.0202\n",
            "Epoch 25/25\n",
            "24/24 [==============================] - 2s 70ms/step - loss: 0.0216\n"
          ]
        },
        {
          "output_type": "execute_result",
          "data": {
            "text/plain": [
              "<keras.callbacks.History at 0x7fce0e55ae90>"
            ]
          },
          "metadata": {},
          "execution_count": 8
        }
      ]
    },
    {
      "cell_type": "code",
      "source": [
        "dataset_train = df.iloc[:800, 1:2]\n",
        "dataset_test = df.iloc[800:, 1:2]\n",
        "dataset_total = pd.concat((dataset_train, dataset_test), axis = 0)\n",
        "inputs = dataset_total[len(dataset_total) - len(dataset_test) - 60:].values\n",
        "inputs = inputs.reshape(-1,1)\n",
        "inputs = sc.transform(inputs)\n",
        "X_test = []\n",
        "for i in range(60, 519):\n",
        "    X_test.append(inputs[i-60:i, 0])\n",
        "X_test = np.array(X_test)\n",
        "X_test = np.reshape(X_test, (X_test.shape[0], X_test.shape[1], 1))\n",
        "print(X_test.shape)\n",
        "# (459, 60, 1)"
      ],
      "metadata": {
        "colab": {
          "base_uri": "https://localhost:8080/"
        },
        "id": "Jz9RV7vWiboK",
        "outputId": "203155ec-380a-4ce2-80be-1ecd934ebb45"
      },
      "execution_count": 13,
      "outputs": [
        {
          "output_type": "stream",
          "name": "stdout",
          "text": [
            "(459, 60, 1)\n"
          ]
        }
      ]
    },
    {
      "cell_type": "code",
      "source": [
        "X_test1 = []\n",
        "for i in range(60, 519):\n",
        "    X_test1.append(inputs[i-60:i-7, 0])\n",
        "X_test1 = np.array(X_test1)\n",
        "X_test1 = np.reshape(X_test1, (X_test1.shape[0], X_test1.shape[1], 1))\n",
        "print(X_test1.shape)"
      ],
      "metadata": {
        "colab": {
          "base_uri": "https://localhost:8080/"
        },
        "id": "Zhx9Xhfi4qwB",
        "outputId": "fd787d2d-55bb-4a68-e27c-1e9bd50f41c8"
      },
      "execution_count": null,
      "outputs": [
        {
          "output_type": "stream",
          "name": "stdout",
          "text": [
            "(459, 53, 1)\n"
          ]
        }
      ]
    },
    {
      "cell_type": "code",
      "source": [
        "X_test2 = []\n",
        "for i in range(60, 519):\n",
        "    X_test2.append(inputs[i-60:i-14, 0])\n",
        "X_test2 = np.array(X_test2)\n",
        "X_test2 = np.reshape(X_test2, (X_test2.shape[0], X_test2.shape[1], 1))\n",
        "print(X_test2.shape)"
      ],
      "metadata": {
        "colab": {
          "base_uri": "https://localhost:8080/"
        },
        "id": "rNRhZ3Y84qlA",
        "outputId": "3295a819-cff9-4199-93e2-94ed708002c9"
      },
      "execution_count": null,
      "outputs": [
        {
          "output_type": "stream",
          "name": "stdout",
          "text": [
            "(459, 46, 1)\n"
          ]
        }
      ]
    },
    {
      "cell_type": "code",
      "source": [
        "predicted_stock_price = model.predict(X_test)\n",
        "predicted_stock_price = sc.inverse_transform(predicted_stock_price)"
      ],
      "metadata": {
        "id": "BI_sG8SaieH6"
      },
      "execution_count": null,
      "outputs": []
    },
    {
      "cell_type": "code",
      "source": [
        "predicted_stock_price1 = model1.predict(X_test1)\n",
        "predicted_stock_price1 = sc.inverse_transform(predicted_stock_price1)"
      ],
      "metadata": {
        "id": "93s05KPk39Df"
      },
      "execution_count": null,
      "outputs": []
    },
    {
      "cell_type": "code",
      "source": [
        "predicted_stock_price2 = model2.predict(X_test2)\n",
        "predicted_stock_price2 = sc.inverse_transform(predicted_stock_price2)"
      ],
      "metadata": {
        "id": "6TA0dwEV3810"
      },
      "execution_count": null,
      "outputs": []
    },
    {
      "cell_type": "markdown",
      "source": [
        "Results: Visualizations"
      ],
      "metadata": {
        "id": "8ST6ryPncEyv"
      }
    },
    {
      "cell_type": "code",
      "source": [
        "# Visualising the results\n",
        "plt.plot(df.loc[800:, \"Date\"],dataset_test.values, color = \"red\", label = \"Real TESLA Stock Price\")\n",
        "plt.plot(df.loc[800:, \"Date\"],predicted_stock_price, color = \"blue\", label = \"Predicted TESLA Stock Price (lag 1)\")\n",
        "plt.plot(df.loc[800:, \"Date\"],predicted_stock_price1, color = \"green\", label = \"Predicted TESLA Stock Price (lag 7)\")\n",
        "plt.plot(df.loc[800:, \"Date\"],predicted_stock_price2, color = \"pink\", label = \"Predicted TESLA Stock Price (lag 14)\")\n",
        "plt.xticks(np.arange(0,459,50))\n",
        "plt.title('TESLA Stock Price Prediction')\n",
        "plt.xlabel('Time')\n",
        "plt.ylabel('TESLA Stock Price')\n",
        "plt.legend()\n",
        "plt.show()"
      ],
      "metadata": {
        "colab": {
          "base_uri": "https://localhost:8080/",
          "height": 295
        },
        "id": "qhHQ0h-xijkU",
        "outputId": "1d5f46ea-ea90-4e7d-92f3-220e667ee210"
      },
      "execution_count": null,
      "outputs": [
        {
          "output_type": "display_data",
          "data": {
            "text/plain": [
              "<Figure size 432x288 with 1 Axes>"
            ],
            "image/png": "[encoded data removed]"
          },
          "metadata": {
            "needs_background": "light"
          }
        }
      ]
    },
    {
      "cell_type": "markdown",
      "source": [
        "Comparison to other models\n",
        "1) Dropout lowered"
      ],
      "metadata": {
        "id": "OO0hIpGHcKtH"
      }
    },
    {
      "cell_type": "code",
      "source": [
        "modeldr = Sequential()\n",
        "#Adding the first LSTM layer and some Dropout regularisation\n",
        "modeldr.add(LSTM(units = 50, return_sequences = True, input_shape = (X_train.shape[1], 1)))\n",
        "modeldr.add(Dropout(0.2))\n",
        "# Adding a second LSTM layer and some Dropout regularisation\n",
        "modeldr.add(LSTM(units = 50, return_sequences = True))\n",
        "modeldr.add(Dropout(0.2))\n",
        "# Adding a third LSTM layer and some Dropout regularisation\n",
        "modeldr.add(LSTM(units = 50, return_sequences = False))\n",
        "modeldr.add(Dropout(0.2))\n",
        "# Adding the output layer\n",
        "modeldr.add(Dense(units = 1))\n",
        "\n",
        "# Compiling the RNN\n",
        "modeldr.compile(optimizer = 'adam', loss = 'mean_squared_error')\n",
        "\n",
        "# Fitting the RNN to the Training set\n",
        "modeldr.fit(X_train, y_train, epochs = 25, batch_size = 32)"
      ],
      "metadata": {
        "colab": {
          "base_uri": "https://localhost:8080/"
        },
        "id": "AC9ofYG_73vd",
        "outputId": "c2a325ac-2008-4995-e1e9-ea2f111d9cbf"
      },
      "execution_count": null,
      "outputs": [
        {
          "output_type": "stream",
          "name": "stdout",
          "text": [
            "Epoch 1/25\n",
            "24/24 [==============================] - 7s 90ms/step - loss: 0.0636\n",
            "Epoch 2/25\n",
            "24/24 [==============================] - 2s 90ms/step - loss: 0.0138\n",
            "Epoch 3/25\n",
            "24/24 [==============================] - 2s 91ms/step - loss: 0.0097\n",
            "Epoch 4/25\n",
            "24/24 [==============================] - 2s 91ms/step - loss: 0.0102\n",
            "Epoch 5/25\n",
            "24/24 [==============================] - 2s 89ms/step - loss: 0.0099\n",
            "Epoch 6/25\n",
            "24/24 [==============================] - 2s 92ms/step - loss: 0.0105\n",
            "Epoch 7/25\n",
            "24/24 [==============================] - 2s 91ms/step - loss: 0.0107\n",
            "Epoch 8/25\n",
            "24/24 [==============================] - 2s 90ms/step - loss: 0.0095\n",
            "Epoch 9/25\n",
            "24/24 [==============================] - 2s 90ms/step - loss: 0.0082\n",
            "Epoch 10/25\n",
            "24/24 [==============================] - 2s 91ms/step - loss: 0.0095\n",
            "Epoch 11/25\n",
            "24/24 [==============================] - 2s 92ms/step - loss: 0.0074\n",
            "Epoch 12/25\n",
            "24/24 [==============================] - 2s 91ms/step - loss: 0.0077\n",
            "Epoch 13/25\n",
            "24/24 [==============================] - 2s 93ms/step - loss: 0.0088\n",
            "Epoch 14/25\n",
            "24/24 [==============================] - 2s 92ms/step - loss: 0.0066\n",
            "Epoch 15/25\n",
            "24/24 [==============================] - 2s 91ms/step - loss: 0.0070\n",
            "Epoch 16/25\n",
            "24/24 [==============================] - 2s 91ms/step - loss: 0.0077\n",
            "Epoch 17/25\n",
            "24/24 [==============================] - 2s 90ms/step - loss: 0.0068\n",
            "Epoch 18/25\n",
            "24/24 [==============================] - 2s 90ms/step - loss: 0.0073\n",
            "Epoch 19/25\n",
            "24/24 [==============================] - 2s 91ms/step - loss: 0.0079\n",
            "Epoch 20/25\n",
            "24/24 [==============================] - 2s 89ms/step - loss: 0.0065\n",
            "Epoch 21/25\n",
            "24/24 [==============================] - 2s 91ms/step - loss: 0.0067\n",
            "Epoch 22/25\n",
            "24/24 [==============================] - 2s 91ms/step - loss: 0.0063\n",
            "Epoch 23/25\n",
            "24/24 [==============================] - 2s 92ms/step - loss: 0.0059\n",
            "Epoch 24/25\n",
            "24/24 [==============================] - 2s 91ms/step - loss: 0.0077\n",
            "Epoch 25/25\n",
            "24/24 [==============================] - 2s 91ms/step - loss: 0.0058\n"
          ]
        },
        {
          "output_type": "execute_result",
          "data": {
            "text/plain": [
              "<keras.callbacks.History at 0x7fce083854d0>"
            ]
          },
          "metadata": {},
          "execution_count": 25
        }
      ]
    },
    {
      "cell_type": "code",
      "source": [
        "predicted_stock_pricedr = modeldr.predict(X_test)\n",
        "predicted_stock_pricedr = sc.inverse_transform(predicted_stock_pricedr)"
      ],
      "metadata": {
        "id": "U6t2eEIRC7mn"
      },
      "execution_count": null,
      "outputs": []
    },
    {
      "cell_type": "code",
      "source": [
        "# Visualising the results\n",
        "plt.plot(df.loc[800:, \"Date\"],dataset_test.values, color = \"red\", label = \"Real TESLA Stock Price\")\n",
        "plt.plot(df.loc[800:, \"Date\"],predicted_stock_price, color = \"blue\", label = \"Predicted TESLA Stock Price (dropout 0.5)\")\n",
        "plt.plot(df.loc[800:, \"Date\"],predicted_stock_pricedr, color = \"green\", label = \"Predicted TESLA Stock Price (dropout 0.2)\")\n",
        "plt.xticks(np.arange(0,459,50))\n",
        "plt.title('TESLA Stock Price Prediction')\n",
        "plt.xlabel('Time')\n",
        "plt.ylabel('TESLA Stock Price')\n",
        "plt.legend()\n",
        "plt.show()"
      ],
      "metadata": {
        "colab": {
          "base_uri": "https://localhost:8080/",
          "height": 295
        },
        "id": "u-I6qF01DAYG",
        "outputId": "9e80a6cf-9e6b-45b0-ae05-52526cde558b"
      },
      "execution_count": null,
      "outputs": [
        {
          "output_type": "display_data",
          "data": {
            "text/plain": [
              "<Figure size 432x288 with 1 Axes>"
            ],
            "image/png": "[encoded data removed]"
          },
          "metadata": {
            "needs_background": "light"
          }
        }
      ]
    },
    {
      "cell_type": "markdown",
      "source": [
        "The lower dropout values makes the model less smooth. The predictions are of similar values, but the model with lower dropout follows closer to the actual values."
      ],
      "metadata": {
        "id": "ujviLnoJTGyI"
      }
    },
    {
      "cell_type": "markdown",
      "source": [
        "2) Add another hidden layer"
      ],
      "metadata": {
        "id": "P-2x0HoEBoDW"
      }
    },
    {
      "cell_type": "code",
      "source": [
        "model4 = Sequential()\n",
        "#Adding the first LSTM layer and some Dropout regularisation\n",
        "model4.add(LSTM(units = 50, return_sequences = True, input_shape = (X_train.shape[1], 1)))\n",
        "model4.add(Dropout(0.5))\n",
        "# Adding a second LSTM layer and some Dropout regularisation\n",
        "model4.add(LSTM(units = 50, return_sequences = True))\n",
        "model4.add(Dropout(0.5))\n",
        "# Adding a third LSTM layer and some Dropout regularisation\n",
        "model4.add(LSTM(units = 50, return_sequences = True))\n",
        "model4.add(Dropout(0.5))\n",
        "# Adding a fourth LSTM layer and some Dropout regularisation\n",
        "model4.add(LSTM(units = 50, return_sequences = False))\n",
        "model4.add(Dropout(0.5))\n",
        "# Adding the output layer\n",
        "model4.add(Dense(units = 1))\n",
        "\n",
        "# Compiling the RNN\n",
        "model4.compile(optimizer = 'adam', loss = 'mean_squared_error')\n",
        "\n",
        "# Fitting the RNN to the Training set\n",
        "model4.fit(X_train, y_train, epochs = 25, batch_size = 32)"
      ],
      "metadata": {
        "colab": {
          "base_uri": "https://localhost:8080/"
        },
        "id": "5fPMpNTzBsXm",
        "outputId": "8b3976bb-8417-4533-aa87-6050d095d6fd"
      },
      "execution_count": null,
      "outputs": [
        {
          "output_type": "stream",
          "name": "stdout",
          "text": [
            "Epoch 1/25\n",
            "24/24 [==============================] - 10s 121ms/step - loss: 0.0798\n",
            "Epoch 2/25\n",
            "24/24 [==============================] - 3s 126ms/step - loss: 0.0263\n",
            "Epoch 3/25\n",
            "24/24 [==============================] - 3s 122ms/step - loss: 0.0242\n",
            "Epoch 4/25\n",
            "24/24 [==============================] - 3s 124ms/step - loss: 0.0214\n",
            "Epoch 5/25\n",
            "24/24 [==============================] - 3s 122ms/step - loss: 0.0220\n",
            "Epoch 6/25\n",
            "24/24 [==============================] - 3s 122ms/step - loss: 0.0175\n",
            "Epoch 7/25\n",
            "24/24 [==============================] - 3s 124ms/step - loss: 0.0189\n",
            "Epoch 8/25\n",
            "24/24 [==============================] - 3s 122ms/step - loss: 0.0176\n",
            "Epoch 9/25\n",
            "24/24 [==============================] - 3s 126ms/step - loss: 0.0182\n",
            "Epoch 10/25\n",
            "24/24 [==============================] - 3s 126ms/step - loss: 0.0178\n",
            "Epoch 11/25\n",
            "24/24 [==============================] - 3s 123ms/step - loss: 0.0167\n",
            "Epoch 12/25\n",
            "24/24 [==============================] - 3s 123ms/step - loss: 0.0157\n",
            "Epoch 13/25\n",
            "24/24 [==============================] - 3s 122ms/step - loss: 0.0158\n",
            "Epoch 14/25\n",
            "24/24 [==============================] - 3s 125ms/step - loss: 0.0155\n",
            "Epoch 15/25\n",
            "24/24 [==============================] - 3s 124ms/step - loss: 0.0149\n",
            "Epoch 16/25\n",
            "24/24 [==============================] - 3s 123ms/step - loss: 0.0136\n",
            "Epoch 17/25\n",
            "24/24 [==============================] - 3s 124ms/step - loss: 0.0127\n",
            "Epoch 18/25\n",
            "24/24 [==============================] - 3s 123ms/step - loss: 0.0147\n",
            "Epoch 19/25\n",
            "24/24 [==============================] - 3s 125ms/step - loss: 0.0132\n",
            "Epoch 20/25\n",
            "24/24 [==============================] - 3s 124ms/step - loss: 0.0126\n",
            "Epoch 21/25\n",
            "24/24 [==============================] - 3s 121ms/step - loss: 0.0114\n",
            "Epoch 22/25\n",
            "24/24 [==============================] - 3s 123ms/step - loss: 0.0135\n",
            "Epoch 23/25\n",
            "24/24 [==============================] - 3s 122ms/step - loss: 0.0131\n",
            "Epoch 24/25\n",
            "24/24 [==============================] - 3s 124ms/step - loss: 0.0125\n",
            "Epoch 25/25\n",
            "24/24 [==============================] - 3s 124ms/step - loss: 0.0106\n"
          ]
        },
        {
          "output_type": "execute_result",
          "data": {
            "text/plain": [
              "<keras.callbacks.History at 0x7fce034e0ed0>"
            ]
          },
          "metadata": {},
          "execution_count": 32
        }
      ]
    },
    {
      "cell_type": "code",
      "source": [
        "predicted_stock_price4 = model4.predict(X_test)\n",
        "predicted_stock_price4 = sc.inverse_transform(predicted_stock_price4)"
      ],
      "metadata": {
        "id": "fBJLM17iDXb3"
      },
      "execution_count": null,
      "outputs": []
    },
    {
      "cell_type": "code",
      "source": [
        "# Visualising the results\n",
        "plt.plot(df.loc[800:, \"Date\"],dataset_test.values, color = \"red\", label = \"Real TESLA Stock Price\")\n",
        "plt.plot(df.loc[800:, \"Date\"],predicted_stock_price, color = \"blue\", label = \"Predicted TESLA Stock Price (3 hidden layers)\")\n",
        "plt.plot(df.loc[800:, \"Date\"],predicted_stock_price4, color = \"green\", label = \"Predicted TESLA Stock Price (4 hidden layers)\")\n",
        "plt.xticks(np.arange(0,459,50))\n",
        "plt.title('TESLA Stock Price Prediction')\n",
        "plt.xlabel('Time')\n",
        "plt.ylabel('TESLA Stock Price')\n",
        "plt.legend()\n",
        "plt.show()"
      ],
      "metadata": {
        "colab": {
          "base_uri": "https://localhost:8080/",
          "height": 295
        },
        "id": "fRxOyGzEDXLc",
        "outputId": "08c2b70f-3c76-490a-ac02-39e3914eafc1"
      },
      "execution_count": null,
      "outputs": [
        {
          "output_type": "display_data",
          "data": {
            "text/plain": [
              "<Figure size 432x288 with 1 Axes>"
            ],
            "image/png": "[encoded data removed]"
          },
          "metadata": {
            "needs_background": "light"
          }
        }
      ]
    },
    {
      "cell_type": "markdown",
      "source": [
        "As can be seen in the above graph, the model with 3 hidden layers is slightly better a prediction, especially toward the end of the dataset. This is probably because the more hidden layers, the more resilient the model is to extreme values."
      ],
      "metadata": {
        "id": "kjDUHVKqSjGW"
      }
    },
    {
      "cell_type": "markdown",
      "source": [
        "Future Predictions for the next two weeks"
      ],
      "metadata": {
        "id": "91GtDRoXcNhB"
      }
    },
    {
      "cell_type": "code",
      "source": [
        "dfpred = df.iloc[-82:, 1:2].values\n",
        "predset = sc.fit_transform(dfpred)"
      ],
      "metadata": {
        "id": "3JdrT8LUNDQY"
      },
      "execution_count": 36,
      "outputs": []
    },
    {
      "cell_type": "code",
      "source": [
        "import datetime\n",
        "start = datetime.datetime.strptime(\"10-07-2020\", \"%d-%m-%Y\")\n",
        "end = datetime.datetime.strptime(\"30-09-2020\", \"%d-%m-%Y\")\n",
        "date_generated = [start + datetime.timedelta(days=x) for x in range(0, (end-start).days)]\n",
        "print(len(date_generated))\n",
        "future = 82"
      ],
      "metadata": {
        "id": "gFnmeybvq-Hu",
        "colab": {
          "base_uri": "https://localhost:8080/"
        },
        "outputId": "7eb0664c-f55f-4a72-e4ce-0e16238b34d2"
      },
      "execution_count": 37,
      "outputs": [
        {
          "output_type": "stream",
          "name": "stdout",
          "text": [
            "82\n"
          ]
        }
      ]
    },
    {
      "cell_type": "code",
      "source": [
        "pred_list = []\n",
        "for i in range(future):   \n",
        "    pred_list.append(model.predict(predset)[0]) "
      ],
      "metadata": {
        "id": "bqqRkHs7LADQ"
      },
      "execution_count": 39,
      "outputs": []
    },
    {
      "cell_type": "code",
      "source": [
        "df_predict = pd.DataFrame()\n",
        "df_predict['date'] = date_generated\n",
        "df_predict['prediction'] = sc.inverse_transform(pred_list)\n"
      ],
      "metadata": {
        "id": "o46ZD5rrrSDR",
        "colab": {
          "base_uri": "https://localhost:8080/"
        },
        "outputId": "17e1ec9a-e16d-4338-85f7-b80a3dfa1168"
      },
      "execution_count": 49,
      "outputs": [
        {
          "output_type": "stream",
          "name": "stdout",
          "text": [
            "         date  prediction\n",
            "0  2020-07-10  107.100996\n",
            "1  2020-07-11  107.100996\n",
            "2  2020-07-12  107.100996\n",
            "3  2020-07-13  107.100996\n",
            "4  2020-07-14  107.100996\n",
            "..        ...         ...\n",
            "77 2020-09-25  107.100996\n",
            "78 2020-09-26  107.100996\n",
            "79 2020-09-27  107.100996\n",
            "80 2020-09-28  107.100996\n",
            "81 2020-09-29  107.100996\n",
            "\n",
            "[82 rows x 2 columns]\n"
          ]
        }
      ]
    }
  ]
}