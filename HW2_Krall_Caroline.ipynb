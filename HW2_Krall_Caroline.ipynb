{
  "nbformat": 4,
  "nbformat_minor": 0,
  "metadata": {
    "colab": {
      "name": "HW2_Krall_Caroline.ipynb",
      "provenance": [],
      "collapsed_sections": []
    },
    "kernelspec": {
      "name": "python3",
      "display_name": "Python 3"
    },
    "language_info": {
      "name": "python"
    }
  },
  "cells": [
    {
      "cell_type": "code",
      "execution_count": 14,
      "metadata": {
        "id": "lb_lyg2qUGMH"
      },
      "outputs": [],
      "source": [
        "import torch\n",
        "import matplotlib.pyplot as plt\n",
        "import torchvision\n",
        "import torchvision.transforms as transforms"
      ]
    },
    {
      "cell_type": "code",
      "source": [
        "transform = transforms.Compose(\n",
        "    [transforms.ToTensor(),\n",
        "     transforms.Normalize((0.5, 0.5, 0.5), (0.5, 0.5, 0.5))])\n",
        "\n",
        "batch_size = 4\n",
        "\n",
        "trainset = torchvision.datasets.CIFAR10(root='./data', train=True,\n",
        "                                        download=True, transform=transform)\n",
        "trainloader = torch.utils.data.DataLoader(trainset, batch_size=batch_size,\n",
        "                                          shuffle=True, num_workers=2)\n",
        "\n",
        "testset = torchvision.datasets.CIFAR10(root='./data', train=False,\n",
        "                                       download=True, transform=transform)\n",
        "testloader = torch.utils.data.DataLoader(testset, batch_size=batch_size,\n",
        "                                         shuffle=False, num_workers=2)\n",
        "\n",
        "classes = ('plane', 'car', 'bird', 'cat',\n",
        "           'deer', 'dog', 'frog', 'horse', 'ship', 'truck')\n",
        "\n"
      ],
      "metadata": {
        "colab": {
          "base_uri": "https://localhost:8080/"
        },
        "id": "lMQE_9DeUep5",
        "outputId": "0b8ba70f-cc0c-42cd-d03f-c6f7f5d3da09"
      },
      "execution_count": 15,
      "outputs": [
        {
          "output_type": "stream",
          "name": "stdout",
          "text": [
            "Files already downloaded and verified\n",
            "Files already downloaded and verified\n"
          ]
        }
      ]
    },
    {
      "cell_type": "code",
      "source": [
        "import torch.nn as nn\n",
        "import torch.nn.functional as F\n",
        "\n",
        "\n",
        "class Net(nn.Module):\n",
        "    def __init__(self):\n",
        "        super().__init__()\n",
        "        self.conv1 = nn.Conv2d(3, 6, 5)\n",
        "        self.pool = nn.MaxPool2d(2, 2)\n",
        "        self.conv2 = nn.Conv2d(6, 16, 5)\n",
        "        self.fc1 = nn.Linear(16 * 5 * 5, 120)\n",
        "        self.fc2 = nn.Linear(120, 84)\n",
        "        self.fc3 = nn.Linear(84, 10)\n",
        "\n",
        "    def forward(self, x):\n",
        "        x = self.pool(F.relu(self.conv1(x)))\n",
        "        x = self.pool(F.relu(self.conv2(x)))\n",
        "        x = torch.flatten(x, 1) # flatten all dimensions except batch\n",
        "        x = F.relu(self.fc1(x))\n",
        "        x = F.relu(self.fc2(x))\n",
        "        x = self.fc3(x)\n",
        "        return x\n",
        "\n",
        "\n",
        "net = Net()"
      ],
      "metadata": {
        "id": "75x9UAoXUjjI"
      },
      "execution_count": 16,
      "outputs": []
    },
    {
      "cell_type": "code",
      "source": [
        "class Net1(nn.Module):\n",
        "    def __init__(self):\n",
        "        super(Net1, self).__init__()\n",
        "        # input: [batch_size, input_size]\n",
        "        # Linear: input_size (previous line), out_size:\n",
        "        self.fc1 = nn.Linear(3072, 512)\n",
        "        self.fc2 = nn.Linear(512, 10)\n",
        "        self.dropout = nn.Dropout(0.5) \n",
        "\n",
        "    def forward(self, x):\n",
        "        # your input size is: [4, 3, 32, 32], where batch_size=4, 3 is the\n",
        "        # number of channels, and 32*32 is the image size\n",
        "        #x=torch.reshape(x,(4,-1))\n",
        "        x = torch.flatten(x, 1)\n",
        "        x = self.dropout(self.fc1(x))\n",
        "        x = F.relu(x)\n",
        "        #x = self.fc2(x)\n",
        "        out = self.fc2(x)\n",
        "        return out\n",
        "\n",
        "\n",
        "net1 = Net1()"
      ],
      "metadata": {
        "id": "aR0ntOQlIzSp"
      },
      "execution_count": 17,
      "outputs": []
    },
    {
      "cell_type": "code",
      "source": [
        "class Net2(nn.Module):\n",
        "    def __init__(self):\n",
        "        super(Net2, self).__init__()\n",
        "        self.fc1 = nn.Linear(3072, 512)\n",
        "        self.fc2 = nn.Linear(512, 256)\n",
        "        self.fc3 = nn.Linear(256, 10)\n",
        "        self.dropout = nn.Dropout(0.5) \n",
        "\n",
        "    def forward(self, x):\n",
        "        x = torch.flatten(x, 1)\n",
        "        x = self.dropout(self.fc1(x))\n",
        "        x = F.relu(x)\n",
        "        x = self.dropout(self.fc2(x))\n",
        "        x = F.relu(x)\n",
        "        out = self.fc3(x)\n",
        "        return out\n",
        "\n",
        "\n",
        "net2 = Net2()"
      ],
      "metadata": {
        "id": "ch6Q7QfJk01e"
      },
      "execution_count": 18,
      "outputs": []
    },
    {
      "cell_type": "code",
      "source": [
        "class Net3(nn.Module):\n",
        "    def __init__(self):\n",
        "        super(Net3, self).__init__()\n",
        "        self.fc1 = nn.Linear(3072, 512)\n",
        "        self.fc2 = nn.Linear(512, 256)\n",
        "        self.fc3 = nn.Linear(256, 128)\n",
        "        self.fc4 = nn.Linear(128, 10)\n",
        "        self.dropout = nn.Dropout(0.5) \n",
        "\n",
        "    def forward(self, x):\n",
        "        x = torch.flatten(x, 1)\n",
        "        x = self.dropout(self.fc1(x))\n",
        "        x = F.relu(x)\n",
        "        x = self.dropout(self.fc2(x))\n",
        "        x = F.relu(x)\n",
        "        x = self.dropout(self.fc3(x))\n",
        "        x = F.relu(x)\n",
        "        out = self.fc4(x)\n",
        "        return out\n",
        "\n",
        "\n",
        "net3 = Net3()"
      ],
      "metadata": {
        "id": "2CqXjz5Gk1Ci"
      },
      "execution_count": 19,
      "outputs": []
    },
    {
      "cell_type": "code",
      "source": [
        "class Net4(nn.Module):\n",
        "    def __init__(self):\n",
        "        super(Net4, self).__init__()\n",
        "        self.fc1 = nn.Linear(3072, 512)\n",
        "        self.fc2 = nn.Linear(512, 256)\n",
        "        self.fc3 = nn.Linear(256, 128)\n",
        "        self.fc4 = nn.Linear(128, 64)\n",
        "        self.fc5 = nn.Linear(64, 10)\n",
        "        self.dropout = nn.Dropout(0.5) \n",
        "\n",
        "    def forward(self, x):\n",
        "        x = torch.flatten(x, 1)\n",
        "        x = self.dropout(self.fc1(x))\n",
        "        x = F.relu(x)\n",
        "        x = self.dropout(self.fc2(x))\n",
        "        x = F.relu(x)\n",
        "        x = self.dropout(self.fc3(x))\n",
        "        x = F.relu(x)\n",
        "        x = self.dropout(self.fc4(x))\n",
        "        x = F.relu(x)\n",
        "        out = self.fc5(x)\n",
        "        return out\n",
        "\n",
        "\n",
        "net4 = Net4()"
      ],
      "metadata": {
        "id": "ibeyMlTbk1Yt"
      },
      "execution_count": 20,
      "outputs": []
    },
    {
      "cell_type": "code",
      "source": [
        "#class Net0(nn.Module):\n",
        " #   def __init__(self):\n",
        "  #      super(Net0, self).__init__()\n",
        " #       self.fc1 = nn.Linear(32*32*3, 512)\n",
        " #       self.fc2 = nn.Linear(512, 10)\n",
        " #       self.dropout = nn.Dropout(0.5) \n",
        "\n",
        "  #  def forward(self, x):\n",
        " #       x = self.dropoutself.fc1(x)\n",
        "   #     x = self.fc2(x)\n",
        "   #     out = self.fc2(x)\n",
        "   #     return out\n",
        "#\n",
        "\n",
        "#net0 = Net0()"
      ],
      "metadata": {
        "id": "Gy8lYZbZhqcq"
      },
      "execution_count": 21,
      "outputs": []
    },
    {
      "cell_type": "markdown",
      "source": [
        "optimize all the networks"
      ],
      "metadata": {
        "id": "G-wURkD0mqp3"
      }
    },
    {
      "cell_type": "code",
      "source": [
        "import torch.optim as optim\n",
        "\n",
        "criterion = nn.CrossEntropyLoss()\n",
        "optimizer = optim.SGD(net.parameters(), lr=0.001, momentum=0.9)"
      ],
      "metadata": {
        "id": "pXD2Or--V6bQ"
      },
      "execution_count": 22,
      "outputs": []
    },
    {
      "cell_type": "code",
      "source": [
        "for epoch in range(2):  # loop over the dataset multiple times\n",
        "\n",
        "    running_loss = 0.0\n",
        "    for i, data in enumerate(trainloader, 0):\n",
        "        # get the inputs; data is a list of [inputs, labels]\n",
        "        inputs, labels = data\n",
        "\n",
        "        # zero the parameter gradients\n",
        "        optimizer.zero_grad()\n",
        "\n",
        "        # forward + backward + optimize\n",
        "        outputs = net(inputs)\n",
        "        loss = criterion(outputs, labels)\n",
        "        loss.backward()\n",
        "        optimizer.step()\n",
        "\n",
        "        # print statistics\n",
        "        running_loss += loss.item()\n",
        "        if i % 2000 == 1999:    # print every 2000 mini-batches\n",
        "            print(f'[{epoch + 1}, {i + 1:5d}] loss: {running_loss / 2000:.3f}')\n",
        "            running_loss = 0.0\n",
        "\n",
        "print('Finished Training')"
      ],
      "metadata": {
        "id": "C1uTWlm5mjAj",
        "colab": {
          "base_uri": "https://localhost:8080/"
        },
        "outputId": "b0f7c079-978f-4154-eda4-25868f28729c"
      },
      "execution_count": 23,
      "outputs": [
        {
          "output_type": "stream",
          "name": "stdout",
          "text": [
            "[1,  2000] loss: 2.261\n",
            "[1,  4000] loss: 1.900\n",
            "[1,  6000] loss: 1.697\n",
            "[1,  8000] loss: 1.570\n",
            "[1, 10000] loss: 1.516\n",
            "[1, 12000] loss: 1.483\n",
            "[2,  2000] loss: 1.428\n",
            "[2,  4000] loss: 1.372\n",
            "[2,  6000] loss: 1.354\n",
            "[2,  8000] loss: 1.348\n",
            "[2, 10000] loss: 1.321\n",
            "[2, 12000] loss: 1.323\n",
            "Finished Training\n"
          ]
        }
      ]
    },
    {
      "cell_type": "code",
      "source": [
        "for epoch in range(2):  # loop over the dataset multiple times\n",
        "\n",
        "    running_loss = 0.0\n",
        "    for i, data in enumerate(trainloader, 0):\n",
        "        # get the inputs; data is a list of [inputs, labels]\n",
        "        inputs, labels = data\n",
        "\n",
        "        # zero the parameter gradients\n",
        "        optimizer.zero_grad()\n",
        "\n",
        "        # forward + backward + optimize\n",
        "        outputs = net1(inputs)\n",
        "        loss = criterion(outputs, labels)\n",
        "        loss.backward()\n",
        "        optimizer.step()\n",
        "\n",
        "        # print statistics\n",
        "        running_loss += loss.item()\n",
        "        if i % 2000 == 1999:    # print every 2000 mini-batches\n",
        "            print(f'[{epoch + 1}, {i + 1:5d}] loss: {running_loss / 2000:.3f}')\n",
        "            running_loss = 0.0\n",
        "\n",
        "print('Finished Training')"
      ],
      "metadata": {
        "id": "toDsuNylnJSa",
        "colab": {
          "base_uri": "https://localhost:8080/"
        },
        "outputId": "34aabc57-bc3d-4863-da55-a054d5ba40d7"
      },
      "execution_count": 24,
      "outputs": [
        {
          "output_type": "stream",
          "name": "stdout",
          "text": [
            "[1,  2000] loss: 2.305\n",
            "[1,  4000] loss: 2.305\n",
            "[1,  6000] loss: 2.308\n",
            "[1,  8000] loss: 2.306\n",
            "[1, 10000] loss: 2.303\n",
            "[1, 12000] loss: 2.308\n",
            "[2,  2000] loss: 2.304\n",
            "[2,  4000] loss: 2.303\n",
            "[2,  6000] loss: 2.306\n",
            "[2,  8000] loss: 2.308\n",
            "[2, 10000] loss: 2.305\n",
            "[2, 12000] loss: 2.305\n",
            "Finished Training\n"
          ]
        }
      ]
    },
    {
      "cell_type": "code",
      "source": [
        "for epoch in range(2):  # loop over the dataset multiple times\n",
        "\n",
        "    running_loss = 0.0\n",
        "    for i, data in enumerate(trainloader, 0):\n",
        "        # get the inputs; data is a list of [inputs, labels]\n",
        "        inputs, labels = data\n",
        "\n",
        "        # zero the parameter gradients\n",
        "        optimizer.zero_grad()\n",
        "\n",
        "        # forward + backward + optimize\n",
        "        outputs = net2(inputs)\n",
        "        loss = criterion(outputs, labels)\n",
        "        loss.backward()\n",
        "        optimizer.step()\n",
        "\n",
        "        # print statistics\n",
        "        running_loss += loss.item()\n",
        "        if i % 2000 == 1999:    # print every 2000 mini-batches\n",
        "            print(f'[{epoch + 1}, {i + 1:5d}] loss: {running_loss / 2000:.3f}')\n",
        "            running_loss = 0.0\n",
        "\n",
        "print('Finished Training')"
      ],
      "metadata": {
        "colab": {
          "base_uri": "https://localhost:8080/"
        },
        "id": "bM1GVhEOesRb",
        "outputId": "3b7cc8f5-bc0c-4bb0-a27e-d67ab6e2ec78"
      },
      "execution_count": 25,
      "outputs": [
        {
          "output_type": "stream",
          "name": "stdout",
          "text": [
            "[1,  2000] loss: 2.314\n",
            "[1,  4000] loss: 2.312\n",
            "[1,  6000] loss: 2.313\n",
            "[1,  8000] loss: 2.313\n",
            "[1, 10000] loss: 2.313\n",
            "[1, 12000] loss: 2.311\n",
            "[2,  2000] loss: 2.313\n",
            "[2,  4000] loss: 2.312\n",
            "[2,  6000] loss: 2.313\n",
            "[2,  8000] loss: 2.313\n",
            "[2, 10000] loss: 2.314\n",
            "[2, 12000] loss: 2.312\n",
            "Finished Training\n"
          ]
        }
      ]
    },
    {
      "cell_type": "code",
      "source": [
        "for epoch in range(2):  # loop over the dataset multiple times\n",
        "\n",
        "    running_loss = 0.0\n",
        "    for i, data in enumerate(trainloader, 0):\n",
        "        # get the inputs; data is a list of [inputs, labels]\n",
        "        inputs, labels = data\n",
        "\n",
        "        # zero the parameter gradients\n",
        "        optimizer.zero_grad()\n",
        "\n",
        "        # forward + backward + optimize\n",
        "        outputs = net3(inputs)\n",
        "        loss = criterion(outputs, labels)\n",
        "        loss.backward()\n",
        "        optimizer.step()\n",
        "\n",
        "        # print statistics\n",
        "        running_loss += loss.item()\n",
        "        if i % 2000 == 1999:    # print every 2000 mini-batches\n",
        "            print(f'[{epoch + 1}, {i + 1:5d}] loss: {running_loss / 2000:.3f}')\n",
        "            running_loss = 0.0\n",
        "\n",
        "print('Finished Training')"
      ],
      "metadata": {
        "colab": {
          "base_uri": "https://localhost:8080/"
        },
        "id": "3TT2ZDnkh652",
        "outputId": "d63ccf82-2286-4161-f10a-88fe61c935f8"
      },
      "execution_count": 26,
      "outputs": [
        {
          "output_type": "stream",
          "name": "stdout",
          "text": [
            "[1,  2000] loss: 2.305\n",
            "[1,  4000] loss: 2.306\n",
            "[1,  6000] loss: 2.305\n",
            "[1,  8000] loss: 2.306\n",
            "[1, 10000] loss: 2.305\n",
            "[1, 12000] loss: 2.305\n",
            "[2,  2000] loss: 2.305\n",
            "[2,  4000] loss: 2.306\n",
            "[2,  6000] loss: 2.305\n",
            "[2,  8000] loss: 2.305\n",
            "[2, 10000] loss: 2.307\n",
            "[2, 12000] loss: 2.305\n",
            "Finished Training\n"
          ]
        }
      ]
    },
    {
      "cell_type": "code",
      "source": [
        "for epoch in range(2):  # loop over the dataset multiple times\n",
        "\n",
        "    running_loss = 0.0\n",
        "    for i, data in enumerate(trainloader, 0):\n",
        "        # get the inputs; data is a list of [inputs, labels]\n",
        "        inputs, labels = data\n",
        "\n",
        "        # zero the parameter gradients\n",
        "        optimizer.zero_grad()\n",
        "\n",
        "        # forward + backward + optimize\n",
        "        outputs = net4(inputs)\n",
        "        loss = criterion(outputs, labels)\n",
        "        loss.backward()\n",
        "        optimizer.step()\n",
        "\n",
        "        # print statistics\n",
        "        running_loss += loss.item()\n",
        "        if i % 2000 == 1999:    # print every 2000 mini-batches\n",
        "            print(f'[{epoch + 1}, {i + 1:5d}] loss: {running_loss / 2000:.3f}')\n",
        "            running_loss = 0.0\n",
        "\n",
        "print('Finished Training')"
      ],
      "metadata": {
        "colab": {
          "base_uri": "https://localhost:8080/"
        },
        "id": "V_8Tr4gZyBuq",
        "outputId": "49e8b582-b594-4a2f-dada-5fa35eeb3094"
      },
      "execution_count": 27,
      "outputs": [
        {
          "output_type": "stream",
          "name": "stdout",
          "text": [
            "[1,  2000] loss: 2.305\n",
            "[1,  4000] loss: 2.304\n",
            "[1,  6000] loss: 2.305\n",
            "[1,  8000] loss: 2.306\n",
            "[1, 10000] loss: 2.306\n",
            "[1, 12000] loss: 2.304\n",
            "[2,  2000] loss: 2.304\n",
            "[2,  4000] loss: 2.304\n",
            "[2,  6000] loss: 2.305\n",
            "[2,  8000] loss: 2.305\n",
            "[2, 10000] loss: 2.303\n",
            "[2, 12000] loss: 2.305\n",
            "Finished Training\n"
          ]
        }
      ]
    },
    {
      "cell_type": "markdown",
      "source": [
        "Plot"
      ],
      "metadata": {
        "id": "hvQFPsTAmxaN"
      }
    },
    {
      "cell_type": "markdown",
      "source": [
        "Test accuracy for each model:"
      ],
      "metadata": {
        "id": "ygrpEGDriSjg"
      }
    },
    {
      "cell_type": "code",
      "source": [
        "epochs = 10\n",
        "accuracyx = []\n",
        "for i in range(epochs):\n",
        "# prepare to count predictions for each class\n",
        "  correct_pred = {classname: 0 for classname in classes}\n",
        "  total_pred = {classname: 0 for classname in classes}\n",
        "\n",
        "\n",
        "# again no gradients needed\n",
        "  with torch.no_grad():\n",
        "      for data in testloader:\n",
        "          images, labels = data\n",
        "          outputs = net(images)\n",
        "          _, predictions = torch.max(outputs, 1)\n",
        "          # collect the correct predictions for each class\n",
        "          for label, prediction in zip(labels, predictions):\n",
        "              if label == prediction:\n",
        "                  correct_pred[classes[label]] += 1\n",
        "              total_pred[classes[label]] += 1\n",
        "\n",
        "  for classname, correct_count in correct_pred.items():\n",
        "      accuracy = 100 * float(correct_count) / total_pred[classname]\n",
        "      accuracyx.append(accuracy)\n",
        "\n",
        "\n",
        "\n",
        "accuracyx1 = []\n",
        "for i in range(epochs):\n",
        "# prepare to count predictions for each class\n",
        "  correct_pred = {classname: 0 for classname in classes}\n",
        "  total_pred = {classname: 0 for classname in classes}\n",
        "\n",
        "\n",
        "# again no gradients needed\n",
        "  with torch.no_grad():\n",
        "      for data in testloader:\n",
        "          images, labels = data\n",
        "          outputs = net1(images)\n",
        "          _, predictions = torch.max(outputs, 1)\n",
        "          # collect the correct predictions for each class\n",
        "          for label, prediction in zip(labels, predictions):\n",
        "              if label == prediction:\n",
        "                  correct_pred[classes[label]] += 1\n",
        "              total_pred[classes[label]] += 1\n",
        "\n",
        "  for classname, correct_count in correct_pred.items():\n",
        "      accuracy = 100 * float(correct_count) / total_pred[classname]\n",
        "      accuracyx1.append(accuracy)\n",
        "\n",
        "accuracyx2 = []\n",
        "for i in range(epochs):\n",
        "# prepare to count predictions for each class\n",
        "  correct_pred = {classname: 0 for classname in classes}\n",
        "  total_pred = {classname: 0 for classname in classes}\n",
        "\n",
        "\n",
        "# again no gradients needed\n",
        "  with torch.no_grad():\n",
        "      for data in testloader:\n",
        "          images, labels = data\n",
        "          outputs = net2(images)\n",
        "          _, predictions = torch.max(outputs, 1)\n",
        "          # collect the correct predictions for each class\n",
        "          for label, prediction in zip(labels, predictions):\n",
        "              if label == prediction:\n",
        "                  correct_pred[classes[label]] += 1\n",
        "              total_pred[classes[label]] += 1\n",
        "\n",
        "  for classname, correct_count in correct_pred.items():\n",
        "      accuracy = 100 * float(correct_count) / total_pred[classname]\n",
        "      accuracyx2.append(accuracy)\n",
        "\n",
        "accuracyx3 = []\n",
        "for i in range(epochs):\n",
        "# prepare to count predictions for each class\n",
        "  correct_pred = {classname: 0 for classname in classes}\n",
        "  total_pred = {classname: 0 for classname in classes}\n",
        "\n",
        "\n",
        "# again no gradients needed\n",
        "  with torch.no_grad():\n",
        "      for data in testloader:\n",
        "          images, labels = data\n",
        "          outputs = net3(images)\n",
        "          _, predictions = torch.max(outputs, 1)\n",
        "          # collect the correct predictions for each class\n",
        "          for label, prediction in zip(labels, predictions):\n",
        "              if label == prediction:\n",
        "                  correct_pred[classes[label]] += 1\n",
        "              total_pred[classes[label]] += 1\n",
        "\n",
        "  for classname, correct_count in correct_pred.items():\n",
        "      accuracy = 100 * float(correct_count) / total_pred[classname]\n",
        "      accuracyx3.append(accuracy)\n",
        "\n",
        "accuracyx4 = []\n",
        "for i in range(epochs):\n",
        "# prepare to count predictions for each class\n",
        "  correct_pred = {classname: 0 for classname in classes}\n",
        "  total_pred = {classname: 0 for classname in classes}\n",
        "\n",
        "\n",
        "# again no gradients needed\n",
        "  with torch.no_grad():\n",
        "      for data in testloader:\n",
        "          images, labels = data\n",
        "          outputs = net4(images)\n",
        "          _, predictions = torch.max(outputs, 1)\n",
        "          # collect the correct predictions for each class\n",
        "          for label, prediction in zip(labels, predictions):\n",
        "              if label == prediction:\n",
        "                  correct_pred[classes[label]] += 1\n",
        "              total_pred[classes[label]] += 1\n",
        "\n",
        "  for classname, correct_count in correct_pred.items():\n",
        "      accuracy = 100 * float(correct_count) / total_pred[classname]\n",
        "      accuracyx4.append(accuracy)\n",
        "\n",
        "epochx4 = range(0,100)\n",
        "epochx5 = range(0,200)\n",
        "plt.plot(epochx5, accuracyx)\n",
        "plt.plot(epochx4, accuracyx1)\n",
        "plt.plot(epochx4, accuracyx2)\n",
        "plt.plot(epochx4, accuracyx3)\n",
        "plt.plot(epochx4, accuracyx4)\n",
        "plt.xlim(0,10)\n",
        "plt.ylabel(\"Test Accuracy\")\n",
        "plt.xlabel(\"Epoch\")\n",
        "\n",
        "\n",
        "\n"
      ],
      "metadata": {
        "id": "vAKxbT85iQLh",
        "colab": {
          "base_uri": "https://localhost:8080/",
          "height": 296
        },
        "outputId": "78acb315-5d00-4111-9093-072b8e032023"
      },
      "execution_count": 76,
      "outputs": [
        {
          "output_type": "execute_result",
          "data": {
            "text/plain": [
              "Text(0.5, 0, 'Epoch')"
            ]
          },
          "metadata": {},
          "execution_count": 76
        },
        {
          "output_type": "display_data",
          "data": {
            "image/png": "[encoded data removed]",
            "text/plain": [
              "<Figure size 432x288 with 1 Axes>"
            ]
          },
          "metadata": {
            "needs_background": "light"
          }
        }
      ]
    },
    {
      "cell_type": "markdown",
      "source": [
        "Graph: Test accuracy vs epoch"
      ],
      "metadata": {
        "id": "n1OaKD95iXeu"
      }
    },
    {
      "cell_type": "markdown",
      "source": [
        "The CNN (in blue) performs much better over time than the fully connected networks. This is because as the data becomes filtered down, the variance between potential classifications will become smaller, whereas in a fully connected neural network, the data is not getting reduced and so there is a higher amount of variation between potential predictions."
      ],
      "metadata": {
        "id": "fOykLtEFypwY"
      }
    },
    {
      "cell_type": "markdown",
      "source": [
        "Part b"
      ],
      "metadata": {
        "id": "ZVCtSp0-L1kF"
      }
    },
    {
      "cell_type": "code",
      "source": [
        "\n",
        "class Nets(nn.Module):\n",
        "    def __init__(self):\n",
        "        super().__init__()\n",
        "        self.conv1 = nn.Conv2d(3, 6, 5)\n",
        "        self.pool = nn.MaxPool2d(2, 2)\n",
        "        self.conv2 = nn.Conv2d(6, 16, 5)\n",
        "        self.fc1 = nn.Linear(16 * 5 * 5, 120)\n",
        "        self.fc2 = nn.Linear(120, 84)\n",
        "        self.fc3 = nn.Linear(84, 10)\n",
        "\n",
        "    def forward(self, x):\n",
        "        x = self.pool(F.relu(self.conv1(x)))\n",
        "        x = self.pool(F.relu(self.conv2(x)))\n",
        "        x = torch.flatten(x, 1) # flatten all dimensions except batch\n",
        "        x = torch.sigmoid(self.fc1(x))\n",
        "        x = torch.sigmoid(self.fc2(x))\n",
        "        x = self.fc3(x)\n",
        "        return x\n",
        "\n",
        "\n",
        "nets = Nets()"
      ],
      "metadata": {
        "id": "wjopYFA3L0jj"
      },
      "execution_count": 47,
      "outputs": []
    },
    {
      "cell_type": "code",
      "source": [
        "\n",
        "for epoch in range(2):  # loop over the dataset multiple times\n",
        "\n",
        "    running_loss = 0.0\n",
        "    for i, data in enumerate(trainloader, 0):\n",
        "        # get the inputs; data is a list of [inputs, labels]\n",
        "        inputs, labels = data\n",
        "\n",
        "        # zero the parameter gradients\n",
        "        optimizer.zero_grad()\n",
        "\n",
        "        # forward + backward + optimize\n",
        "        outputs = net(inputs)\n",
        "        loss = criterion(outputs, labels)\n",
        "        loss.backward()\n",
        "        optimizer.step()\n",
        "\n",
        "        # print statistics\n",
        "        running_loss += loss.item()\n",
        "        if i % 2000 == 1999:    # print every 2000 mini-batches\n",
        "            print(f'[{epoch + 1}, {i + 1:5d}] loss: {running_loss / 2000:.3f}')\n",
        "            running_loss = 0.0\n",
        "\n",
        "print('Finished Training')"
      ],
      "metadata": {
        "colab": {
          "base_uri": "https://localhost:8080/"
        },
        "id": "yGhX2pvtMDMQ",
        "outputId": "7e3a0b49-f023-4147-afaa-f53c9492a683"
      },
      "execution_count": 48,
      "outputs": [
        {
          "output_type": "stream",
          "name": "stdout",
          "text": [
            "[1,  2000] loss: 1.258\n",
            "[1,  4000] loss: 1.245\n",
            "[1,  6000] loss: 1.225\n",
            "[1,  8000] loss: 1.219\n",
            "[1, 10000] loss: 1.204\n",
            "[1, 12000] loss: 1.211\n",
            "[2,  2000] loss: 1.141\n",
            "[2,  4000] loss: 1.127\n",
            "[2,  6000] loss: 1.127\n",
            "[2,  8000] loss: 1.136\n",
            "[2, 10000] loss: 1.138\n",
            "[2, 12000] loss: 1.115\n",
            "Finished Training\n"
          ]
        }
      ]
    },
    {
      "cell_type": "markdown",
      "source": [
        "Test the data"
      ],
      "metadata": {
        "id": "KQe6zvKYO6Aa"
      }
    },
    {
      "cell_type": "code",
      "source": [
        "epochs = 10\n",
        "accuracyx = []\n",
        "for i in range(epochs):\n",
        "# prepare to count predictions for each class\n",
        "  correct_pred = {classname: 0 for classname in classes}\n",
        "  total_pred = {classname: 0 for classname in classes}\n",
        "\n",
        "\n",
        "# again no gradients needed\n",
        "  with torch.no_grad():\n",
        "      for data in testloader:\n",
        "          images, labels = data\n",
        "          outputs = net(images)\n",
        "          _, predictions = torch.max(outputs, 1)\n",
        "          # collect the correct predictions for each class\n",
        "          for label, prediction in zip(labels, predictions):\n",
        "              if label == prediction:\n",
        "                  correct_pred[classes[label]] += 1\n",
        "              total_pred[classes[label]] += 1\n",
        "\n",
        "  for classname, correct_count in correct_pred.items():\n",
        "      accuracy = 100 * float(correct_count) / total_pred[classname]\n",
        "      accuracyx.append(accuracy)\n",
        "\n",
        "\n",
        "\n",
        "accuracyxs = []\n",
        "for i in range(epochs):\n",
        "# prepare to count predictions for each class\n",
        "  correct_pred = {classname: 0 for classname in classes}\n",
        "  total_pred = {classname: 0 for classname in classes}\n",
        "\n",
        "\n",
        "# again no gradients needed\n",
        "  with torch.no_grad():\n",
        "      for data in testloader:\n",
        "          images, labels = data\n",
        "          outputs = nets(images)\n",
        "          _, predictions = torch.max(outputs, 1)\n",
        "          # collect the correct predictions for each class\n",
        "          for label, prediction in zip(labels, predictions):\n",
        "              if label == prediction:\n",
        "                  correct_pred[classes[label]] += 1\n",
        "              total_pred[classes[label]] += 1\n",
        "\n",
        "  for classname, correct_count in correct_pred.items():\n",
        "      accuracy = 100 * float(correct_count) / total_pred[classname]\n",
        "      accuracyxs.append(accuracy)\n",
        "\n",
        "epochx = range(0,100)\n",
        "epochx3 = range(0,200)\n",
        "plt.plot(epochx3, accuracyx)\n",
        "plt.plot(epochx, accuracyxs)\n",
        "plt.xlim(0,10)\n",
        "plt.ylabel(\"Test Accuracy\")\n",
        "plt.xlabel(\"Epoch\")\n"
      ],
      "metadata": {
        "id": "7-rMJhlHPKls",
        "colab": {
          "base_uri": "https://localhost:8080/",
          "height": 296
        },
        "outputId": "bc54dcfb-16db-4dd9-98e6-a9c6ddfc2a6a"
      },
      "execution_count": 71,
      "outputs": [
        {
          "output_type": "execute_result",
          "data": {
            "text/plain": [
              "Text(0.5, 0, 'Epoch')"
            ]
          },
          "metadata": {},
          "execution_count": 71
        },
        {
          "output_type": "display_data",
          "data": {
            "image/png": "[encoded data removed]",
            "text/plain": [
              "<Figure size 432x288 with 1 Axes>"
            ]
          },
          "metadata": {
            "needs_background": "light"
          }
        }
      ]
    },
    {
      "cell_type": "markdown",
      "source": [
        "The relu network performs much better than the sigmoid network, because the signoid function is a binary classifier, so basically the relu function can be more accurate more of the time. It can get closer to being correct. "
      ],
      "metadata": {
        "id": "yMkmQdsS0Eoz"
      }
    },
    {
      "cell_type": "markdown",
      "source": [
        "Part C:"
      ],
      "metadata": {
        "id": "7UgQkjGJZ0B6"
      }
    },
    {
      "cell_type": "code",
      "source": [
        "class Netdr(nn.Module):\n",
        "    def __init__(self):\n",
        "        super().__init__()\n",
        "        self.conv1 = nn.Conv2d(3, 6, 5)\n",
        "        self.pool = nn.MaxPool2d(2, 2)\n",
        "        self.conv2 = nn.Conv2d(6, 16, 5)\n",
        "        self.fc1 = nn.Linear(16 * 5 * 5, 120)\n",
        "        self.fc2 = nn.Linear(120, 84)\n",
        "        self.fc3 = nn.Linear(84, 10)\n",
        "        self.dropout = nn.Dropout(0.5)\n",
        "\n",
        "    def forward(self, x):\n",
        "        x = self.pool(F.relu(self.conv1(x)))\n",
        "        x = self.pool(F.relu(self.conv2(x)))\n",
        "        x = torch.flatten(x, 1) # flatten all dimensions except batch\n",
        "        x = self.dropout(self.fc1(x))\n",
        "        x = F.relu(x)\n",
        "        x = self.dropout(self.fc2(x))\n",
        "        x = F.relu(x)\n",
        "        x = self.fc3(x)\n",
        "        return x\n",
        "\n",
        "\n",
        "netdr = Netdr()"
      ],
      "metadata": {
        "id": "Fa1bNfjBZ2Zj"
      },
      "execution_count": 59,
      "outputs": []
    },
    {
      "cell_type": "code",
      "source": [
        "for epoch in range(2):  # loop over the dataset multiple times\n",
        "\n",
        "    running_loss = 0.0\n",
        "    for i, data in enumerate(trainloader, 0):\n",
        "        # get the inputs; data is a list of [inputs, labels]\n",
        "        inputs, labels = data\n",
        "\n",
        "        # zero the parameter gradients\n",
        "        optimizer.zero_grad()\n",
        "\n",
        "        # forward + backward + optimize\n",
        "        outputs = netdr(inputs)\n",
        "        loss = criterion(outputs, labels)\n",
        "        loss.backward()\n",
        "        optimizer.step()\n",
        "\n",
        "        # print statistics\n",
        "        running_loss += loss.item()\n",
        "        if i % 2000 == 1999:    # print every 2000 mini-batches\n",
        "            print(f'[{epoch + 1}, {i + 1:5d}] loss: {running_loss / 2000:.3f}')\n",
        "            running_loss = 0.0\n",
        "\n",
        "print('Finished Training')"
      ],
      "metadata": {
        "colab": {
          "base_uri": "https://localhost:8080/"
        },
        "id": "oYDRYTvqaNiT",
        "outputId": "4270ee46-1cc4-4f76-aba8-a892c782babc"
      },
      "execution_count": 60,
      "outputs": [
        {
          "output_type": "stream",
          "name": "stdout",
          "text": [
            "[1,  2000] loss: 2.305\n",
            "[1,  4000] loss: 2.306\n",
            "[1,  6000] loss: 2.307\n",
            "[1,  8000] loss: 2.305\n",
            "[1, 10000] loss: 2.305\n",
            "[1, 12000] loss: 2.307\n",
            "[2,  2000] loss: 2.306\n",
            "[2,  4000] loss: 2.306\n",
            "[2,  6000] loss: 2.306\n",
            "[2,  8000] loss: 2.306\n",
            "[2, 10000] loss: 2.307\n",
            "[2, 12000] loss: 2.304\n",
            "Finished Training\n"
          ]
        }
      ]
    },
    {
      "cell_type": "code",
      "source": [
        "for i in range(epochs):\n",
        "# prepare to count predictions for each class\n",
        "  correct_pred = {classname: 0 for classname in classes}\n",
        "  total_pred = {classname: 0 for classname in classes}\n",
        "\n",
        "\n",
        "# again no gradients needed\n",
        "  with torch.no_grad():\n",
        "      for data in testloader:\n",
        "          images, labels = data\n",
        "          outputs = net(images)\n",
        "          _, predictions = torch.max(outputs, 1)\n",
        "          # collect the correct predictions for each class\n",
        "          for label, prediction in zip(labels, predictions):\n",
        "              if label == prediction:\n",
        "                  correct_pred[classes[label]] += 1\n",
        "              total_pred[classes[label]] += 1\n",
        "\n",
        "  for classname, correct_count in correct_pred.items():\n",
        "      accuracy = 100 * float(correct_count) / total_pred[classname]\n",
        "      accuracyx.append(accuracy)\n",
        "\n",
        "\n",
        "\n",
        "accuracyxdrtest = []\n",
        "for i in range(epochs):\n",
        "# prepare to count predictions for each class\n",
        "  correct_pred = {classname: 0 for classname in classes}\n",
        "  total_pred = {classname: 0 for classname in classes}\n",
        "\n",
        "\n",
        "# again no gradients needed\n",
        "  with torch.no_grad():\n",
        "      for data in testloader:\n",
        "          images, labels = data\n",
        "          outputs = netdr(images)\n",
        "          _, predictions = torch.max(outputs, 1)\n",
        "          # collect the correct predictions for each class\n",
        "          for label, prediction in zip(labels, predictions):\n",
        "              if label == prediction:\n",
        "                  correct_pred[classes[label]] += 1\n",
        "              total_pred[classes[label]] += 1\n",
        "\n",
        "  for classname, correct_count in correct_pred.items():\n",
        "      accuracy = 100 * float(correct_count) / total_pred[classname]\n",
        "      accuracyxdrtest.append(accuracy)\n",
        "\n",
        "\n",
        "epochx = range(0,200)\n",
        "epochx2 = range(0,100)\n",
        "plt.plot(epochx, accuracyx)\n",
        "plt.plot(epochx2, accuracyxdrtest)\n",
        "plt.xlim(0,10)\n",
        "plt.ylabel(\"Test Accuracy\")\n",
        "plt.xlabel(\"Epoch\")\n",
        "\n"
      ],
      "metadata": {
        "colab": {
          "base_uri": "https://localhost:8080/",
          "height": 296
        },
        "id": "F0xSV4E-dDvS",
        "outputId": "193c6f18-df91-48c1-dba6-3040a4ee19c2"
      },
      "execution_count": 69,
      "outputs": [
        {
          "output_type": "execute_result",
          "data": {
            "text/plain": [
              "Text(0.5, 0, 'Epoch')"
            ]
          },
          "metadata": {},
          "execution_count": 69
        },
        {
          "output_type": "display_data",
          "data": {
            "image/png": "[encoded data removed]",
            "text/plain": [
              "<Figure size 432x288 with 1 Axes>"
            ]
          },
          "metadata": {
            "needs_background": "light"
          }
        }
      ]
    },
    {
      "cell_type": "markdown",
      "source": [
        "The CNN without dropout is more accurate. This is because in this instance, each of the neurons in the fully connected contains relevant information, so in dropping half of them, the model loses important information, making it less accurate. In the fully connected case, using dropout improves the efficiency, but since we have already reduced the input size, it is not necessary to use dropout in the CNN case."
      ],
      "metadata": {
        "id": "5nus-uEKkTCp"
      }
    }
  ]
}